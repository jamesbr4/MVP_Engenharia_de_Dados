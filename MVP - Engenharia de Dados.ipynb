{
 "cells": [
  {
   "cell_type": "markdown",
   "metadata": {
    "application/vnd.databricks.v1+cell": {
     "cellMetadata": {
      "byteLimit": 2048000,
      "rowLimit": 10000
     },
     "inputWidgets": {},
     "nuid": "fd001b81-4a50-455b-809b-631df7de351c",
     "showTitle": false,
     "tableResultSettingsMap": {},
     "title": ""
    }
   },
   "source": [
    "# **OBJETIVO**\n",
    "\n",
    "**Fazer um estudo com dados do site IMDB (https://datasets.imdbws.com/), dos últimos 15 anos, sobre as avaliações dos títulos produzidos com avaliações igual ou acima de 5 e votos acima de 10000.**</br>\n",
    "1)\tQuais são os 15 filmes, ordenados por ano (mais recente) e avaliação (maior para o menor), com avaliações igual ou maior que 8?</br>\n",
    "2)\tQuais são os 15 filmes, ordenados por ano (mais recente) e avaliação (menor para o maior), com avaliações igual ou menor que 6?</br>\n",
    "3)\tQuais são os 10 filmes que menos receberam votos? Faça um ranking.</br>\n",
    "4)\tQuais são os 10 filmes que mais receberam votos? Faça um ranking.</br>\n",
    "5)\tQuais são os 10 filmes menos avaliados?</br>\n",
    "6)\tQuais são os 10 filmes mais bem avaliados?</br>\n",
    "7)\tQuantos filmes foram produzidos por ano?</br>\n",
    "8)\tQuais são os 5 anos que produziram mais filmes?</br>\n",
    "9)\tQuantos votos foram computados por ano?</br>\n",
    "10)\tQual ano teve mais votos?</br>\n",
    "11)\tQual ano teve menos votos?</br>\n",
    "12)\tQual a média dos votos nos últimos 5 anos?</br>\n",
    "\n",
    "# **COLETA**\n",
    "\n",
    "https://datasets.imdbws.com/title.basics.tsv.gz</br>\n",
    "https://datasets.imdbws.com/title.ratings.tsv.gz</br>\n",
    "Técnica para importação: pandas, io e request</br> \n",
    "\n",
    "# **MODELAGEM**\n",
    "\n",
    "**Esquema utilizado: Estrela**\n",
    "\n",
    "### **Catálogo dos dados:**\n",
    "<table>\n",
    "  <thead>\n",
    "    <h3>Tabela Title_basics</h3>\n",
    "    <tr>\n",
    "      <th scope=\"col\">COLUNA</th>\n",
    "      <th scope=\"col\">TIPO DE DADO</th>\n",
    "      <th scope=\"col\">DESCRIÇÃO</th>\n",
    "      <th scope=\"col\">VALOR ESPERADO (min-max)</th>\n",
    "    </tr>\n",
    "  </thead>\n",
    "  <tbody>\n",
    "    <tr>\n",
    "      <th scope=\"row\">tconst</th>\n",
    "      <td>string</td>\n",
    "      <td>chave primária</td>\n",
    "      <td>identificador único os títulos</td>\n",
    "    </tr>\n",
    "     <tr>\n",
    "      <th scope=\"row\">titleType</th>\n",
    "      <td>string</td>\n",
    "      <td>tipo de título</td>\n",
    "      <td>movie</td>\n",
    "    </tr>\n",
    "     <tr>\n",
    "      <th scope=\"row\">primaryTitle</th>\n",
    "      <td>string</td>\n",
    "      <td>nome do título</td>\n",
    "      <td></td>\n",
    "    </tr>\n",
    "    <tr>\n",
    "      <th scope=\"row\">originalTitle</th>\n",
    "      <td>string</td>\n",
    "      <td>nome original do título</td>\n",
    "      <td></td>\n",
    "    </tr>\n",
    "    <tr>\n",
    "      <th scope=\"row\">isAdult</th>\n",
    "      <td>string</td>\n",
    "      <td></td>\n",
    "      <td></td>\n",
    "    </tr>\n",
    "    <tr>\n",
    "      <th scope=\"row\">startYear</th>\n",
    "      <td>string</td>\n",
    "      <td>ano inicial do título</td>\n",
    "      <td>2010-2025</td>\n",
    "    </tr>\n",
    "    <tr>\n",
    "      <th scope=\"row\">endYear</th>\n",
    "      <td>string</td>\n",
    "      <td>ano final do título</td>\n",
    "      <td></td>\n",
    "    </tr>\n",
    "    <tr>\n",
    "      <th scope=\"row\">runtimeMinutes</th>\n",
    "      <td>string</td>\n",
    "      <td>tempo do título</td>\n",
    "      <td></td>\n",
    "    </tr>\n",
    "    <tr>\n",
    "      <th scope=\"row\">genres</th>\n",
    "      <td>string</td>\n",
    "      <td>gênero do título</td>\n",
    "      <td></td>\n",
    "    </tr>\n",
    "</table>\n",
    "\n",
    "<table>\n",
    "  <thead>\n",
    "    <h3>Tabela Title_ratings</h3>\n",
    "    <tr>\n",
    "      <th scope=\"col\">COLUNA</th>\n",
    "      <th scope=\"col\">TIPO DE DADO</th>\n",
    "      <th scope=\"col\">DESCRIÇÃO</th>\n",
    "      <th scope=\"col\">VALOR ESPERADO (min-max)</th>\n",
    "    </tr>\n",
    "  </thead>\n",
    "  <tbody>\n",
    "    <tr>\n",
    "      <th scope=\"row\">tconst</th>\n",
    "      <td>string</td>\n",
    "      <td>chave primária</td>\n",
    "      <td>identificador único os títulos</td>\n",
    "    </tr>\n",
    "     <tr>\n",
    "      <th scope=\"row\">averageRating</th>\n",
    "      <td>double</td>\n",
    "      <td> nota do título</td>\n",
    "      <td>5-10</td>\n",
    "    </tr>\n",
    "     <tr>\n",
    "      <th scope=\"row\">numVotes</th>\n",
    "      <td>long</td>\n",
    "      <td>número de votos</td>\n",
    "      <td>10000</td>\n",
    "    </tr>\n",
    "</table>\n",
    "\n",
    "<table>\n",
    "  <thead>\n",
    "    <h3>Tabela estudo</h3>\n",
    "    <tr>\n",
    "      <th scope=\"col\">COLUNA</th>\n",
    "      <th scope=\"col\">TIPO DE DADO</th>\n",
    "      <th scope=\"col\">DESCRIÇÃO</th>\n",
    "      <th scope=\"col\">VALOR ESPERADO (min-max)</th>\n",
    "    </tr>\n",
    "  </thead>\n",
    "  <tbody>\n",
    "    <tr>\n",
    "      <th scope=\"row\">tconst</th>\n",
    "      <td>string</td>\n",
    "      <td>chave primária</td>\n",
    "      <td>identificador único os títulos</td>\n",
    "    </tr>\n",
    "    <tr>\n",
    "      <th scope=\"row\">titleType</th>\n",
    "      <td>string</td>\n",
    "      <td>tipo de título</td>\n",
    "      <td>movie</td>\n",
    "    </tr>\n",
    "    <tr>\n",
    "      <th scope=\"row\">startYear</th>\n",
    "      <td>string</td>\n",
    "      <td>ano inicial do título</td>\n",
    "      <td>2010-2025</td>\n",
    "    </tr>\n",
    "    <tr>\n",
    "      <th scope=\"row\">averageRating</th>\n",
    "      <td>double</td>\n",
    "      <td> nota do título</td>\n",
    "      <td>5-10</td>\n",
    "    </tr>\n",
    "     <tr>\n",
    "      <th scope=\"row\">numVotes</th>\n",
    "      <td>long</td>\n",
    "      <td>número de votos</td>\n",
    "      <td>10000</td>\n",
    "    </tr>\n",
    "</table>\n",
    "\n",
    "# **ANÁLISE (QUALIDADE DOS DADOS / SOLUÇÃO DO PROBLEMA)**\n",
    "\n",
    "## **QUALIDADE DOS DADOS**\n",
    "\n",
    "1) Importaremos as bibliotecas pandas, io e request para acessar os dados;</br>\n",
    "`import pandas as pd`\n,`import io`\n,`import requests`\n\n"    
    "2) Criaremos uma base BRONZE;</br>\n",
    "`%sql  DROP DATABASE bronze;`</br>\n",
    "`%sql  CREATE DATABASE bronze;`</br></br>\n",
    "3) inserção dos dados conforme estão na fonte utilizando pandas;</br>\n",
    "Tabela title_basics</br>\n",
    "`url = \"https://datasets.imdbws.com/title.basics.tsv.gz\"`</br>\n",
    "`title_basics = pd.read_csv(url, compression='gzip', sep='\\t')`</br>\n",
    "`title_basics.head()`</br>\n",
    "Tabela title_ratings</br>\n",
    "`url = \"https://datasets.imdbws.com/title.ratings.tsv.gz\"`</br></br>\n",
    "`title_ratings = pd.read_csv(url, compression='gzip', sep='\\t')`</br>\n",
    "`title_ratings.head()`</br></br>\n",
    "4) Criaremos as tabelas Title_basics e Title_ratings na base bronze com os dados do DataFrame criado;</br>\n",
    "Criação tabela Title_basics</br>\n",
    "`title_basics = spark.createDataFrame(title_basics)`</br>\n",
    "`title_basics.write.mode(\"overwrite\").saveAsTable(\"bronze.title_basics\")`</br>\n",
    "Criação tabela Title_ratings</br>\n",
    "`title_ratings = spark.createDataFrame(title_ratings)`</br>\n",
    "`title_ratings.write.mode(\"overwrite\").saveAsTable(\"bronze.title_ratings\")`</br></br>\n",
    "5) Selecionameremos as colunas tconst, titleType, startYear da tabela Title_basics, trataremos a coluna titleType mantendo somente o valor 'movie' e trataremos a coluna startYear para remover qualquer valor que seja diferente do ano;</br>\n",
    "`%sql select bronze.title_basics.titleType, count(*) from bronze.title_basics group by bronze.title_basics.titleType`</br>\n",
    "`%sql select bronze.title_basics.startyear, count(*) from bronze.title_basics group by bronze.title_basics.startyear order by startYear desc`</br>\n",
    "`%sql SELECT tb.tconst, tb.titleType, tb.originalTitle, tb.startYear FROM bronze.title_basics as tb WHERE tb.titleType='movie' and tb.startYear not like '%\\N%'`</br></br>\n",
    "6) Criaremos a base SILVER;</br>\n",
    "`%sql DROP DATABASE silver;`</br>\n",
    "`%sql CREATE DATABASE silver;`</br></br>\n",
    "7) Criaremos a tabela Title_basics na base SILVER com os filtros de limpeza;</br>\n",
    "`%sql create table silver.title_basics as SELECT tb.tconst, tb.titleType, tb.originalTitle, tb.startYear FROM bronze.title_basics as tb WHERE tb.titleType='movie' and tb.startYear not like '%\\N%' and tb.startYear>='2010'`</br></br>\n",
    "8) Selecionaremos as colunas tconst, averageRating, numVotes da tabela Title_ratings, trataremos a coluna averageRating para saber o valor mínimo e máximo dos ratings, agruparemos os ratings e listaremos para confirmar se não há dados diferentes de notas, trataremos a coluna numVotes para saber se há títulos com votos acima de 10000;</br>\n",
    "`%sql select min(numVotes), max(numVotes) from bronze.title_ratings`</br>\n",
    "`%sql select * from bronze.title_ratings where numVotes>1000`</br>\n",
    "`%sql select min(averageRating), max(averageRating) from bronze.title_ratings`</br>\n",
    "`%sql select averageRating from bronze.title_ratings group by averageRating order by averageRating`</br>\n",
    "`%sql select * from bronze.title_ratings where averageRating>5`</br>\n",
    "`%sql select * from bronze.title_ratings where averageRating>=5 and numVotes>10000`</br></br>\n",
    "9) Criaremos a tabela Title_ratings na base SILVER com os filtros de limpeza;</br>\n",
    "`%sql create table silver.title_ratings as select * from bronze.title_ratings where averageRating>=5 and numVotes>10000 `</br></br>\n",
    "10) Faremos um JOIN com a chave primaria das tabelas do banco SILVER;</br>\n",
    "`%sql SELECT * FROM silver.title_basics AS TB INNER JOIN silver.title_ratings AS TR ON TB.tconst=TR.tconst`</br></br>\n",
    "11) Selecionaremos as colunas para criação de uma tabela FLAT com todos os dados das 2 tabelas;</br>\n",
    "`%sql SELECT TB.tconst, TB.titleType, TB.originalTitle, TB.startYear, TR.averageRating, TR.numVotes FROM silver.title_basics AS TB INNER JOIN silver.title_ratings AS TR ON TB.tconst=TR.tconst`</br></br>\n",
    "12) Criaremos a base GOLD;</br>\n",
    "`%sql DROP DATABASE gold;`</br>\n",
    "`%sql CREATE DATABASE gold;`</br></br>\n",
    "13) Criaremos a tabela estudo na base GOLD a partir do JOIN feito;</br>\n",
    "`CREATE TABLE gold.estudo AS SELECT TB.tconst, TB.titleType, TB.originalTitle, TB.startYear, TR.averageRating, TR.numVotes FROM silver.title_basics AS TB INNER JOIN silver.title_ratings AS TR ON TB.tconst=TR.tconst`</br></br>\n",
    "## **SOLUÇÃO DO PROBLEMA**\n",
    "\n",
    "**1)  Quais são os 15 filmes, ordenados por ano (mais recente) e avaliação (maior para o menor), com avaliações igual ou maior que 8?**</br>\n",
    "`SELECT * FROM GOLD.estudo WHERE averageRating>=8 ORDER BY startYear desc, averageRating desc`</br>\n",
    "R: Os filmes são: Oficina do Diabo(2025) - 8.2, Rekhachithram(2025) - 8, Shingeki no Kyojin: The Last Attack(2024) - 9.2, Solo Leveling: ReAwakening(2024) - 8.9, Dune: Part Two(2024) - 8.5, Maste eshgh(2024) - 8.5, Maharaja(2024) - 8.4, Meiyazhagan(2024) - 8.4, Ainda Estou Aqui(2024) - 8.3, No Other Land(2024) - 8.3, Manjummel Boys(2024) - 8.2, Ibelin(2024) - 8.2, Amaran(2024) - 8.2, The Wild Robot(2024) - 8.2 e Kishkindha Kaandam(2024) - 8.</br></br>\n",
    "**2) Quais são os 15 filmes, ordenados por ano (mais recente) e avaliação (menor para o maior), com avaliações igual ou menor que 6?**</br>\n",
    "`SELECT * FROM GOLD.estudo WHERE averageRating<=6 ORDER BY startYear desc , averageRating asc`</br>\n",
    "R: Os filmes são: Flight Risk(2025) - 5.2, Emergency(2025) - 5.2, Game Changer(2025) - 5.5, You're Cordially Invited(2025) - 5.5, Wolf Man(2025) - 5.6, Back in Action(2025) - 5.9, The Electric State(2025) - 5.9, Captain America: Brave New World(2025) - 5.9, Yudhra(2024) - 5, Time Cut(2024) - 5, The Deliverance(2024) - 5.1, Irish Wish(2024) - 5.2, Miller's Girl(2024) - 5.2, Joker: Folie à Deux(2024) - 5.2 e AfrAId(2024) - 5.2.</br></br>\n",
    "**3)  Quais são os 10 filmes que menos receberam votos? Faça um ranking.**</br>\n",
    "`select originalTitle, startYear, numVotes, rank() over (order by numVotes asc) as ranking from gold.estudo order by ranking\n",
    "limit 10`</br>\n",
    "R: Os 10 filmes que menos receberam votos ordenados por ranking são: What Keeps You Alive, The Mercy, Tang shan da di zhen, Killing Ground, Anjaam Pathiraa, Come and Find Me, Dolphin Tale 2, Fúsi, Sound of Noise e Please Don't Destroy: The Treasure of Foggy Mountain respectivamente.</br></br>\n",
    "**4)  Quais são os 10 filmes que mais receberam votos? Faça um ranking.**</br>\n",
    "`select originalTitle, startYear, numVotes, rank() over (order by numVotes desc) as ranking from gold.estudo order by ranking\n",
    "limit 10`</br>\n",
    "R: Os 10 filmes que mais receberam votos ordenados por ranking são: Inception, Interstellar, The Dark Knight Rises, Django Unchained, The Wolf of Wall Street, Joker, Shutter Island, The Avengers Avengers: Endgame e Guardians of the Galaxy respectivamente.</br></br>\n",
    "**5)  Quais são os 10 filmes menos avaliados?**</br>\n",
    "`select originalTitle, startYear, averageRating, rank() over (order by averageRating asc) as ranking from gold.estudo order by ranking\n",
    "limit 10`</br>\n",
    "R: Os 10 filmes menos avaliados são: 47 Meters Down: Uncaged, The Romantics, 2000 Mules, Yudhra, Charlie's Angels, Time Cut, I Don't Know How She Does It, Blair Witch, Fahrenheit 451 e Elephant White respectivamente.</br></br>\n",
    "**6)  Quais são os 10 filmes mais bem avaliados?**</br>\n",
    "`select originalTitle, startYear, averageRating, rank() over (order by averageRating desc) as ranking from gold.estudo order by ranking\n",
    "limit 10`</br>\n",
    "R: Os 10 filmes mais bem avaliados são: 47 Meters Down: Uncaged, The Romantics, 2000 Mules, Yudhra, Charlie's Angels, Time Cut, I Don't Know How She Does It, Blair Witch, Fahrenheit 451 e Elephant White respectivamente.</br></br>\n",
    "**7)  Quantos filmes foram produzidos por ano?**</br>\n",
    "`select startYear, count(*) as qtd_filmes from gold.estudo group by startYear order by startYear desc`</br>\n",
    "R: Foram produzidos em 2025, 32 filmes; Foram produzidos em 2024, 243 filmes; Foram produzidos em 2023, 322 filmes; Foram produzidos em 2022, 338 filmes; Foram produzidos em 2021, 302 filmes; Foram produzidos em 2020, 259 filmes; Foram produzidos em 2019, 351 filmes; Foram produzidos em 2018, 380 filmes; Foram produzidos em 2017, 350 filmes; Foram produzidos em 2016, 363 filmes; Foram produzidos em 2015, 345 filmes; Foram produzidos em 2014, 371 filmes; Foram produzidos em 2013, 354 filmes; Foram produzidos em 2012, 316 filmes; Foram produzidos em 2011, 325 filmes; Foram produzidos em 2010, 297 filmes;</br></br>\n",
    "**8)  Quais são os 5 anos que produziram mais filmes?**</br>\n",
    "`select startYear, count(*) as qtd_filmes from gold.estudo group by startYear order by qtd_filmes desc\n",
    "limit 5`</br>\n",
    "R: Os anos que mais produziram filmes foram 2018, 2014, 2016, 2013 e 2019 respectivamente.</br></br>\n",
    "**9)  Quantos votos foram computados por ano?**</br>\n",
    "`select startYear, sum(numVotes) from gold.estudo group by startYear order by startYear desc`</br>\n",
    "R: 2025 teve 961854 votos; 2024 teve 13140638 votos; 2023 teve 19756644 votos; 2022 teve 23453898 votos; 2021 teve 21838323 votos; 2020 teve 13504278 votos; 2019 teve 31417078 votos; 2018 teve 29182593 votos; 2017 teve 31846333 votos; 2016 teve 35561997 votos; 2015 teve 31841547 votos; 2014 teve 42709464 votos; 2013 teve 42025108 votos; 2012 teve 37903271 votos; 2011 teve 37514890 votos; 2010 teve 35637814 votos;</br></br>\n",
    "**10) Qual ano teve mais votos?**</br>\n",
    "`select startYear, sum(numVotes) as Total from gold.estudo group by startYear order by Total desc\n",
    "limit 1`</br>\n",
    "R: O ano de 2014, foi o ano que teve mais votos.</br></br>\n",
    "**11) Qual ano teve menos votos?**</br>\n",
    "`select startYear, sum(numVotes) as Total from gold.estudo group by startYear order by Total asc\n",
    "limit 1`</br>\n",
    "R: O ano de 2025, foi o ano que teve menos votos.</br></br>\n",
    "**12) Qual a média dos votos nos últimos 5 anos?**</br>\n",
    "`select avg(numVotes) as Media from gold.estudo where startYear between '2020' and '2025'`</br>\n",
    "R: A média de votos nos últimos 5 anos foi de aproximadamente 61935.</br>\n",
    "\n",
    "# **DISCUSSÃO**\n",
    "\n",
    "Pensar em um problema e começar o desenvolvimento para solução foi um tanto quanto desafiador, pois no meu cotidiano costumo trazer somente soluções para os problemas que surgem na empresa em que trabalho. Tive bastente dificuldade para usar a plataforma, um outro aluno Leandro Loriato, me ajudou bastante com a linguagem spark e o exemplo que o professor Victor Almeida demonstrou foi um divisor de aguás para eu começar o projeto, que até então eu não sabia nem como começar.</br>\n",
    "Comecei fazendo o projeto com dados da empresa em que eu trabalho, mas no momento de inserir os dados da camada gold, começou a dar diversos problemas e por medo de não conseguir a tempo a solução, comecei do zero com base no exemplo do professor Victor Almeida.</br>\n",
    "Após as inserções de tabelas e tratamento dos dados, não tive dificuldade em manipular os dados em SQL, pois é a linguagem que hoje eu mais domino.</br>\n",
    "Os problemas citados para o objetivo do trabalho, são o que mais refletem no meu cotidiano quando solicitam algum insight para soluções de problemas. Acostumado a fazer querys com diversas tabelas, trazendo um grau de complexidade bastante desafiadora, tratar os dados da maneira que tratei em camadas bronze, silver e gold para trazer querys mais simples com resposta objetivas e acertivas, foi o que mais me impactou positivamente no trabalho. Agradeço a ajuda de todos, estou muito feliz com o desenvolvimento desse projeto e o meu crescimento profissional.\n"
   ]
  },
  {
   "cell_type": "markdown",
   "metadata": {
    "application/vnd.databricks.v1+cell": {
     "cellMetadata": {
      "byteLimit": 2048000,
      "rowLimit": 10000
     },
     "inputWidgets": {},
     "nuid": "ce91d0d4-b14f-4d63-a064-2a7256072d86",
     "showTitle": false,
     "tableResultSettingsMap": {},
     "title": ""
    }
   },
   "source": [
    "Imports de bibliotecas."
   ]
  },
  {
   "cell_type": "code",
   "execution_count": 0,
   "metadata": {
    "application/vnd.databricks.v1+cell": {
     "cellMetadata": {
      "byteLimit": 2048000,
      "rowLimit": 10000
     },
     "inputWidgets": {},
     "nuid": "21034a42-600e-4c00-9316-34fa50ffe9d3",
     "showTitle": false,
     "tableResultSettingsMap": {},
     "title": ""
    }
   },
   "outputs": [
    {
     "output_type": "display_data",
     "data": {
      "application/vnd.databricks.v1+bamboolib_hint": "{\"pd.DataFrames\": [], \"version\": \"0.0.1\"}",
      "text/plain": []
     },
     "metadata": {},
     "output_type": "display_data"
    }
   ],
   "source": [
    "import pandas as pd\n",
    "import io\n",
    "import requests"
   ]
  },
  {
   "cell_type": "markdown",
   "metadata": {
    "application/vnd.databricks.v1+cell": {
     "cellMetadata": {
      "byteLimit": 2048000,
      "rowLimit": 10000
     },
     "inputWidgets": {},
     "nuid": "3b4f537d-b615-497d-8439-7aee1c395be8",
     "showTitle": false,
     "tableResultSettingsMap": {},
     "title": ""
    }
   },
   "source": [
    "Criação da base BRONZE."
   ]
  },
  {
   "cell_type": "code",
   "execution_count": 0,
   "metadata": {
    "application/vnd.databricks.v1+cell": {
     "cellMetadata": {
      "byteLimit": 2048000,
      "implicitDf": true,
      "rowLimit": 10000
     },
     "inputWidgets": {},
     "nuid": "c603dc30-5732-44bf-9a94-d7cfae5c6fa0",
     "showTitle": false,
     "tableResultSettingsMap": {},
     "title": ""
    }
   },
   "outputs": [
    {
     "output_type": "display_data",
     "data": {
      "text/html": [
       "<style scoped>\n",
       "  .table-result-container {\n",
       "    max-height: 300px;\n",
       "    overflow: auto;\n",
       "  }\n",
       "  table, th, td {\n",
       "    border: 1px solid black;\n",
       "    border-collapse: collapse;\n",
       "  }\n",
       "  th, td {\n",
       "    padding: 5px;\n",
       "  }\n",
       "  th {\n",
       "    text-align: left;\n",
       "  }\n",
       "</style><div class='table-result-container'><table class='table-result'><thead style='background-color: white'><tr></tr></thead><tbody></tbody></table></div>"
      ]
     },
     "metadata": {
      "application/vnd.databricks.v1+output": {
       "addedWidgets": {},
       "aggData": [],
       "aggError": "",
       "aggOverflow": false,
       "aggSchema": [],
       "aggSeriesLimitReached": false,
       "aggType": "",
       "arguments": {},
       "columnCustomDisplayInfos": {},
       "data": [],
       "datasetInfos": [],
       "dbfsResultPath": null,
       "isJsonSchema": true,
       "metadata": {},
       "overflow": false,
       "plotOptions": {
        "customPlotOptions": {},
        "displayType": "table",
        "pivotAggregation": null,
        "pivotColumns": null,
        "xColumns": null,
        "yColumns": null
       },
       "removedWidgets": [],
       "schema": [],
       "type": "table"
      }
     },
     "output_type": "display_data"
    }
   ],
   "source": [
    "%sql \n",
    "DROP DATABASE bronze;"
   ]
  },
  {
   "cell_type": "code",
   "execution_count": 0,
   "metadata": {
    "application/vnd.databricks.v1+cell": {
     "cellMetadata": {
      "byteLimit": 2048000,
      "implicitDf": true,
      "rowLimit": 10000
     },
     "inputWidgets": {},
     "nuid": "928e97e3-37ce-41ce-9f94-3071e398c81f",
     "showTitle": false,
     "tableResultSettingsMap": {},
     "title": ""
    }
   },
   "outputs": [
    {
     "output_type": "display_data",
     "data": {
      "text/html": [
       "<style scoped>\n",
       "  .table-result-container {\n",
       "    max-height: 300px;\n",
       "    overflow: auto;\n",
       "  }\n",
       "  table, th, td {\n",
       "    border: 1px solid black;\n",
       "    border-collapse: collapse;\n",
       "  }\n",
       "  th, td {\n",
       "    padding: 5px;\n",
       "  }\n",
       "  th {\n",
       "    text-align: left;\n",
       "  }\n",
       "</style><div class='table-result-container'><table class='table-result'><thead style='background-color: white'><tr></tr></thead><tbody></tbody></table></div>"
      ]
     },
     "metadata": {
      "application/vnd.databricks.v1+output": {
       "addedWidgets": {},
       "aggData": [],
       "aggError": "",
       "aggOverflow": false,
       "aggSchema": [],
       "aggSeriesLimitReached": false,
       "aggType": "",
       "arguments": {},
       "columnCustomDisplayInfos": {},
       "data": [],
       "datasetInfos": [],
       "dbfsResultPath": null,
       "isJsonSchema": true,
       "metadata": {},
       "overflow": false,
       "plotOptions": {
        "customPlotOptions": {},
        "displayType": "table",
        "pivotAggregation": null,
        "pivotColumns": null,
        "xColumns": null,
        "yColumns": null
       },
       "removedWidgets": [],
       "schema": [],
       "type": "table"
      }
     },
     "output_type": "display_data"
    }
   ],
   "source": [
    "%sql \n",
    "CREATE DATABASE bronze;"
   ]
  },
  {
   "cell_type": "markdown",
   "metadata": {
    "application/vnd.databricks.v1+cell": {
     "cellMetadata": {
      "byteLimit": 2048000,
      "rowLimit": 10000
     },
     "inputWidgets": {},
     "nuid": "423f2c05-ffdf-48bb-9926-233a8858cdf2",
     "showTitle": false,
     "tableResultSettingsMap": {},
     "title": ""
    }
   },
   "source": [
    "Importação dos dados de TÍTULOS."
   ]
  },
  {
   "cell_type": "code",
   "execution_count": 0,
   "metadata": {
    "application/vnd.databricks.v1+cell": {
     "cellMetadata": {
      "byteLimit": 2048000,
      "rowLimit": 10000
     },
     "inputWidgets": {},
     "nuid": "f2f7ee7a-ccf8-492e-b883-3d1bf689590f",
     "showTitle": false,
     "tableResultSettingsMap": {},
     "title": ""
    }
   },
   "outputs": [
    {
     "output_type": "stream",
     "name": "stderr",
     "output_type": "stream",
     "text": [
      "<command-1577843859338062>:2: DtypeWarning: Columns (4) have mixed types. Specify dtype option on import or set low_memory=False.\n  title_basics = pd.read_csv(url, compression='gzip', sep='\\t')\n"
     ]
    },
    {
     "output_type": "display_data",
     "data": {
      "text/html": [
       "<div>\n",
       "<style scoped>\n",
       "    .dataframe tbody tr th:only-of-type {\n",
       "        vertical-align: middle;\n",
       "    }\n",
       "\n",
       "    .dataframe tbody tr th {\n",
       "        vertical-align: top;\n",
       "    }\n",
       "\n",
       "    .dataframe thead th {\n",
       "        text-align: right;\n",
       "    }\n",
       "</style>\n",
       "<table border=\"1\" class=\"dataframe\">\n",
       "  <thead>\n",
       "    <tr style=\"text-align: right;\">\n",
       "      <th></th>\n",
       "      <th>tconst</th>\n",
       "      <th>titleType</th>\n",
       "      <th>primaryTitle</th>\n",
       "      <th>originalTitle</th>\n",
       "      <th>isAdult</th>\n",
       "      <th>startYear</th>\n",
       "      <th>endYear</th>\n",
       "      <th>runtimeMinutes</th>\n",
       "      <th>genres</th>\n",
       "    </tr>\n",
       "  </thead>\n",
       "  <tbody>\n",
       "    <tr>\n",
       "      <th>0</th>\n",
       "      <td>tt0000001</td>\n",
       "      <td>short</td>\n",
       "      <td>Carmencita</td>\n",
       "      <td>Carmencita</td>\n",
       "      <td>0</td>\n",
       "      <td>1894</td>\n",
       "      <td>\\N</td>\n",
       "      <td>1</td>\n",
       "      <td>Documentary,Short</td>\n",
       "    </tr>\n",
       "    <tr>\n",
       "      <th>1</th>\n",
       "      <td>tt0000002</td>\n",
       "      <td>short</td>\n",
       "      <td>Le clown et ses chiens</td>\n",
       "      <td>Le clown et ses chiens</td>\n",
       "      <td>0</td>\n",
       "      <td>1892</td>\n",
       "      <td>\\N</td>\n",
       "      <td>5</td>\n",
       "      <td>Animation,Short</td>\n",
       "    </tr>\n",
       "    <tr>\n",
       "      <th>2</th>\n",
       "      <td>tt0000003</td>\n",
       "      <td>short</td>\n",
       "      <td>Poor Pierrot</td>\n",
       "      <td>Pauvre Pierrot</td>\n",
       "      <td>0</td>\n",
       "      <td>1892</td>\n",
       "      <td>\\N</td>\n",
       "      <td>5</td>\n",
       "      <td>Animation,Comedy,Romance</td>\n",
       "    </tr>\n",
       "    <tr>\n",
       "      <th>3</th>\n",
       "      <td>tt0000004</td>\n",
       "      <td>short</td>\n",
       "      <td>Un bon bock</td>\n",
       "      <td>Un bon bock</td>\n",
       "      <td>0</td>\n",
       "      <td>1892</td>\n",
       "      <td>\\N</td>\n",
       "      <td>12</td>\n",
       "      <td>Animation,Short</td>\n",
       "    </tr>\n",
       "    <tr>\n",
       "      <th>4</th>\n",
       "      <td>tt0000005</td>\n",
       "      <td>short</td>\n",
       "      <td>Blacksmith Scene</td>\n",
       "      <td>Blacksmith Scene</td>\n",
       "      <td>0</td>\n",
       "      <td>1893</td>\n",
       "      <td>\\N</td>\n",
       "      <td>1</td>\n",
       "      <td>Short</td>\n",
       "    </tr>\n",
       "  </tbody>\n",
       "</table>\n",
       "</div>"
      ]
     },
     "metadata": {
      "application/vnd.databricks.v1+output": {
       "addedWidgets": {},
       "arguments": {},
       "data": "<div>\n<style scoped>\n    .dataframe tbody tr th:only-of-type {\n        vertical-align: middle;\n    }\n\n    .dataframe tbody tr th {\n        vertical-align: top;\n    }\n\n    .dataframe thead th {\n        text-align: right;\n    }\n</style>\n<table border=\"1\" class=\"dataframe\">\n  <thead>\n    <tr style=\"text-align: right;\">\n      <th></th>\n      <th>tconst</th>\n      <th>titleType</th>\n      <th>primaryTitle</th>\n      <th>originalTitle</th>\n      <th>isAdult</th>\n      <th>startYear</th>\n      <th>endYear</th>\n      <th>runtimeMinutes</th>\n      <th>genres</th>\n    </tr>\n  </thead>\n  <tbody>\n    <tr>\n      <th>0</th>\n      <td>tt0000001</td>\n      <td>short</td>\n      <td>Carmencita</td>\n      <td>Carmencita</td>\n      <td>0</td>\n      <td>1894</td>\n      <td>\\N</td>\n      <td>1</td>\n      <td>Documentary,Short</td>\n    </tr>\n    <tr>\n      <th>1</th>\n      <td>tt0000002</td>\n      <td>short</td>\n      <td>Le clown et ses chiens</td>\n      <td>Le clown et ses chiens</td>\n      <td>0</td>\n      <td>1892</td>\n      <td>\\N</td>\n      <td>5</td>\n      <td>Animation,Short</td>\n    </tr>\n    <tr>\n      <th>2</th>\n      <td>tt0000003</td>\n      <td>short</td>\n      <td>Poor Pierrot</td>\n      <td>Pauvre Pierrot</td>\n      <td>0</td>\n      <td>1892</td>\n      <td>\\N</td>\n      <td>5</td>\n      <td>Animation,Comedy,Romance</td>\n    </tr>\n    <tr>\n      <th>3</th>\n      <td>tt0000004</td>\n      <td>short</td>\n      <td>Un bon bock</td>\n      <td>Un bon bock</td>\n      <td>0</td>\n      <td>1892</td>\n      <td>\\N</td>\n      <td>12</td>\n      <td>Animation,Short</td>\n    </tr>\n    <tr>\n      <th>4</th>\n      <td>tt0000005</td>\n      <td>short</td>\n      <td>Blacksmith Scene</td>\n      <td>Blacksmith Scene</td>\n      <td>0</td>\n      <td>1893</td>\n      <td>\\N</td>\n      <td>1</td>\n      <td>Short</td>\n    </tr>\n  </tbody>\n</table>\n</div>",
       "datasetInfos": [],
       "metadata": {},
       "removedWidgets": [],
       "textData": null,
       "type": "htmlSandbox"
      }
     },
     "output_type": "display_data"
    }
   ],
   "source": [
    "url = \"https://datasets.imdbws.com/title.basics.tsv.gz\"\n",
    "title_basics = pd.read_csv(url, compression='gzip', sep='\\t')\n",
    "\n",
    "title_basics.head()"
   ]
  },
  {
   "cell_type": "markdown",
   "metadata": {
    "application/vnd.databricks.v1+cell": {
     "cellMetadata": {
      "byteLimit": 2048000,
      "rowLimit": 10000
     },
     "inputWidgets": {},
     "nuid": "85a66541-4d88-42e9-841b-3dda5849fade",
     "showTitle": false,
     "tableResultSettingsMap": {},
     "title": ""
    }
   },
   "source": [
    "Criação da tabela de TITULOS a partir do dataframe"
   ]
  },
  {
   "cell_type": "code",
   "execution_count": 0,
   "metadata": {
    "application/vnd.databricks.v1+cell": {
     "cellMetadata": {
      "byteLimit": 2048000,
      "rowLimit": 10000
     },
     "inputWidgets": {},
     "nuid": "84a1161e-d0e2-4542-a06e-e5b9cd4fe010",
     "showTitle": false,
     "tableResultSettingsMap": {},
     "title": ""
    }
   },
   "outputs": [
    {
     "output_type": "stream",
     "name": "stderr",
     "output_type": "stream",
     "text": [
      "/databricks/spark/python/pyspark/sql/pandas/conversion.py:467: UserWarning: createDataFrame attempted Arrow optimization because 'spark.sql.execution.arrow.pyspark.enabled' is set to true; however, failed by the reason below:\n  Could not convert '0' with type str: tried to convert to int64\nAttempting non-optimization as 'spark.sql.execution.arrow.pyspark.fallback.enabled' is set to true.\n  warn(msg)\n"
     ]
    }
   ],
   "source": [
    "title_basics = spark.createDataFrame(title_basics)\n",
    "title_basics.write.mode(\"overwrite\").saveAsTable(\"bronze.title_basics\")"
   ]
  },
  {
   "cell_type": "markdown",
   "metadata": {
    "application/vnd.databricks.v1+cell": {
     "cellMetadata": {
      "byteLimit": 2048000,
      "rowLimit": 10000
     },
     "inputWidgets": {},
     "nuid": "d51f6928-6a50-4152-bcda-5c1a6b100e33",
     "showTitle": false,
     "tableResultSettingsMap": {},
     "title": ""
    }
   },
   "source": [
    "Importação dos dados de RATINGS."
   ]
  },
  {
   "cell_type": "code",
   "execution_count": 0,
   "metadata": {
    "application/vnd.databricks.v1+cell": {
     "cellMetadata": {
      "byteLimit": 2048000,
      "rowLimit": 10000
     },
     "inputWidgets": {},
     "nuid": "0dfd71df-eb63-46eb-acaa-1091e9d49292",
     "showTitle": false,
     "tableResultSettingsMap": {},
     "title": ""
    }
   },
   "outputs": [
    {
     "output_type": "display_data",
     "data": {
      "text/html": [
       "<div>\n",
       "<style scoped>\n",
       "    .dataframe tbody tr th:only-of-type {\n",
       "        vertical-align: middle;\n",
       "    }\n",
       "\n",
       "    .dataframe tbody tr th {\n",
       "        vertical-align: top;\n",
       "    }\n",
       "\n",
       "    .dataframe thead th {\n",
       "        text-align: right;\n",
       "    }\n",
       "</style>\n",
       "<table border=\"1\" class=\"dataframe\">\n",
       "  <thead>\n",
       "    <tr style=\"text-align: right;\">\n",
       "      <th></th>\n",
       "      <th>tconst</th>\n",
       "      <th>averageRating</th>\n",
       "      <th>numVotes</th>\n",
       "    </tr>\n",
       "  </thead>\n",
       "  <tbody>\n",
       "    <tr>\n",
       "      <th>0</th>\n",
       "      <td>tt0000001</td>\n",
       "      <td>5.7</td>\n",
       "      <td>2146</td>\n",
       "    </tr>\n",
       "    <tr>\n",
       "      <th>1</th>\n",
       "      <td>tt0000002</td>\n",
       "      <td>5.5</td>\n",
       "      <td>291</td>\n",
       "    </tr>\n",
       "    <tr>\n",
       "      <th>2</th>\n",
       "      <td>tt0000003</td>\n",
       "      <td>6.5</td>\n",
       "      <td>2180</td>\n",
       "    </tr>\n",
       "    <tr>\n",
       "      <th>3</th>\n",
       "      <td>tt0000004</td>\n",
       "      <td>5.3</td>\n",
       "      <td>187</td>\n",
       "    </tr>\n",
       "    <tr>\n",
       "      <th>4</th>\n",
       "      <td>tt0000005</td>\n",
       "      <td>6.2</td>\n",
       "      <td>2924</td>\n",
       "    </tr>\n",
       "  </tbody>\n",
       "</table>\n",
       "</div>"
      ]
     },
     "metadata": {
      "application/vnd.databricks.v1+output": {
       "addedWidgets": {},
       "arguments": {},
       "data": "<div>\n<style scoped>\n    .dataframe tbody tr th:only-of-type {\n        vertical-align: middle;\n    }\n\n    .dataframe tbody tr th {\n        vertical-align: top;\n    }\n\n    .dataframe thead th {\n        text-align: right;\n    }\n</style>\n<table border=\"1\" class=\"dataframe\">\n  <thead>\n    <tr style=\"text-align: right;\">\n      <th></th>\n      <th>tconst</th>\n      <th>averageRating</th>\n      <th>numVotes</th>\n    </tr>\n  </thead>\n  <tbody>\n    <tr>\n      <th>0</th>\n      <td>tt0000001</td>\n      <td>5.7</td>\n      <td>2146</td>\n    </tr>\n    <tr>\n      <th>1</th>\n      <td>tt0000002</td>\n      <td>5.5</td>\n      <td>291</td>\n    </tr>\n    <tr>\n      <th>2</th>\n      <td>tt0000003</td>\n      <td>6.5</td>\n      <td>2180</td>\n    </tr>\n    <tr>\n      <th>3</th>\n      <td>tt0000004</td>\n      <td>5.3</td>\n      <td>187</td>\n    </tr>\n    <tr>\n      <th>4</th>\n      <td>tt0000005</td>\n      <td>6.2</td>\n      <td>2924</td>\n    </tr>\n  </tbody>\n</table>\n</div>",
       "datasetInfos": [],
       "metadata": {},
       "removedWidgets": [],
       "textData": null,
       "type": "htmlSandbox"
      }
     },
     "output_type": "display_data"
    }
   ],
   "source": [
    "url = \"https://datasets.imdbws.com/title.ratings.tsv.gz\"\n",
    "title_ratings = pd.read_csv(url, compression='gzip', sep='\\t')\n",
    "\n",
    "title_ratings.head()"
   ]
  },
  {
   "cell_type": "markdown",
   "metadata": {
    "application/vnd.databricks.v1+cell": {
     "cellMetadata": {
      "byteLimit": 2048000,
      "rowLimit": 10000
     },
     "inputWidgets": {},
     "nuid": "93fff3d6-7e89-435d-a3a6-2efcef4cdc3b",
     "showTitle": false,
     "tableResultSettingsMap": {},
     "title": ""
    }
   },
   "source": [
    "Criação da tabela de RATINGS a partir do dataframe"
   ]
  },
  {
   "cell_type": "code",
   "execution_count": 0,
   "metadata": {
    "application/vnd.databricks.v1+cell": {
     "cellMetadata": {
      "byteLimit": 2048000,
      "rowLimit": 10000
     },
     "inputWidgets": {},
     "nuid": "709544da-80c7-48f7-bfad-bb0fa243b7fe",
     "showTitle": false,
     "tableResultSettingsMap": {},
     "title": ""
    }
   },
   "outputs": [],
   "source": [
    "title_ratings = spark.createDataFrame(title_ratings)\n",
    "title_ratings.write.mode(\"overwrite\").saveAsTable(\"bronze.title_ratings\")"
   ]
  },
  {
   "cell_type": "markdown",
   "metadata": {
    "application/vnd.databricks.v1+cell": {
     "cellMetadata": {
      "byteLimit": 2048000,
      "rowLimit": 10000
     },
     "inputWidgets": {},
     "nuid": "7aa2f29f-61a4-48d5-8dd2-205240fea624",
     "showTitle": false,
     "tableResultSettingsMap": {},
     "title": ""
    }
   },
   "source": [
    "Verificando a criação da tabela BRONZE.TITLE_BASICS."
   ]
  },
  {
   "cell_type": "code",
   "execution_count": 0,
   "metadata": {
    "application/vnd.databricks.v1+cell": {
     "cellMetadata": {
      "byteLimit": 2048000,
      "implicitDf": true,
      "rowLimit": 10000
     },
     "inputWidgets": {},
     "nuid": "b3c54b09-cee7-4aae-9fa5-2dee4ff72551",
     "showTitle": false,
     "tableResultSettingsMap": {},
     "title": ""
    }
   },
   "outputs": [
    {
     "output_type": "display_data",
     "data": {
      "text/html": [
       "<style scoped>\n",
       "  .table-result-container {\n",
       "    max-height: 300px;\n",
       "    overflow: auto;\n",
       "  }\n",
       "  table, th, td {\n",
       "    border: 1px solid black;\n",
       "    border-collapse: collapse;\n",
       "  }\n",
       "  th, td {\n",
       "    padding: 5px;\n",
       "  }\n",
       "  th {\n",
       "    text-align: left;\n",
       "  }\n",
       "</style><div class='table-result-container'><table class='table-result'><thead style='background-color: white'><tr><th>tconst</th><th>titleType</th><th>primaryTitle</th><th>originalTitle</th><th>isAdult</th><th>startYear</th><th>endYear</th><th>runtimeMinutes</th><th>genres</th></tr></thead><tbody><tr><td>tt0000001</td><td>short</td><td>Carmencita</td><td>Carmencita</td><td>0</td><td>1894</td><td>\\N</td><td>1</td><td>Documentary,Short</td></tr><tr><td>tt0000002</td><td>short</td><td>Le clown et ses chiens</td><td>Le clown et ses chiens</td><td>0</td><td>1892</td><td>\\N</td><td>5</td><td>Animation,Short</td></tr><tr><td>tt0000003</td><td>short</td><td>Poor Pierrot</td><td>Pauvre Pierrot</td><td>0</td><td>1892</td><td>\\N</td><td>5</td><td>Animation,Comedy,Romance</td></tr><tr><td>tt0000004</td><td>short</td><td>Un bon bock</td><td>Un bon bock</td><td>0</td><td>1892</td><td>\\N</td><td>12</td><td>Animation,Short</td></tr><tr><td>tt0000005</td><td>short</td><td>Blacksmith Scene</td><td>Blacksmith Scene</td><td>0</td><td>1893</td><td>\\N</td><td>1</td><td>Short</td></tr><tr><td>tt0000006</td><td>short</td><td>Chinese Opium Den</td><td>Chinese Opium Den</td><td>0</td><td>1894</td><td>\\N</td><td>1</td><td>Short</td></tr><tr><td>tt0000007</td><td>short</td><td>Corbett and Courtney Before the Kinetograph</td><td>Corbett and Courtney Before the Kinetograph</td><td>0</td><td>1894</td><td>\\N</td><td>1</td><td>Short,Sport</td></tr><tr><td>tt0000008</td><td>short</td><td>Edison Kinetoscopic Record of a Sneeze</td><td>Edison Kinetoscopic Record of a Sneeze</td><td>0</td><td>1894</td><td>\\N</td><td>1</td><td>Documentary,Short</td></tr><tr><td>tt0000009</td><td>movie</td><td>Miss Jerry</td><td>Miss Jerry</td><td>0</td><td>1894</td><td>\\N</td><td>45</td><td>Romance</td></tr><tr><td>tt0000010</td><td>short</td><td>Leaving the Factory</td><td>La sortie de l'usine Lumière à Lyon</td><td>0</td><td>1895</td><td>\\N</td><td>1</td><td>Documentary,Short</td></tr></tbody></table></div>"
      ]
     },
     "metadata": {
      "application/vnd.databricks.v1+output": {
       "addedWidgets": {},
       "aggData": [],
       "aggError": "",
       "aggOverflow": false,
       "aggSchema": [],
       "aggSeriesLimitReached": false,
       "aggType": "",
       "arguments": {},
       "columnCustomDisplayInfos": {},
       "data": [
        [
         "tt0000001",
         "short",
         "Carmencita",
         "Carmencita",
         "0",
         "1894",
         "\\N",
         "1",
         "Documentary,Short"
        ],
        [
         "tt0000002",
         "short",
         "Le clown et ses chiens",
         "Le clown et ses chiens",
         "0",
         "1892",
         "\\N",
         "5",
         "Animation,Short"
        ],
        [
         "tt0000003",
         "short",
         "Poor Pierrot",
         "Pauvre Pierrot",
         "0",
         "1892",
         "\\N",
         "5",
         "Animation,Comedy,Romance"
        ],
        [
         "tt0000004",
         "short",
         "Un bon bock",
         "Un bon bock",
         "0",
         "1892",
         "\\N",
         "12",
         "Animation,Short"
        ],
        [
         "tt0000005",
         "short",
         "Blacksmith Scene",
         "Blacksmith Scene",
         "0",
         "1893",
         "\\N",
         "1",
         "Short"
        ],
        [
         "tt0000006",
         "short",
         "Chinese Opium Den",
         "Chinese Opium Den",
         "0",
         "1894",
         "\\N",
         "1",
         "Short"
        ],
        [
         "tt0000007",
         "short",
         "Corbett and Courtney Before the Kinetograph",
         "Corbett and Courtney Before the Kinetograph",
         "0",
         "1894",
         "\\N",
         "1",
         "Short,Sport"
        ],
        [
         "tt0000008",
         "short",
         "Edison Kinetoscopic Record of a Sneeze",
         "Edison Kinetoscopic Record of a Sneeze",
         "0",
         "1894",
         "\\N",
         "1",
         "Documentary,Short"
        ],
        [
         "tt0000009",
         "movie",
         "Miss Jerry",
         "Miss Jerry",
         "0",
         "1894",
         "\\N",
         "45",
         "Romance"
        ],
        [
         "tt0000010",
         "short",
         "Leaving the Factory",
         "La sortie de l'usine Lumière à Lyon",
         "0",
         "1895",
         "\\N",
         "1",
         "Documentary,Short"
        ]
       ],
       "datasetInfos": [],
       "dbfsResultPath": null,
       "isJsonSchema": true,
       "metadata": {},
       "overflow": false,
       "plotOptions": {
        "customPlotOptions": {},
        "displayType": "table",
        "pivotAggregation": null,
        "pivotColumns": null,
        "xColumns": null,
        "yColumns": null
       },
       "removedWidgets": [],
       "schema": [
        {
         "metadata": "{}",
         "name": "tconst",
         "type": "\"string\""
        },
        {
         "metadata": "{}",
         "name": "titleType",
         "type": "\"string\""
        },
        {
         "metadata": "{}",
         "name": "primaryTitle",
         "type": "\"string\""
        },
        {
         "metadata": "{}",
         "name": "originalTitle",
         "type": "\"string\""
        },
        {
         "metadata": "{}",
         "name": "isAdult",
         "type": "\"string\""
        },
        {
         "metadata": "{}",
         "name": "startYear",
         "type": "\"string\""
        },
        {
         "metadata": "{}",
         "name": "endYear",
         "type": "\"string\""
        },
        {
         "metadata": "{}",
         "name": "runtimeMinutes",
         "type": "\"string\""
        },
        {
         "metadata": "{}",
         "name": "genres",
         "type": "\"string\""
        }
       ],
       "type": "table"
      }
     },
     "output_type": "display_data"
    }
   ],
   "source": [
    "%sql \n",
    "SELECT * FROM bronze.title_basics LIMIT 10"
   ]
  },
  {
   "cell_type": "markdown",
   "metadata": {
    "application/vnd.databricks.v1+cell": {
     "cellMetadata": {
      "byteLimit": 2048000,
      "rowLimit": 10000
     },
     "inputWidgets": {},
     "nuid": "0d4bb0e5-e6e0-4ddc-b9db-9023097c6a41",
     "showTitle": false,
     "tableResultSettingsMap": {},
     "title": ""
    }
   },
   "source": [
    "Verificando a criação da tabela BRONZE.TITLE_RATINGS."
   ]
  },
  {
   "cell_type": "code",
   "execution_count": 0,
   "metadata": {
    "application/vnd.databricks.v1+cell": {
     "cellMetadata": {
      "byteLimit": 2048000,
      "implicitDf": true,
      "rowLimit": 10000
     },
     "inputWidgets": {},
     "nuid": "8a7dfd14-fcff-4b2d-869e-6062cdc2b183",
     "showTitle": false,
     "tableResultSettingsMap": {},
     "title": ""
    }
   },
   "outputs": [
    {
     "output_type": "display_data",
     "data": {
      "text/html": [
       "<style scoped>\n",
       "  .table-result-container {\n",
       "    max-height: 300px;\n",
       "    overflow: auto;\n",
       "  }\n",
       "  table, th, td {\n",
       "    border: 1px solid black;\n",
       "    border-collapse: collapse;\n",
       "  }\n",
       "  th, td {\n",
       "    padding: 5px;\n",
       "  }\n",
       "  th {\n",
       "    text-align: left;\n",
       "  }\n",
       "</style><div class='table-result-container'><table class='table-result'><thead style='background-color: white'><tr><th>tconst</th><th>averageRating</th><th>numVotes</th></tr></thead><tbody><tr><td>tt0000001</td><td>5.7</td><td>2146</td></tr><tr><td>tt0000002</td><td>5.5</td><td>291</td></tr><tr><td>tt0000003</td><td>6.5</td><td>2180</td></tr><tr><td>tt0000004</td><td>5.3</td><td>187</td></tr><tr><td>tt0000005</td><td>6.2</td><td>2924</td></tr><tr><td>tt0000006</td><td>5.0</td><td>210</td></tr><tr><td>tt0000007</td><td>5.3</td><td>906</td></tr><tr><td>tt0000008</td><td>5.4</td><td>2292</td></tr><tr><td>tt0000009</td><td>5.4</td><td>223</td></tr><tr><td>tt0000010</td><td>6.8</td><td>7922</td></tr></tbody></table></div>"
      ]
     },
     "metadata": {
      "application/vnd.databricks.v1+output": {
       "addedWidgets": {},
       "aggData": [],
       "aggError": "",
       "aggOverflow": false,
       "aggSchema": [],
       "aggSeriesLimitReached": false,
       "aggType": "",
       "arguments": {},
       "columnCustomDisplayInfos": {},
       "data": [
        [
         "tt0000001",
         5.7,
         2146
        ],
        [
         "tt0000002",
         5.5,
         291
        ],
        [
         "tt0000003",
         6.5,
         2180
        ],
        [
         "tt0000004",
         5.3,
         187
        ],
        [
         "tt0000005",
         6.2,
         2924
        ],
        [
         "tt0000006",
         5.0,
         210
        ],
        [
         "tt0000007",
         5.3,
         906
        ],
        [
         "tt0000008",
         5.4,
         2292
        ],
        [
         "tt0000009",
         5.4,
         223
        ],
        [
         "tt0000010",
         6.8,
         7922
        ]
       ],
       "datasetInfos": [],
       "dbfsResultPath": null,
       "isJsonSchema": true,
       "metadata": {},
       "overflow": false,
       "plotOptions": {
        "customPlotOptions": {},
        "displayType": "table",
        "pivotAggregation": null,
        "pivotColumns": null,
        "xColumns": null,
        "yColumns": null
       },
       "removedWidgets": [],
       "schema": [
        {
         "metadata": "{}",
         "name": "tconst",
         "type": "\"string\""
        },
        {
         "metadata": "{}",
         "name": "averageRating",
         "type": "\"double\""
        },
        {
         "metadata": "{}",
         "name": "numVotes",
         "type": "\"long\""
        }
       ],
       "type": "table"
      }
     },
     "output_type": "display_data"
    }
   ],
   "source": [
    "%sql \n",
    "SELECT * FROM bronze.title_ratings LIMIT 10"
   ]
  },
  {
   "cell_type": "markdown",
   "metadata": {
    "application/vnd.databricks.v1+cell": {
     "cellMetadata": {
      "byteLimit": 2048000,
      "rowLimit": 10000
     },
     "inputWidgets": {},
     "nuid": "7f9315b9-5dab-4276-988a-07629b406ce0",
     "showTitle": false,
     "tableResultSettingsMap": {},
     "title": ""
    }
   },
   "source": [
    "Verificando os TIPOS de títulos na coluna TITLETYPE e suas quantidades."
   ]
  },
  {
   "cell_type": "code",
   "execution_count": 0,
   "metadata": {
    "application/vnd.databricks.v1+cell": {
     "cellMetadata": {
      "byteLimit": 2048000,
      "implicitDf": true,
      "rowLimit": 10000
     },
     "inputWidgets": {},
     "nuid": "d8ecba05-15a1-4d08-9f9f-0955110e9f10",
     "showTitle": false,
     "tableResultSettingsMap": {},
     "title": ""
    }
   },
   "outputs": [
    {
     "output_type": "display_data",
     "data": {
      "text/html": [
       "<style scoped>\n",
       "  .table-result-container {\n",
       "    max-height: 300px;\n",
       "    overflow: auto;\n",
       "  }\n",
       "  table, th, td {\n",
       "    border: 1px solid black;\n",
       "    border-collapse: collapse;\n",
       "  }\n",
       "  th, td {\n",
       "    padding: 5px;\n",
       "  }\n",
       "  th {\n",
       "    text-align: left;\n",
       "  }\n",
       "</style><div class='table-result-container'><table class='table-result'><thead style='background-color: white'><tr><th>titleType</th><th>count(1)</th></tr></thead><tbody><tr><td>tvSeries</td><td>279656</td></tr><tr><td>tvMiniSeries</td><td>60883</td></tr><tr><td>tvMovie</td><td>150544</td></tr><tr><td>tvEpisode</td><td>8904214</td></tr><tr><td>movie</td><td>711500</td></tr><tr><td>tvSpecial</td><td>51888</td></tr><tr><td>video</td><td>308748</td></tr><tr><td>videoGame</td><td>42528</td></tr><tr><td>tvShort</td><td>10617</td></tr><tr><td>short</td><td>1053791</td></tr><tr><td>tvPilot</td><td>1</td></tr></tbody></table></div>"
      ]
     },
     "metadata": {
      "application/vnd.databricks.v1+output": {
       "addedWidgets": {},
       "aggData": [],
       "aggError": "",
       "aggOverflow": false,
       "aggSchema": [],
       "aggSeriesLimitReached": false,
       "aggType": "",
       "arguments": {},
       "columnCustomDisplayInfos": {},
       "data": [
        [
         "tvSeries",
         279656
        ],
        [
         "tvMiniSeries",
         60883
        ],
        [
         "tvMovie",
         150544
        ],
        [
         "tvEpisode",
         8904214
        ],
        [
         "movie",
         711500
        ],
        [
         "tvSpecial",
         51888
        ],
        [
         "video",
         308748
        ],
        [
         "videoGame",
         42528
        ],
        [
         "tvShort",
         10617
        ],
        [
         "short",
         1053791
        ],
        [
         "tvPilot",
         1
        ]
       ],
       "datasetInfos": [],
       "dbfsResultPath": null,
       "isJsonSchema": true,
       "metadata": {},
       "overflow": false,
       "plotOptions": {
        "customPlotOptions": {},
        "displayType": "table",
        "pivotAggregation": null,
        "pivotColumns": null,
        "xColumns": null,
        "yColumns": null
       },
       "removedWidgets": [],
       "schema": [
        {
         "metadata": "{}",
         "name": "titleType",
         "type": "\"string\""
        },
        {
         "metadata": "{\"__autoGeneratedAlias\":\"true\"}",
         "name": "count(1)",
         "type": "\"long\""
        }
       ],
       "type": "table"
      }
     },
     "output_type": "display_data"
    }
   ],
   "source": [
    "%sql select bronze.title_basics.titleType, count(*) from bronze.title_basics group by bronze.title_basics.titleType\n"
   ]
  },
  {
   "cell_type": "markdown",
   "metadata": {
    "application/vnd.databricks.v1+cell": {
     "cellMetadata": {
      "byteLimit": 2048000,
      "rowLimit": 10000
     },
     "inputWidgets": {},
     "nuid": "0c41e2ea-19c2-44cc-ada1-d7041b3025e4",
     "showTitle": false,
     "tableResultSettingsMap": {},
     "title": ""
    }
   },
   "source": [
    "Verificando se a coluna STARTYEAR possui algum ELEMENTO diferente de NÚMEROS(ANOS)."
   ]
  },
  {
   "cell_type": "code",
   "execution_count": 0,
   "metadata": {
    "application/vnd.databricks.v1+cell": {
     "cellMetadata": {
      "byteLimit": 2048000,
      "implicitDf": true,
      "rowLimit": 10000
     },
     "inputWidgets": {},
     "nuid": "f71c7e3e-fe51-48f9-af75-e7b0525d28b5",
     "showTitle": false,
     "tableResultSettingsMap": {},
     "title": ""
    }
   },
   "outputs": [
    {
     "output_type": "display_data",
     "data": {
      "text/html": [
       "<style scoped>\n",
       "  .table-result-container {\n",
       "    max-height: 300px;\n",
       "    overflow: auto;\n",
       "  }\n",
       "  table, th, td {\n",
       "    border: 1px solid black;\n",
       "    border-collapse: collapse;\n",
       "  }\n",
       "  th, td {\n",
       "    padding: 5px;\n",
       "  }\n",
       "  th {\n",
       "    text-align: left;\n",
       "  }\n",
       "</style><div class='table-result-container'><table class='table-result'><thead style='background-color: white'><tr><th>startyear</th><th>count(1)</th></tr></thead><tbody><tr><td>\\N</td><td>1427862</td></tr><tr><td>2031</td><td>1</td></tr><tr><td>2030</td><td>11</td></tr><tr><td>2029</td><td>10</td></tr><tr><td>2028</td><td>17</td></tr><tr><td>2027</td><td>75</td></tr><tr><td>2026</td><td>993</td></tr><tr><td>2025</td><td>90412</td></tr><tr><td>2024</td><td>402648</td></tr><tr><td>2023</td><td>458822</td></tr><tr><td>2022</td><td>492834</td></tr><tr><td>2021</td><td>509564</td></tr><tr><td>2020</td><td>437291</td></tr><tr><td>2019</td><td>455113</td></tr><tr><td>2018</td><td>458580</td></tr><tr><td>2017</td><td>452402</td></tr><tr><td>2016</td><td>428250</td></tr><tr><td>2015</td><td>402961</td></tr><tr><td>2014</td><td>382024</td></tr><tr><td>2013</td><td>360410</td></tr><tr><td>2012</td><td>336117</td></tr><tr><td>2011</td><td>296266</td></tr><tr><td>2010</td><td>263695</td></tr><tr><td>2009</td><td>231028</td></tr><tr><td>2008</td><td>219151</td></tr><tr><td>2007</td><td>203207</td></tr><tr><td>2006</td><td>182142</td></tr><tr><td>2005</td><td>166064</td></tr><tr><td>2004</td><td>149962</td></tr><tr><td>2003</td><td>131976</td></tr><tr><td>2002</td><td>119192</td></tr><tr><td>2001</td><td>114814</td></tr><tr><td>2000</td><td>104472</td></tr><tr><td>1999</td><td>100827</td></tr><tr><td>1998</td><td>95441</td></tr><tr><td>1997</td><td>86864</td></tr><tr><td>1996</td><td>80895</td></tr><tr><td>1995</td><td>76001</td></tr><tr><td>1994</td><td>67816</td></tr><tr><td>1993</td><td>64286</td></tr><tr><td>1992</td><td>60057</td></tr><tr><td>1991</td><td>58837</td></tr><tr><td>1990</td><td>57553</td></tr><tr><td>1989</td><td>53744</td></tr><tr><td>1988</td><td>50197</td></tr><tr><td>1987</td><td>50586</td></tr><tr><td>1986</td><td>46543</td></tr><tr><td>1985</td><td>47405</td></tr><tr><td>1984</td><td>45756</td></tr><tr><td>1983</td><td>44211</td></tr><tr><td>1982</td><td>42692</td></tr><tr><td>1981</td><td>39366</td></tr><tr><td>1980</td><td>41410</td></tr><tr><td>1979</td><td>39118</td></tr><tr><td>1978</td><td>39189</td></tr><tr><td>1977</td><td>39022</td></tr><tr><td>1976</td><td>39617</td></tr><tr><td>1975</td><td>39644</td></tr><tr><td>1974</td><td>39543</td></tr><tr><td>1973</td><td>40209</td></tr><tr><td>1972</td><td>39246</td></tr><tr><td>1971</td><td>40157</td></tr><tr><td>1970</td><td>39107</td></tr><tr><td>1969</td><td>40841</td></tr><tr><td>1968</td><td>35243</td></tr><tr><td>1967</td><td>37677</td></tr><tr><td>1966</td><td>35874</td></tr><tr><td>1965</td><td>35851</td></tr><tr><td>1964</td><td>31411</td></tr><tr><td>1963</td><td>28627</td></tr><tr><td>1962</td><td>25455</td></tr><tr><td>1961</td><td>26377</td></tr><tr><td>1960</td><td>25464</td></tr><tr><td>1959</td><td>23075</td></tr><tr><td>1958</td><td>22542</td></tr><tr><td>1957</td><td>19619</td></tr><tr><td>1956</td><td>17602</td></tr><tr><td>1955</td><td>17889</td></tr><tr><td>1954</td><td>18243</td></tr><tr><td>1953</td><td>13660</td></tr><tr><td>1952</td><td>12231</td></tr><tr><td>1951</td><td>10952</td></tr><tr><td>1950</td><td>8259</td></tr><tr><td>1949</td><td>5498</td></tr><tr><td>1948</td><td>3928</td></tr><tr><td>1947</td><td>3084</td></tr><tr><td>1946</td><td>2804</td></tr><tr><td>1945</td><td>2133</td></tr><tr><td>1944</td><td>2112</td></tr><tr><td>1943</td><td>2284</td></tr><tr><td>1942</td><td>2489</td></tr><tr><td>1941</td><td>2579</td></tr><tr><td>1940</td><td>2631</td></tr><tr><td>1939</td><td>3087</td></tr><tr><td>1938</td><td>3451</td></tr><tr><td>1937</td><td>3660</td></tr><tr><td>1936</td><td>3421</td></tr><tr><td>1935</td><td>3025</td></tr><tr><td>1934</td><td>3043</td></tr><tr><td>1933</td><td>2995</td></tr><tr><td>1932</td><td>3195</td></tr><tr><td>1931</td><td>3486</td></tr><tr><td>1930</td><td>3370</td></tr><tr><td>1929</td><td>3851</td></tr><tr><td>1928</td><td>3636</td></tr><tr><td>1927</td><td>3640</td></tr><tr><td>1926</td><td>3503</td></tr><tr><td>1925</td><td>3489</td></tr><tr><td>1924</td><td>3170</td></tr><tr><td>1923</td><td>3096</td></tr><tr><td>1922</td><td>3677</td></tr><tr><td>1921</td><td>4302</td></tr><tr><td>1920</td><td>4593</td></tr><tr><td>1919</td><td>4230</td></tr><tr><td>1918</td><td>4764</td></tr><tr><td>1917</td><td>5759</td></tr><tr><td>1916</td><td>7110</td></tr><tr><td>1915</td><td>8596</td></tr><tr><td>1914</td><td>9394</td></tr><tr><td>1913</td><td>9790</td></tr><tr><td>1912</td><td>8739</td></tr><tr><td>1911</td><td>7770</td></tr><tr><td>1910</td><td>6423</td></tr><tr><td>1909</td><td>5427</td></tr><tr><td>1908</td><td>4306</td></tr><tr><td>1907</td><td>2483</td></tr><tr><td>1906</td><td>1868</td></tr><tr><td>1905</td><td>1710</td></tr><tr><td>1904</td><td>1835</td></tr><tr><td>1903</td><td>2675</td></tr><tr><td>1902</td><td>1812</td></tr><tr><td>1901</td><td>1775</td></tr><tr><td>1900</td><td>1872</td></tr><tr><td>1899</td><td>1808</td></tr><tr><td>1898</td><td>1806</td></tr><tr><td>1897</td><td>1350</td></tr><tr><td>1896</td><td>872</td></tr><tr><td>1895</td><td>112</td></tr><tr><td>1894</td><td>103</td></tr><tr><td>1893</td><td>8</td></tr><tr><td>1892</td><td>10</td></tr><tr><td>1891</td><td>15</td></tr><tr><td>1890</td><td>7</td></tr><tr><td>1889</td><td>2</td></tr><tr><td>1888</td><td>7</td></tr><tr><td>1887</td><td>45</td></tr><tr><td>1885</td><td>1</td></tr><tr><td>1883</td><td>1</td></tr><tr><td>1882</td><td>2</td></tr><tr><td>1881</td><td>22</td></tr><tr><td>1878</td><td>31</td></tr><tr><td>1874</td><td>1</td></tr></tbody></table></div>"
      ]
     },
     "metadata": {
      "application/vnd.databricks.v1+output": {
       "addedWidgets": {},
       "aggData": [],
       "aggError": "",
       "aggOverflow": false,
       "aggSchema": [],
       "aggSeriesLimitReached": false,
       "aggType": "",
       "arguments": {},
       "columnCustomDisplayInfos": {},
       "data": [
        [
         "\\N",
         1427862
        ],
        [
         "2031",
         1
        ],
        [
         "2030",
         11
        ],
        [
         "2029",
         10
        ],
        [
         "2028",
         17
        ],
        [
         "2027",
         75
        ],
        [
         "2026",
         993
        ],
        [
         "2025",
         90412
        ],
        [
         "2024",
         402648
        ],
        [
         "2023",
         458822
        ],
        [
         "2022",
         492834
        ],
        [
         "2021",
         509564
        ],
        [
         "2020",
         437291
        ],
        [
         "2019",
         455113
        ],
        [
         "2018",
         458580
        ],
        [
         "2017",
         452402
        ],
        [
         "2016",
         428250
        ],
        [
         "2015",
         402961
        ],
        [
         "2014",
         382024
        ],
        [
         "2013",
         360410
        ],
        [
         "2012",
         336117
        ],
        [
         "2011",
         296266
        ],
        [
         "2010",
         263695
        ],
        [
         "2009",
         231028
        ],
        [
         "2008",
         219151
        ],
        [
         "2007",
         203207
        ],
        [
         "2006",
         182142
        ],
        [
         "2005",
         166064
        ],
        [
         "2004",
         149962
        ],
        [
         "2003",
         131976
        ],
        [
         "2002",
         119192
        ],
        [
         "2001",
         114814
        ],
        [
         "2000",
         104472
        ],
        [
         "1999",
         100827
        ],
        [
         "1998",
         95441
        ],
        [
         "1997",
         86864
        ],
        [
         "1996",
         80895
        ],
        [
         "1995",
         76001
        ],
        [
         "1994",
         67816
        ],
        [
         "1993",
         64286
        ],
        [
         "1992",
         60057
        ],
        [
         "1991",
         58837
        ],
        [
         "1990",
         57553
        ],
        [
         "1989",
         53744
        ],
        [
         "1988",
         50197
        ],
        [
         "1987",
         50586
        ],
        [
         "1986",
         46543
        ],
        [
         "1985",
         47405
        ],
        [
         "1984",
         45756
        ],
        [
         "1983",
         44211
        ],
        [
         "1982",
         42692
        ],
        [
         "1981",
         39366
        ],
        [
         "1980",
         41410
        ],
        [
         "1979",
         39118
        ],
        [
         "1978",
         39189
        ],
        [
         "1977",
         39022
        ],
        [
         "1976",
         39617
        ],
        [
         "1975",
         39644
        ],
        [
         "1974",
         39543
        ],
        [
         "1973",
         40209
        ],
        [
         "1972",
         39246
        ],
        [
         "1971",
         40157
        ],
        [
         "1970",
         39107
        ],
        [
         "1969",
         40841
        ],
        [
         "1968",
         35243
        ],
        [
         "1967",
         37677
        ],
        [
         "1966",
         35874
        ],
        [
         "1965",
         35851
        ],
        [
         "1964",
         31411
        ],
        [
         "1963",
         28627
        ],
        [
         "1962",
         25455
        ],
        [
         "1961",
         26377
        ],
        [
         "1960",
         25464
        ],
        [
         "1959",
         23075
        ],
        [
         "1958",
         22542
        ],
        [
         "1957",
         19619
        ],
        [
         "1956",
         17602
        ],
        [
         "1955",
         17889
        ],
        [
         "1954",
         18243
        ],
        [
         "1953",
         13660
        ],
        [
         "1952",
         12231
        ],
        [
         "1951",
         10952
        ],
        [
         "1950",
         8259
        ],
        [
         "1949",
         5498
        ],
        [
         "1948",
         3928
        ],
        [
         "1947",
         3084
        ],
        [
         "1946",
         2804
        ],
        [
         "1945",
         2133
        ],
        [
         "1944",
         2112
        ],
        [
         "1943",
         2284
        ],
        [
         "1942",
         2489
        ],
        [
         "1941",
         2579
        ],
        [
         "1940",
         2631
        ],
        [
         "1939",
         3087
        ],
        [
         "1938",
         3451
        ],
        [
         "1937",
         3660
        ],
        [
         "1936",
         3421
        ],
        [
         "1935",
         3025
        ],
        [
         "1934",
         3043
        ],
        [
         "1933",
         2995
        ],
        [
         "1932",
         3195
        ],
        [
         "1931",
         3486
        ],
        [
         "1930",
         3370
        ],
        [
         "1929",
         3851
        ],
        [
         "1928",
         3636
        ],
        [
         "1927",
         3640
        ],
        [
         "1926",
         3503
        ],
        [
         "1925",
         3489
        ],
        [
         "1924",
         3170
        ],
        [
         "1923",
         3096
        ],
        [
         "1922",
         3677
        ],
        [
         "1921",
         4302
        ],
        [
         "1920",
         4593
        ],
        [
         "1919",
         4230
        ],
        [
         "1918",
         4764
        ],
        [
         "1917",
         5759
        ],
        [
         "1916",
         7110
        ],
        [
         "1915",
         8596
        ],
        [
         "1914",
         9394
        ],
        [
         "1913",
         9790
        ],
        [
         "1912",
         8739
        ],
        [
         "1911",
         7770
        ],
        [
         "1910",
         6423
        ],
        [
         "1909",
         5427
        ],
        [
         "1908",
         4306
        ],
        [
         "1907",
         2483
        ],
        [
         "1906",
         1868
        ],
        [
         "1905",
         1710
        ],
        [
         "1904",
         1835
        ],
        [
         "1903",
         2675
        ],
        [
         "1902",
         1812
        ],
        [
         "1901",
         1775
        ],
        [
         "1900",
         1872
        ],
        [
         "1899",
         1808
        ],
        [
         "1898",
         1806
        ],
        [
         "1897",
         1350
        ],
        [
         "1896",
         872
        ],
        [
         "1895",
         112
        ],
        [
         "1894",
         103
        ],
        [
         "1893",
         8
        ],
        [
         "1892",
         10
        ],
        [
         "1891",
         15
        ],
        [
         "1890",
         7
        ],
        [
         "1889",
         2
        ],
        [
         "1888",
         7
        ],
        [
         "1887",
         45
        ],
        [
         "1885",
         1
        ],
        [
         "1883",
         1
        ],
        [
         "1882",
         2
        ],
        [
         "1881",
         22
        ],
        [
         "1878",
         31
        ],
        [
         "1874",
         1
        ]
       ],
       "datasetInfos": [],
       "dbfsResultPath": null,
       "isJsonSchema": true,
       "metadata": {},
       "overflow": false,
       "plotOptions": {
        "customPlotOptions": {},
        "displayType": "table",
        "pivotAggregation": null,
        "pivotColumns": null,
        "xColumns": null,
        "yColumns": null
       },
       "removedWidgets": [],
       "schema": [
        {
         "metadata": "{}",
         "name": "startyear",
         "type": "\"string\""
        },
        {
         "metadata": "{\"__autoGeneratedAlias\":\"true\"}",
         "name": "count(1)",
         "type": "\"long\""
        }
       ],
       "type": "table"
      }
     },
     "output_type": "display_data"
    }
   ],
   "source": [
    "%sql select bronze.title_basics.startyear, count(*) from bronze.title_basics group by bronze.title_basics.startyear order by startYear desc"
   ]
  },
  {
   "cell_type": "markdown",
   "metadata": {
    "application/vnd.databricks.v1+cell": {
     "cellMetadata": {
      "byteLimit": 2048000,
      "rowLimit": 10000
     },
     "inputWidgets": {},
     "nuid": "9bf136ed-b34a-47e2-a589-9b1efdcdc24d",
     "showTitle": false,
     "tableResultSettingsMap": {},
     "title": ""
    }
   },
   "source": [
    "SELECT dos dados com os filtros de limpeza."
   ]
  },
  {
   "cell_type": "code",
   "execution_count": 0,
   "metadata": {
    "application/vnd.databricks.v1+cell": {
     "cellMetadata": {
      "byteLimit": 2048000,
      "implicitDf": true,
      "rowLimit": 10000
     },
     "inputWidgets": {},
     "nuid": "0e6e57b2-afd9-4a79-a4d8-11b154bed7be",
     "showTitle": false,
     "tableResultSettingsMap": {},
     "title": ""
    }
   },
   "outputs": [
    {
     "output_type": "display_data",
     "data": {
      "text/html": [
       "<style scoped>\n",
       "  .table-result-container {\n",
       "    max-height: 300px;\n",
       "    overflow: auto;\n",
       "  }\n",
       "  table, th, td {\n",
       "    border: 1px solid black;\n",
       "    border-collapse: collapse;\n",
       "  }\n",
       "  th, td {\n",
       "    padding: 5px;\n",
       "  }\n",
       "  th {\n",
       "    text-align: left;\n",
       "  }\n",
       "</style><div class='table-result-container'><table class='table-result'><thead style='background-color: white'><tr><th>tconst</th><th>titleType</th><th>originalTitle</th><th>startYear</th></tr></thead><tbody><tr><td>tt5637536</td><td>movie</td><td>Avatar 5</td><td>2031</td></tr><tr><td>tt21416934</td><td>movie</td><td>The End of Us</td><td>2030</td></tr><tr><td>tt36261036</td><td>movie</td><td>Coco 2</td><td>2029</td></tr><tr><td>tt3095356</td><td>movie</td><td>Avatar 4</td><td>2029</td></tr><tr><td>tt3671274</td><td>movie</td><td>Nova Era: o futuro começa agora</td><td>2029</td></tr><tr><td>tt32293987</td><td>movie</td><td>The Time Machine</td><td>2029</td></tr><tr><td>tt18310174</td><td>movie</td><td>The Dark Dinosaur Movie: Darkness of the Multiverse</td><td>2028</td></tr><tr><td>tt27696374</td><td>movie</td><td>Agent Owen</td><td>2028</td></tr><tr><td>tt20871176</td><td>movie</td><td>Seesaw</td><td>2028</td></tr><tr><td>tt13140462</td><td>movie</td><td>Peter Pan and the Adventures of Dreams</td><td>2028</td></tr></tbody></table></div>"
      ]
     },
     "metadata": {
      "application/vnd.databricks.v1+output": {
       "addedWidgets": {},
       "aggData": [],
       "aggError": "",
       "aggOverflow": false,
       "aggSchema": [],
       "aggSeriesLimitReached": false,
       "aggType": "",
       "arguments": {},
       "columnCustomDisplayInfos": {},
       "data": [
        [
         "tt5637536",
         "movie",
         "Avatar 5",
         "2031"
        ],
        [
         "tt21416934",
         "movie",
         "The End of Us",
         "2030"
        ],
        [
         "tt36261036",
         "movie",
         "Coco 2",
         "2029"
        ],
        [
         "tt3095356",
         "movie",
         "Avatar 4",
         "2029"
        ],
        [
         "tt3671274",
         "movie",
         "Nova Era: o futuro começa agora",
         "2029"
        ],
        [
         "tt32293987",
         "movie",
         "The Time Machine",
         "2029"
        ],
        [
         "tt18310174",
         "movie",
         "The Dark Dinosaur Movie: Darkness of the Multiverse",
         "2028"
        ],
        [
         "tt27696374",
         "movie",
         "Agent Owen",
         "2028"
        ],
        [
         "tt20871176",
         "movie",
         "Seesaw",
         "2028"
        ],
        [
         "tt13140462",
         "movie",
         "Peter Pan and the Adventures of Dreams",
         "2028"
        ]
       ],
       "datasetInfos": [],
       "dbfsResultPath": null,
       "isJsonSchema": true,
       "metadata": {},
       "overflow": false,
       "plotOptions": {
        "customPlotOptions": {},
        "displayType": "table",
        "pivotAggregation": null,
        "pivotColumns": null,
        "xColumns": null,
        "yColumns": null
       },
       "removedWidgets": [],
       "schema": [
        {
         "metadata": "{}",
         "name": "tconst",
         "type": "\"string\""
        },
        {
         "metadata": "{}",
         "name": "titleType",
         "type": "\"string\""
        },
        {
         "metadata": "{}",
         "name": "originalTitle",
         "type": "\"string\""
        },
        {
         "metadata": "{}",
         "name": "startYear",
         "type": "\"string\""
        }
       ],
       "type": "table"
      }
     },
     "output_type": "display_data"
    }
   ],
   "source": [
    "%sql SELECT tb.tconst, tb.titleType, tb.originalTitle, tb.startYear FROM bronze.title_basics as tb WHERE tb.titleType='movie' and tb.startYear not like '%\\N%' order by startYear desc LIMIT 10"
   ]
  },
  {
   "cell_type": "markdown",
   "metadata": {
    "application/vnd.databricks.v1+cell": {
     "cellMetadata": {
      "byteLimit": 2048000,
      "rowLimit": 10000
     },
     "inputWidgets": {},
     "nuid": "9cd1ee45-6bcd-4755-a82e-f50d1a789ab5",
     "showTitle": false,
     "tableResultSettingsMap": {},
     "title": ""
    }
   },
   "source": [
    "Criando a base SILVER."
   ]
  },
  {
   "cell_type": "code",
   "execution_count": 0,
   "metadata": {
    "application/vnd.databricks.v1+cell": {
     "cellMetadata": {
      "byteLimit": 2048000,
      "implicitDf": true,
      "rowLimit": 10000
     },
     "inputWidgets": {},
     "nuid": "67b320ec-fc76-4330-8d30-a86cb4a1f2da",
     "showTitle": false,
     "tableResultSettingsMap": {},
     "title": ""
    }
   },
   "outputs": [
    {
     "output_type": "display_data",
     "data": {
      "text/html": [
       "<style scoped>\n",
       "  .table-result-container {\n",
       "    max-height: 300px;\n",
       "    overflow: auto;\n",
       "  }\n",
       "  table, th, td {\n",
       "    border: 1px solid black;\n",
       "    border-collapse: collapse;\n",
       "  }\n",
       "  th, td {\n",
       "    padding: 5px;\n",
       "  }\n",
       "  th {\n",
       "    text-align: left;\n",
       "  }\n",
       "</style><div class='table-result-container'><table class='table-result'><thead style='background-color: white'><tr></tr></thead><tbody></tbody></table></div>"
      ]
     },
     "metadata": {
      "application/vnd.databricks.v1+output": {
       "addedWidgets": {},
       "aggData": [],
       "aggError": "",
       "aggOverflow": false,
       "aggSchema": [],
       "aggSeriesLimitReached": false,
       "aggType": "",
       "arguments": {},
       "columnCustomDisplayInfos": {},
       "data": [],
       "datasetInfos": [],
       "dbfsResultPath": null,
       "isJsonSchema": true,
       "metadata": {},
       "overflow": false,
       "plotOptions": {
        "customPlotOptions": {},
        "displayType": "table",
        "pivotAggregation": null,
        "pivotColumns": null,
        "xColumns": null,
        "yColumns": null
       },
       "removedWidgets": [],
       "schema": [],
       "type": "table"
      }
     },
     "output_type": "display_data"
    }
   ],
   "source": [
    "%sql\n",
    "DROP DATABASE silver;"
   ]
  },
  {
   "cell_type": "code",
   "execution_count": 0,
   "metadata": {
    "application/vnd.databricks.v1+cell": {
     "cellMetadata": {
      "byteLimit": 2048000,
      "implicitDf": true,
      "rowLimit": 10000
     },
     "inputWidgets": {},
     "nuid": "cf47f86d-fde4-43fd-877a-9311852929c6",
     "showTitle": false,
     "tableResultSettingsMap": {},
     "title": ""
    }
   },
   "outputs": [
    {
     "output_type": "display_data",
     "data": {
      "text/html": [
       "<style scoped>\n",
       "  .table-result-container {\n",
       "    max-height: 300px;\n",
       "    overflow: auto;\n",
       "  }\n",
       "  table, th, td {\n",
       "    border: 1px solid black;\n",
       "    border-collapse: collapse;\n",
       "  }\n",
       "  th, td {\n",
       "    padding: 5px;\n",
       "  }\n",
       "  th {\n",
       "    text-align: left;\n",
       "  }\n",
       "</style><div class='table-result-container'><table class='table-result'><thead style='background-color: white'><tr></tr></thead><tbody></tbody></table></div>"
      ]
     },
     "metadata": {
      "application/vnd.databricks.v1+output": {
       "addedWidgets": {},
       "aggData": [],
       "aggError": "",
       "aggOverflow": false,
       "aggSchema": [],
       "aggSeriesLimitReached": false,
       "aggType": "",
       "arguments": {},
       "columnCustomDisplayInfos": {},
       "data": [],
       "datasetInfos": [],
       "dbfsResultPath": null,
       "isJsonSchema": true,
       "metadata": {},
       "overflow": false,
       "plotOptions": {
        "customPlotOptions": {},
        "displayType": "table",
        "pivotAggregation": null,
        "pivotColumns": null,
        "xColumns": null,
        "yColumns": null
       },
       "removedWidgets": [],
       "schema": [],
       "type": "table"
      }
     },
     "output_type": "display_data"
    }
   ],
   "source": [
    "%sql \n",
    "CREATE DATABASE silver;"
   ]
  },
  {
   "cell_type": "markdown",
   "metadata": {
    "application/vnd.databricks.v1+cell": {
     "cellMetadata": {
      "byteLimit": 2048000,
      "rowLimit": 10000
     },
     "inputWidgets": {},
     "nuid": "3d246535-3cf3-4643-97d0-1143e06d71db",
     "showTitle": false,
     "tableResultSettingsMap": {},
     "title": ""
    }
   },
   "source": [
    "Criando a tabela SILVER.TITLE_BASICS."
   ]
  },
  {
   "cell_type": "code",
   "execution_count": 0,
   "metadata": {
    "application/vnd.databricks.v1+cell": {
     "cellMetadata": {
      "byteLimit": 2048000,
      "implicitDf": true,
      "rowLimit": 10000
     },
     "inputWidgets": {},
     "nuid": "80a27310-3cd1-4a00-83ee-f1cc2b5bee33",
     "showTitle": false,
     "tableResultSettingsMap": {},
     "title": ""
    }
   },
   "outputs": [
    {
     "output_type": "display_data",
     "data": {
      "text/html": [
       "<style scoped>\n",
       "  .table-result-container {\n",
       "    max-height: 300px;\n",
       "    overflow: auto;\n",
       "  }\n",
       "  table, th, td {\n",
       "    border: 1px solid black;\n",
       "    border-collapse: collapse;\n",
       "  }\n",
       "  th, td {\n",
       "    padding: 5px;\n",
       "  }\n",
       "  th {\n",
       "    text-align: left;\n",
       "  }\n",
       "</style><div class='table-result-container'><table class='table-result'><thead style='background-color: white'><tr><th>num_affected_rows</th><th>num_inserted_rows</th></tr></thead><tbody></tbody></table></div>"
      ]
     },
     "metadata": {
      "application/vnd.databricks.v1+output": {
       "addedWidgets": {},
       "aggData": [],
       "aggError": "",
       "aggOverflow": false,
       "aggSchema": [],
       "aggSeriesLimitReached": false,
       "aggType": "",
       "arguments": {},
       "columnCustomDisplayInfos": {},
       "data": [],
       "datasetInfos": [],
       "dbfsResultPath": null,
       "isJsonSchema": true,
       "metadata": {},
       "overflow": false,
       "plotOptions": {
        "customPlotOptions": {},
        "displayType": "table",
        "pivotAggregation": null,
        "pivotColumns": null,
        "xColumns": null,
        "yColumns": null
       },
       "removedWidgets": [],
       "schema": [
        {
         "metadata": "{}",
         "name": "num_affected_rows",
         "type": "\"long\""
        },
        {
         "metadata": "{}",
         "name": "num_inserted_rows",
         "type": "\"long\""
        }
       ],
       "type": "table"
      }
     },
     "output_type": "display_data"
    }
   ],
   "source": [
    "%sql create table silver.title_basics as SELECT tb.tconst, tb.titleType, tb.originalTitle, tb.startYear FROM bronze.title_basics as tb WHERE tb.titleType='movie' and tb.startYear not like '%\\N%' and tb.startYear>='2010'"
   ]
  },
  {
   "cell_type": "markdown",
   "metadata": {
    "application/vnd.databricks.v1+cell": {
     "cellMetadata": {
      "byteLimit": 2048000,
      "rowLimit": 10000
     },
     "inputWidgets": {},
     "nuid": "8fa75c0f-22d5-4861-93d2-24e8b65a03cc",
     "showTitle": false,
     "tableResultSettingsMap": {},
     "title": ""
    }
   },
   "source": [
    "Conferindo a criação da tabela."
   ]
  },
  {
   "cell_type": "code",
   "execution_count": 0,
   "metadata": {
    "application/vnd.databricks.v1+cell": {
     "cellMetadata": {
      "byteLimit": 2048000,
      "implicitDf": true,
      "rowLimit": 10000
     },
     "inputWidgets": {},
     "nuid": "86752b23-b3ea-45b7-a416-57abe9e6df9d",
     "showTitle": false,
     "tableResultSettingsMap": {},
     "title": ""
    }
   },
   "outputs": [
    {
     "output_type": "display_data",
     "data": {
      "text/html": [
       "<style scoped>\n",
       "  .table-result-container {\n",
       "    max-height: 300px;\n",
       "    overflow: auto;\n",
       "  }\n",
       "  table, th, td {\n",
       "    border: 1px solid black;\n",
       "    border-collapse: collapse;\n",
       "  }\n",
       "  th, td {\n",
       "    padding: 5px;\n",
       "  }\n",
       "  th {\n",
       "    text-align: left;\n",
       "  }\n",
       "</style><div class='table-result-container'><table class='table-result'><thead style='background-color: white'><tr><th>tconst</th><th>titleType</th><th>originalTitle</th><th>startYear</th></tr></thead><tbody><tr><td>tt0011801</td><td>movie</td><td>Tötet nicht mehr</td><td>2019</td></tr><tr><td>tt0062336</td><td>movie</td><td>El tango del viudo y su espejo deformante</td><td>2020</td></tr><tr><td>tt0069049</td><td>movie</td><td>The Other Side of the Wind</td><td>2018</td></tr><tr><td>tt0070596</td><td>movie</td><td>El realismo socialista</td><td>2023</td></tr><tr><td>tt0077684</td><td>movie</td><td>Histórias de Combóios em Portugal</td><td>2022</td></tr><tr><td>tt0093119</td><td>movie</td><td>Grizzly II: The Predator</td><td>2020</td></tr><tr><td>tt0097767</td><td>movie</td><td>Loading Ludwig</td><td>2022</td></tr><tr><td>tt0100275</td><td>movie</td><td>La Telenovela Errante</td><td>2017</td></tr><tr><td>tt0104988</td><td>movie</td><td>Neues in Wittstock</td><td>2021</td></tr><tr><td>tt0108116</td><td>movie</td><td>Shepherd on the Rock</td><td>2014</td></tr></tbody></table></div>"
      ]
     },
     "metadata": {
      "application/vnd.databricks.v1+output": {
       "addedWidgets": {},
       "aggData": [],
       "aggError": "",
       "aggOverflow": false,
       "aggSchema": [],
       "aggSeriesLimitReached": false,
       "aggType": "",
       "arguments": {},
       "columnCustomDisplayInfos": {},
       "data": [
        [
         "tt0011801",
         "movie",
         "Tötet nicht mehr",
         "2019"
        ],
        [
         "tt0062336",
         "movie",
         "El tango del viudo y su espejo deformante",
         "2020"
        ],
        [
         "tt0069049",
         "movie",
         "The Other Side of the Wind",
         "2018"
        ],
        [
         "tt0070596",
         "movie",
         "El realismo socialista",
         "2023"
        ],
        [
         "tt0077684",
         "movie",
         "Histórias de Combóios em Portugal",
         "2022"
        ],
        [
         "tt0093119",
         "movie",
         "Grizzly II: The Predator",
         "2020"
        ],
        [
         "tt0097767",
         "movie",
         "Loading Ludwig",
         "2022"
        ],
        [
         "tt0100275",
         "movie",
         "La Telenovela Errante",
         "2017"
        ],
        [
         "tt0104988",
         "movie",
         "Neues in Wittstock",
         "2021"
        ],
        [
         "tt0108116",
         "movie",
         "Shepherd on the Rock",
         "2014"
        ]
       ],
       "datasetInfos": [],
       "dbfsResultPath": null,
       "isJsonSchema": true,
       "metadata": {},
       "overflow": false,
       "plotOptions": {
        "customPlotOptions": {},
        "displayType": "table",
        "pivotAggregation": null,
        "pivotColumns": null,
        "xColumns": null,
        "yColumns": null
       },
       "removedWidgets": [],
       "schema": [
        {
         "metadata": "{}",
         "name": "tconst",
         "type": "\"string\""
        },
        {
         "metadata": "{}",
         "name": "titleType",
         "type": "\"string\""
        },
        {
         "metadata": "{}",
         "name": "originalTitle",
         "type": "\"string\""
        },
        {
         "metadata": "{}",
         "name": "startYear",
         "type": "\"string\""
        }
       ],
       "type": "table"
      }
     },
     "output_type": "display_data"
    }
   ],
   "source": [
    "%sql\n",
    "select * from silver.title_basics LIMIT 10"
   ]
  },
  {
   "cell_type": "markdown",
   "metadata": {
    "application/vnd.databricks.v1+cell": {
     "cellMetadata": {
      "byteLimit": 2048000,
      "rowLimit": 10000
     },
     "inputWidgets": {},
     "nuid": "c54bc0da-11c9-4250-87c3-769b1d0eddae",
     "showTitle": false,
     "tableResultSettingsMap": {},
     "title": ""
    }
   },
   "source": [
    "Verificando o MÍNIMO e o MÁXIMO da coluna NUMVOTES."
   ]
  },
  {
   "cell_type": "code",
   "execution_count": 0,
   "metadata": {
    "application/vnd.databricks.v1+cell": {
     "cellMetadata": {
      "byteLimit": 2048000,
      "implicitDf": true,
      "rowLimit": 10000
     },
     "inputWidgets": {},
     "nuid": "3d553d79-a04f-4850-bc33-cb50267763aa",
     "showTitle": false,
     "tableResultSettingsMap": {},
     "title": ""
    }
   },
   "outputs": [
    {
     "output_type": "display_data",
     "data": {
      "text/html": [
       "<style scoped>\n",
       "  .table-result-container {\n",
       "    max-height: 300px;\n",
       "    overflow: auto;\n",
       "  }\n",
       "  table, th, td {\n",
       "    border: 1px solid black;\n",
       "    border-collapse: collapse;\n",
       "  }\n",
       "  th, td {\n",
       "    padding: 5px;\n",
       "  }\n",
       "  th {\n",
       "    text-align: left;\n",
       "  }\n",
       "</style><div class='table-result-container'><table class='table-result'><thead style='background-color: white'><tr><th>min(numVotes)</th><th>max(numVotes)</th></tr></thead><tbody><tr><td>5</td><td>3028930</td></tr></tbody></table></div>"
      ]
     },
     "metadata": {
      "application/vnd.databricks.v1+output": {
       "addedWidgets": {},
       "aggData": [],
       "aggError": "",
       "aggOverflow": false,
       "aggSchema": [],
       "aggSeriesLimitReached": false,
       "aggType": "",
       "arguments": {},
       "columnCustomDisplayInfos": {},
       "data": [
        [
         5,
         3028930
        ]
       ],
       "datasetInfos": [],
       "dbfsResultPath": null,
       "isJsonSchema": true,
       "metadata": {},
       "overflow": false,
       "plotOptions": {
        "customPlotOptions": {},
        "displayType": "table",
        "pivotAggregation": null,
        "pivotColumns": null,
        "xColumns": null,
        "yColumns": null
       },
       "removedWidgets": [],
       "schema": [
        {
         "metadata": "{\"__autoGeneratedAlias\":\"true\"}",
         "name": "min(numVotes)",
         "type": "\"long\""
        },
        {
         "metadata": "{\"__autoGeneratedAlias\":\"true\"}",
         "name": "max(numVotes)",
         "type": "\"long\""
        }
       ],
       "type": "table"
      }
     },
     "output_type": "display_data"
    }
   ],
   "source": [
    "%sql select min(numVotes), max(numVotes) from bronze.title_ratings"
   ]
  },
  {
   "cell_type": "markdown",
   "metadata": {
    "application/vnd.databricks.v1+cell": {
     "cellMetadata": {
      "byteLimit": 2048000,
      "rowLimit": 10000
     },
     "inputWidgets": {},
     "nuid": "b0eae600-941b-45b6-9c0d-0cecdec3c89a",
     "showTitle": false,
     "tableResultSettingsMap": {},
     "title": ""
    }
   },
   "source": [
    "Limpando a coluna NUMVOTES com os títulos que possuem mais de 10000 votos."
   ]
  },
  {
   "cell_type": "code",
   "execution_count": 0,
   "metadata": {
    "application/vnd.databricks.v1+cell": {
     "cellMetadata": {
      "byteLimit": 2048000,
      "implicitDf": true,
      "rowLimit": 10000
     },
     "inputWidgets": {},
     "nuid": "6cc1f262-6d15-4d48-b97a-6cdb0ec4178c",
     "showTitle": false,
     "tableResultSettingsMap": {},
     "title": ""
    }
   },
   "outputs": [
    {
     "output_type": "display_data",
     "data": {
      "text/html": [
       "<style scoped>\n",
       "  .table-result-container {\n",
       "    max-height: 300px;\n",
       "    overflow: auto;\n",
       "  }\n",
       "  table, th, td {\n",
       "    border: 1px solid black;\n",
       "    border-collapse: collapse;\n",
       "  }\n",
       "  th, td {\n",
       "    padding: 5px;\n",
       "  }\n",
       "  th {\n",
       "    text-align: left;\n",
       "  }\n",
       "</style><div class='table-result-container'><table class='table-result'><thead style='background-color: white'><tr><th>tconst</th><th>averageRating</th><th>numVotes</th></tr></thead><tbody><tr><td>tt0000012</td><td>7.4</td><td>13447</td></tr><tr><td>tt0000417</td><td>8.1</td><td>58288</td></tr><tr><td>tt0000439</td><td>7.2</td><td>21843</td></tr><tr><td>tt0004972</td><td>6.1</td><td>27362</td></tr><tr><td>tt0006864</td><td>7.7</td><td>17349</td></tr><tr><td>tt0009018</td><td>7.6</td><td>10114</td></tr><tr><td>tt0009968</td><td>7.2</td><td>11423</td></tr><tr><td>tt0010323</td><td>8.0</td><td>73235</td></tr><tr><td>tt0012349</td><td>8.2</td><td>140541</td></tr><tr><td>tt0012364</td><td>8.0</td><td>14929</td></tr><tr><td>tt0013257</td><td>7.6</td><td>17925</td></tr><tr><td>tt0013427</td><td>7.6</td><td>13906</td></tr><tr><td>tt0013442</td><td>7.8</td><td>118343</td></tr><tr><td>tt0014341</td><td>7.7</td><td>13006</td></tr><tr><td>tt0014429</td><td>8.1</td><td>23872</td></tr><tr><td>tt0015064</td><td>8.0</td><td>15863</td></tr><tr><td>tt0015163</td><td>7.5</td><td>11581</td></tr><tr><td>tt0015324</td><td>8.2</td><td>61336</td></tr><tr><td>tt0015648</td><td>7.9</td><td>63182</td></tr><tr><td>tt0015864</td><td>8.1</td><td>123210</td></tr><tr><td>tt0015881</td><td>8.0</td><td>11199</td></tr><tr><td>tt0016220</td><td>7.5</td><td>21082</td></tr><tr><td>tt0016332</td><td>7.8</td><td>12312</td></tr><tr><td>tt0016847</td><td>8.1</td><td>17426</td></tr><tr><td>tt0017075</td><td>7.3</td><td>14201</td></tr><tr><td>tt0017136</td><td>8.3</td><td>193421</td></tr><tr><td>tt0017925</td><td>8.1</td><td>102207</td></tr><tr><td>tt0018037</td><td>6.4</td><td>11483</td></tr><tr><td>tt0018455</td><td>8.1</td><td>55261</td></tr><tr><td>tt0018578</td><td>7.5</td><td>15334</td></tr><tr><td>tt0018737</td><td>7.7</td><td>12409</td></tr><tr><td>tt0018742</td><td>8.0</td><td>13800</td></tr><tr><td>tt0018773</td><td>8.1</td><td>37243</td></tr><tr><td>tt0019254</td><td>8.1</td><td>64310</td></tr><tr><td>tt0019421</td><td>7.8</td><td>16793</td></tr><tr><td>tt0019422</td><td>7.4</td><td>11984</td></tr><tr><td>tt0019702</td><td>6.9</td><td>12795</td></tr><tr><td>tt0019760</td><td>8.3</td><td>29116</td></tr><tr><td>tt0020530</td><td>7.6</td><td>55239</td></tr><tr><td>tt0020629</td><td>8.1</td><td>69772</td></tr><tr><td>tt0020640</td><td>7.4</td><td>15637</td></tr><tr><td>tt0020697</td><td>7.6</td><td>16955</td></tr><tr><td>tt0021079</td><td>7.2</td><td>15060</td></tr><tr><td>tt0021577</td><td>7.2</td><td>15229</td></tr><tr><td>tt0021749</td><td>8.5</td><td>205989</td></tr><tr><td>tt0021814</td><td>7.4</td><td>61884</td></tr><tr><td>tt0021884</td><td>7.8</td><td>83248</td></tr><tr><td>tt0022100</td><td>8.3</td><td>176204</td></tr><tr><td>tt0022158</td><td>7.4</td><td>14590</td></tr><tr><td>tt0022286</td><td>7.6</td><td>23842</td></tr><tr><td>tt0022835</td><td>7.6</td><td>16678</td></tr><tr><td>tt0022913</td><td>7.8</td><td>52600</td></tr><tr><td>tt0022958</td><td>7.3</td><td>21581</td></tr><tr><td>tt0023027</td><td>7.5</td><td>13750</td></tr><tr><td>tt0023042</td><td>8.2</td><td>15020</td></tr><tr><td>tt0023238</td><td>7.1</td><td>14639</td></tr><tr><td>tt0023245</td><td>7.0</td><td>31715</td></tr><tr><td>tt0023293</td><td>7.0</td><td>13944</td></tr><tr><td>tt0023427</td><td>7.7</td><td>31799</td></tr><tr><td>tt0023458</td><td>7.3</td><td>11137</td></tr><tr><td>tt0023563</td><td>7.9</td><td>14024</td></tr><tr><td>tt0023622</td><td>7.9</td><td>16798</td></tr><tr><td>tt0023649</td><td>7.4</td><td>21638</td></tr><tr><td>tt0023694</td><td>6.2</td><td>12164</td></tr><tr><td>tt0023969</td><td>7.7</td><td>64034</td></tr><tr><td>tt0024034</td><td>7.3</td><td>13422</td></tr><tr><td>tt0024184</td><td>7.6</td><td>41912</td></tr><tr><td>tt0024188</td><td>7.3</td><td>11645</td></tr><tr><td>tt0024216</td><td>7.9</td><td>93401</td></tr><tr><td>tt0024844</td><td>7.7</td><td>18074</td></tr><tr><td>tt0024894</td><td>6.9</td><td>13634</td></tr><tr><td>tt0025316</td><td>8.1</td><td>116434</td></tr><tr><td>tt0025452</td><td>6.7</td><td>22320</td></tr><tr><td>tt0025878</td><td>7.9</td><td>33717</td></tr><tr><td>tt0025913</td><td>7.1</td><td>19050</td></tr><tr><td>tt0026029</td><td>7.6</td><td>63732</td></tr><tr><td>tt0026138</td><td>7.8</td><td>55640</td></tr><tr><td>tt0026174</td><td>7.7</td><td>16630</td></tr><tr><td>tt0026752</td><td>7.6</td><td>25709</td></tr><tr><td>tt0026778</td><td>7.8</td><td>35600</td></tr><tr><td>tt0027125</td><td>7.7</td><td>21386</td></tr><tr><td>tt0027260</td><td>7.6</td><td>12571</td></tr><tr><td>tt0027532</td><td>7.7</td><td>10603</td></tr><tr><td>tt0027652</td><td>7.8</td><td>14181</td></tr><tr><td>tt0027977</td><td>8.5</td><td>271597</td></tr><tr><td>tt0027996</td><td>7.8</td><td>24091</td></tr><tr><td>tt0028010</td><td>7.9</td><td>27463</td></tr><tr><td>tt0028096</td><td>7.5</td><td>15424</td></tr><tr><td>tt0028212</td><td>7.0</td><td>19691</td></tr><tr><td>tt0028333</td><td>7.5</td><td>15085</td></tr><tr><td>tt0028597</td><td>7.7</td><td>22354</td></tr><tr><td>tt0028691</td><td>7.9</td><td>11403</td></tr><tr><td>tt0028772</td><td>7.5</td><td>14958</td></tr><tr><td>tt0028950</td><td>8.1</td><td>40028</td></tr><tr><td>tt0029162</td><td>7.6</td><td>15077</td></tr><tr><td>tt0029192</td><td>8.1</td><td>10088</td></tr><tr><td>tt0029284</td><td>7.2</td><td>12059</td></tr><tr><td>tt0029583</td><td>7.6</td><td>228760</td></tr><tr><td>tt0029606</td><td>7.3</td><td>11418</td></tr><tr><td>tt0029811</td><td>6.8</td><td>11490</td></tr></tbody></table></div>"
      ]
     },
     "metadata": {
      "application/vnd.databricks.v1+output": {
       "addedWidgets": {},
       "aggData": [],
       "aggError": "",
       "aggOverflow": false,
       "aggSchema": [],
       "aggSeriesLimitReached": false,
       "aggType": "",
       "arguments": {},
       "columnCustomDisplayInfos": {},
       "data": [
        [
         "tt0000012",
         7.4,
         13447
        ],
        [
         "tt0000417",
         8.1,
         58288
        ],
        [
         "tt0000439",
         7.2,
         21843
        ],
        [
         "tt0004972",
         6.1,
         27362
        ],
        [
         "tt0006864",
         7.7,
         17349
        ],
        [
         "tt0009018",
         7.6,
         10114
        ],
        [
         "tt0009968",
         7.2,
         11423
        ],
        [
         "tt0010323",
         8.0,
         73235
        ],
        [
         "tt0012349",
         8.2,
         140541
        ],
        [
         "tt0012364",
         8.0,
         14929
        ],
        [
         "tt0013257",
         7.6,
         17925
        ],
        [
         "tt0013427",
         7.6,
         13906
        ],
        [
         "tt0013442",
         7.8,
         118343
        ],
        [
         "tt0014341",
         7.7,
         13006
        ],
        [
         "tt0014429",
         8.1,
         23872
        ],
        [
         "tt0015064",
         8.0,
         15863
        ],
        [
         "tt0015163",
         7.5,
         11581
        ],
        [
         "tt0015324",
         8.2,
         61336
        ],
        [
         "tt0015648",
         7.9,
         63182
        ],
        [
         "tt0015864",
         8.1,
         123210
        ],
        [
         "tt0015881",
         8.0,
         11199
        ],
        [
         "tt0016220",
         7.5,
         21082
        ],
        [
         "tt0016332",
         7.8,
         12312
        ],
        [
         "tt0016847",
         8.1,
         17426
        ],
        [
         "tt0017075",
         7.3,
         14201
        ],
        [
         "tt0017136",
         8.3,
         193421
        ],
        [
         "tt0017925",
         8.1,
         102207
        ],
        [
         "tt0018037",
         6.4,
         11483
        ],
        [
         "tt0018455",
         8.1,
         55261
        ],
        [
         "tt0018578",
         7.5,
         15334
        ],
        [
         "tt0018737",
         7.7,
         12409
        ],
        [
         "tt0018742",
         8.0,
         13800
        ],
        [
         "tt0018773",
         8.1,
         37243
        ],
        [
         "tt0019254",
         8.1,
         64310
        ],
        [
         "tt0019421",
         7.8,
         16793
        ],
        [
         "tt0019422",
         7.4,
         11984
        ],
        [
         "tt0019702",
         6.9,
         12795
        ],
        [
         "tt0019760",
         8.3,
         29116
        ],
        [
         "tt0020530",
         7.6,
         55239
        ],
        [
         "tt0020629",
         8.1,
         69772
        ],
        [
         "tt0020640",
         7.4,
         15637
        ],
        [
         "tt0020697",
         7.6,
         16955
        ],
        [
         "tt0021079",
         7.2,
         15060
        ],
        [
         "tt0021577",
         7.2,
         15229
        ],
        [
         "tt0021749",
         8.5,
         205989
        ],
        [
         "tt0021814",
         7.4,
         61884
        ],
        [
         "tt0021884",
         7.8,
         83248
        ],
        [
         "tt0022100",
         8.3,
         176204
        ],
        [
         "tt0022158",
         7.4,
         14590
        ],
        [
         "tt0022286",
         7.6,
         23842
        ],
        [
         "tt0022835",
         7.6,
         16678
        ],
        [
         "tt0022913",
         7.8,
         52600
        ],
        [
         "tt0022958",
         7.3,
         21581
        ],
        [
         "tt0023027",
         7.5,
         13750
        ],
        [
         "tt0023042",
         8.2,
         15020
        ],
        [
         "tt0023238",
         7.1,
         14639
        ],
        [
         "tt0023245",
         7.0,
         31715
        ],
        [
         "tt0023293",
         7.0,
         13944
        ],
        [
         "tt0023427",
         7.7,
         31799
        ],
        [
         "tt0023458",
         7.3,
         11137
        ],
        [
         "tt0023563",
         7.9,
         14024
        ],
        [
         "tt0023622",
         7.9,
         16798
        ],
        [
         "tt0023649",
         7.4,
         21638
        ],
        [
         "tt0023694",
         6.2,
         12164
        ],
        [
         "tt0023969",
         7.7,
         64034
        ],
        [
         "tt0024034",
         7.3,
         13422
        ],
        [
         "tt0024184",
         7.6,
         41912
        ],
        [
         "tt0024188",
         7.3,
         11645
        ],
        [
         "tt0024216",
         7.9,
         93401
        ],
        [
         "tt0024844",
         7.7,
         18074
        ],
        [
         "tt0024894",
         6.9,
         13634
        ],
        [
         "tt0025316",
         8.1,
         116434
        ],
        [
         "tt0025452",
         6.7,
         22320
        ],
        [
         "tt0025878",
         7.9,
         33717
        ],
        [
         "tt0025913",
         7.1,
         19050
        ],
        [
         "tt0026029",
         7.6,
         63732
        ],
        [
         "tt0026138",
         7.8,
         55640
        ],
        [
         "tt0026174",
         7.7,
         16630
        ],
        [
         "tt0026752",
         7.6,
         25709
        ],
        [
         "tt0026778",
         7.8,
         35600
        ],
        [
         "tt0027125",
         7.7,
         21386
        ],
        [
         "tt0027260",
         7.6,
         12571
        ],
        [
         "tt0027532",
         7.7,
         10603
        ],
        [
         "tt0027652",
         7.8,
         14181
        ],
        [
         "tt0027977",
         8.5,
         271597
        ],
        [
         "tt0027996",
         7.8,
         24091
        ],
        [
         "tt0028010",
         7.9,
         27463
        ],
        [
         "tt0028096",
         7.5,
         15424
        ],
        [
         "tt0028212",
         7.0,
         19691
        ],
        [
         "tt0028333",
         7.5,
         15085
        ],
        [
         "tt0028597",
         7.7,
         22354
        ],
        [
         "tt0028691",
         7.9,
         11403
        ],
        [
         "tt0028772",
         7.5,
         14958
        ],
        [
         "tt0028950",
         8.1,
         40028
        ],
        [
         "tt0029162",
         7.6,
         15077
        ],
        [
         "tt0029192",
         8.1,
         10088
        ],
        [
         "tt0029284",
         7.2,
         12059
        ],
        [
         "tt0029583",
         7.6,
         228760
        ],
        [
         "tt0029606",
         7.3,
         11418
        ],
        [
         "tt0029811",
         6.8,
         11490
        ]
       ],
       "datasetInfos": [],
       "dbfsResultPath": null,
       "isJsonSchema": true,
       "metadata": {},
       "overflow": false,
       "plotOptions": {
        "customPlotOptions": {},
        "displayType": "table",
        "pivotAggregation": null,
        "pivotColumns": null,
        "xColumns": null,
        "yColumns": null
       },
       "removedWidgets": [],
       "schema": [
        {
         "metadata": "{}",
         "name": "tconst",
         "type": "\"string\""
        },
        {
         "metadata": "{}",
         "name": "averageRating",
         "type": "\"double\""
        },
        {
         "metadata": "{}",
         "name": "numVotes",
         "type": "\"long\""
        }
       ],
       "type": "table"
      }
     },
     "output_type": "display_data"
    }
   ],
   "source": [
    "%sql select * from bronze.title_ratings where numVotes>10000 limit 100 --consulta passa de 10000 registro, usando limit 100 para diminuir o sheet da resposta"
   ]
  },
  {
   "cell_type": "markdown",
   "metadata": {
    "application/vnd.databricks.v1+cell": {
     "cellMetadata": {
      "byteLimit": 2048000,
      "rowLimit": 10000
     },
     "inputWidgets": {},
     "nuid": "a3aeac6c-1cfc-4d52-add3-414b6ac3b600",
     "showTitle": false,
     "tableResultSettingsMap": {},
     "title": ""
    }
   },
   "source": [
    "Verificando o MÍNIMO e o MÁXIMO da coluna AVERAGERATING."
   ]
  },
  {
   "cell_type": "code",
   "execution_count": 0,
   "metadata": {
    "application/vnd.databricks.v1+cell": {
     "cellMetadata": {
      "byteLimit": 2048000,
      "implicitDf": true,
      "rowLimit": 10000
     },
     "inputWidgets": {},
     "nuid": "2108ece1-5773-4181-bb44-89747d6ecc90",
     "showTitle": false,
     "tableResultSettingsMap": {},
     "title": ""
    }
   },
   "outputs": [
    {
     "output_type": "display_data",
     "data": {
      "text/html": [
       "<style scoped>\n",
       "  .table-result-container {\n",
       "    max-height: 300px;\n",
       "    overflow: auto;\n",
       "  }\n",
       "  table, th, td {\n",
       "    border: 1px solid black;\n",
       "    border-collapse: collapse;\n",
       "  }\n",
       "  th, td {\n",
       "    padding: 5px;\n",
       "  }\n",
       "  th {\n",
       "    text-align: left;\n",
       "  }\n",
       "</style><div class='table-result-container'><table class='table-result'><thead style='background-color: white'><tr><th>min(averageRating)</th><th>max(averageRating)</th></tr></thead><tbody><tr><td>1.0</td><td>10.0</td></tr></tbody></table></div>"
      ]
     },
     "metadata": {
      "application/vnd.databricks.v1+output": {
       "addedWidgets": {},
       "aggData": [],
       "aggError": "",
       "aggOverflow": false,
       "aggSchema": [],
       "aggSeriesLimitReached": false,
       "aggType": "",
       "arguments": {},
       "columnCustomDisplayInfos": {},
       "data": [
        [
         1.0,
         10.0
        ]
       ],
       "datasetInfos": [],
       "dbfsResultPath": null,
       "isJsonSchema": true,
       "metadata": {},
       "overflow": false,
       "plotOptions": {
        "customPlotOptions": {},
        "displayType": "table",
        "pivotAggregation": null,
        "pivotColumns": null,
        "xColumns": null,
        "yColumns": null
       },
       "removedWidgets": [],
       "schema": [
        {
         "metadata": "{\"__autoGeneratedAlias\":\"true\"}",
         "name": "min(averageRating)",
         "type": "\"double\""
        },
        {
         "metadata": "{\"__autoGeneratedAlias\":\"true\"}",
         "name": "max(averageRating)",
         "type": "\"double\""
        }
       ],
       "type": "table"
      }
     },
     "output_type": "display_data"
    }
   ],
   "source": [
    "%sql select min(averageRating), max(averageRating) from bronze.title_ratings"
   ]
  },
  {
   "cell_type": "markdown",
   "metadata": {
    "application/vnd.databricks.v1+cell": {
     "cellMetadata": {
      "byteLimit": 2048000,
      "rowLimit": 10000
     },
     "inputWidgets": {},
     "nuid": "dde1167a-da7f-4617-8828-6d020b15788a",
     "showTitle": false,
     "tableResultSettingsMap": {},
     "title": ""
    }
   },
   "source": [
    "Verificando se há algum dado diferente de notas."
   ]
  },
  {
   "cell_type": "code",
   "execution_count": 0,
   "metadata": {
    "application/vnd.databricks.v1+cell": {
     "cellMetadata": {
      "byteLimit": 2048000,
      "implicitDf": true,
      "rowLimit": 10000
     },
     "inputWidgets": {},
     "nuid": "4aff5dd0-e346-45cc-bcf0-b124896c1ef6",
     "showTitle": false,
     "tableResultSettingsMap": {},
     "title": ""
    }
   },
   "outputs": [
    {
     "output_type": "display_data",
     "data": {
      "text/html": [
       "<style scoped>\n",
       "  .table-result-container {\n",
       "    max-height: 300px;\n",
       "    overflow: auto;\n",
       "  }\n",
       "  table, th, td {\n",
       "    border: 1px solid black;\n",
       "    border-collapse: collapse;\n",
       "  }\n",
       "  th, td {\n",
       "    padding: 5px;\n",
       "  }\n",
       "  th {\n",
       "    text-align: left;\n",
       "  }\n",
       "</style><div class='table-result-container'><table class='table-result'><thead style='background-color: white'><tr><th>averageRating</th></tr></thead><tbody><tr><td>1.0</td></tr><tr><td>1.1</td></tr><tr><td>1.2</td></tr><tr><td>1.3</td></tr><tr><td>1.4</td></tr><tr><td>1.5</td></tr><tr><td>1.6</td></tr><tr><td>1.7</td></tr><tr><td>1.8</td></tr><tr><td>1.9</td></tr><tr><td>2.0</td></tr><tr><td>2.1</td></tr><tr><td>2.2</td></tr><tr><td>2.3</td></tr><tr><td>2.4</td></tr><tr><td>2.5</td></tr><tr><td>2.6</td></tr><tr><td>2.7</td></tr><tr><td>2.8</td></tr><tr><td>2.9</td></tr><tr><td>3.0</td></tr><tr><td>3.1</td></tr><tr><td>3.2</td></tr><tr><td>3.3</td></tr><tr><td>3.4</td></tr><tr><td>3.5</td></tr><tr><td>3.6</td></tr><tr><td>3.7</td></tr><tr><td>3.8</td></tr><tr><td>3.9</td></tr><tr><td>4.0</td></tr><tr><td>4.1</td></tr><tr><td>4.2</td></tr><tr><td>4.3</td></tr><tr><td>4.4</td></tr><tr><td>4.5</td></tr><tr><td>4.6</td></tr><tr><td>4.7</td></tr><tr><td>4.8</td></tr><tr><td>4.9</td></tr><tr><td>5.0</td></tr><tr><td>5.1</td></tr><tr><td>5.2</td></tr><tr><td>5.3</td></tr><tr><td>5.4</td></tr><tr><td>5.5</td></tr><tr><td>5.6</td></tr><tr><td>5.7</td></tr><tr><td>5.8</td></tr><tr><td>5.9</td></tr><tr><td>6.0</td></tr><tr><td>6.1</td></tr><tr><td>6.2</td></tr><tr><td>6.3</td></tr><tr><td>6.4</td></tr><tr><td>6.5</td></tr><tr><td>6.6</td></tr><tr><td>6.7</td></tr><tr><td>6.8</td></tr><tr><td>6.9</td></tr><tr><td>7.0</td></tr><tr><td>7.1</td></tr><tr><td>7.2</td></tr><tr><td>7.3</td></tr><tr><td>7.4</td></tr><tr><td>7.5</td></tr><tr><td>7.6</td></tr><tr><td>7.7</td></tr><tr><td>7.8</td></tr><tr><td>7.9</td></tr><tr><td>8.0</td></tr><tr><td>8.1</td></tr><tr><td>8.2</td></tr><tr><td>8.3</td></tr><tr><td>8.4</td></tr><tr><td>8.5</td></tr><tr><td>8.6</td></tr><tr><td>8.7</td></tr><tr><td>8.8</td></tr><tr><td>8.9</td></tr><tr><td>9.0</td></tr><tr><td>9.1</td></tr><tr><td>9.2</td></tr><tr><td>9.3</td></tr><tr><td>9.4</td></tr><tr><td>9.5</td></tr><tr><td>9.6</td></tr><tr><td>9.7</td></tr><tr><td>9.8</td></tr><tr><td>9.9</td></tr><tr><td>10.0</td></tr></tbody></table></div>"
      ]
     },
     "metadata": {
      "application/vnd.databricks.v1+output": {
       "addedWidgets": {},
       "aggData": [],
       "aggError": "",
       "aggOverflow": false,
       "aggSchema": [],
       "aggSeriesLimitReached": false,
       "aggType": "",
       "arguments": {},
       "columnCustomDisplayInfos": {},
       "data": [
        [
         1.0
        ],
        [
         1.1
        ],
        [
         1.2
        ],
        [
         1.3
        ],
        [
         1.4
        ],
        [
         1.5
        ],
        [
         1.6
        ],
        [
         1.7
        ],
        [
         1.8
        ],
        [
         1.9
        ],
        [
         2.0
        ],
        [
         2.1
        ],
        [
         2.2
        ],
        [
         2.3
        ],
        [
         2.4
        ],
        [
         2.5
        ],
        [
         2.6
        ],
        [
         2.7
        ],
        [
         2.8
        ],
        [
         2.9
        ],
        [
         3.0
        ],
        [
         3.1
        ],
        [
         3.2
        ],
        [
         3.3
        ],
        [
         3.4
        ],
        [
         3.5
        ],
        [
         3.6
        ],
        [
         3.7
        ],
        [
         3.8
        ],
        [
         3.9
        ],
        [
         4.0
        ],
        [
         4.1
        ],
        [
         4.2
        ],
        [
         4.3
        ],
        [
         4.4
        ],
        [
         4.5
        ],
        [
         4.6
        ],
        [
         4.7
        ],
        [
         4.8
        ],
        [
         4.9
        ],
        [
         5.0
        ],
        [
         5.1
        ],
        [
         5.2
        ],
        [
         5.3
        ],
        [
         5.4
        ],
        [
         5.5
        ],
        [
         5.6
        ],
        [
         5.7
        ],
        [
         5.8
        ],
        [
         5.9
        ],
        [
         6.0
        ],
        [
         6.1
        ],
        [
         6.2
        ],
        [
         6.3
        ],
        [
         6.4
        ],
        [
         6.5
        ],
        [
         6.6
        ],
        [
         6.7
        ],
        [
         6.8
        ],
        [
         6.9
        ],
        [
         7.0
        ],
        [
         7.1
        ],
        [
         7.2
        ],
        [
         7.3
        ],
        [
         7.4
        ],
        [
         7.5
        ],
        [
         7.6
        ],
        [
         7.7
        ],
        [
         7.8
        ],
        [
         7.9
        ],
        [
         8.0
        ],
        [
         8.1
        ],
        [
         8.2
        ],
        [
         8.3
        ],
        [
         8.4
        ],
        [
         8.5
        ],
        [
         8.6
        ],
        [
         8.7
        ],
        [
         8.8
        ],
        [
         8.9
        ],
        [
         9.0
        ],
        [
         9.1
        ],
        [
         9.2
        ],
        [
         9.3
        ],
        [
         9.4
        ],
        [
         9.5
        ],
        [
         9.6
        ],
        [
         9.7
        ],
        [
         9.8
        ],
        [
         9.9
        ],
        [
         10.0
        ]
       ],
       "datasetInfos": [],
       "dbfsResultPath": null,
       "isJsonSchema": true,
       "metadata": {},
       "overflow": false,
       "plotOptions": {
        "customPlotOptions": {},
        "displayType": "table",
        "pivotAggregation": null,
        "pivotColumns": null,
        "xColumns": null,
        "yColumns": null
       },
       "removedWidgets": [],
       "schema": [
        {
         "metadata": "{}",
         "name": "averageRating",
         "type": "\"double\""
        }
       ],
       "type": "table"
      }
     },
     "output_type": "display_data"
    }
   ],
   "source": [
    "%sql select averageRating from bronze.title_ratings group by averageRating order by averageRating"
   ]
  },
  {
   "cell_type": "markdown",
   "metadata": {
    "application/vnd.databricks.v1+cell": {
     "cellMetadata": {
      "byteLimit": 2048000,
      "rowLimit": 10000
     },
     "inputWidgets": {},
     "nuid": "5f9ea57d-9702-49d0-a8f3-b2c1429470ad",
     "showTitle": false,
     "tableResultSettingsMap": {},
     "title": ""
    }
   },
   "source": [
    "Limpando a coluna AVERAGERATING."
   ]
  },
  {
   "cell_type": "code",
   "execution_count": 0,
   "metadata": {
    "application/vnd.databricks.v1+cell": {
     "cellMetadata": {
      "byteLimit": 2048000,
      "implicitDf": true,
      "rowLimit": 10000
     },
     "inputWidgets": {},
     "nuid": "e3a9a10f-7ef3-43e7-909e-07157d298496",
     "showTitle": false,
     "tableResultSettingsMap": {},
     "title": ""
    }
   },
   "outputs": [
    {
     "output_type": "display_data",
     "data": {
      "text/html": [
       "<style scoped>\n",
       "  .table-result-container {\n",
       "    max-height: 300px;\n",
       "    overflow: auto;\n",
       "  }\n",
       "  table, th, td {\n",
       "    border: 1px solid black;\n",
       "    border-collapse: collapse;\n",
       "  }\n",
       "  th, td {\n",
       "    padding: 5px;\n",
       "  }\n",
       "  th {\n",
       "    text-align: left;\n",
       "  }\n",
       "</style><div class='table-result-container'><table class='table-result'><thead style='background-color: white'><tr><th>tconst</th><th>averageRating</th><th>numVotes</th></tr></thead><tbody><tr><td>tt0000001</td><td>5.7</td><td>2146</td></tr><tr><td>tt0000002</td><td>5.5</td><td>291</td></tr><tr><td>tt0000003</td><td>6.5</td><td>2180</td></tr><tr><td>tt0000004</td><td>5.3</td><td>187</td></tr><tr><td>tt0000005</td><td>6.2</td><td>2924</td></tr><tr><td>tt0000007</td><td>5.3</td><td>906</td></tr><tr><td>tt0000008</td><td>5.4</td><td>2292</td></tr><tr><td>tt0000009</td><td>5.4</td><td>223</td></tr><tr><td>tt0000010</td><td>6.8</td><td>7922</td></tr><tr><td>tt0000011</td><td>5.2</td><td>418</td></tr><tr><td>tt0000012</td><td>7.4</td><td>13447</td></tr><tr><td>tt0000013</td><td>5.7</td><td>2064</td></tr><tr><td>tt0000014</td><td>7.1</td><td>6138</td></tr><tr><td>tt0000015</td><td>6.1</td><td>1271</td></tr><tr><td>tt0000016</td><td>5.9</td><td>1656</td></tr><tr><td>tt0000018</td><td>5.2</td><td>662</td></tr><tr><td>tt0000019</td><td>5.2</td><td>35</td></tr><tr><td>tt0000022</td><td>5.1</td><td>1209</td></tr><tr><td>tt0000023</td><td>5.7</td><td>1584</td></tr><tr><td>tt0000026</td><td>5.6</td><td>1674</td></tr><tr><td>tt0000027</td><td>5.6</td><td>1270</td></tr><tr><td>tt0000028</td><td>5.1</td><td>1197</td></tr><tr><td>tt0000029</td><td>5.9</td><td>3668</td></tr><tr><td>tt0000030</td><td>5.2</td><td>960</td></tr><tr><td>tt0000031</td><td>5.5</td><td>1095</td></tr><tr><td>tt0000033</td><td>5.5</td><td>1132</td></tr><tr><td>tt0000035</td><td>5.5</td><td>88</td></tr><tr><td>tt0000041</td><td>6.7</td><td>2111</td></tr><tr><td>tt0000060</td><td>7.2</td><td>95</td></tr><tr><td>tt0000062</td><td>6.1</td><td>223</td></tr><tr><td>tt0000067</td><td>5.2</td><td>95</td></tr><tr><td>tt0000070</td><td>6.4</td><td>2886</td></tr><tr><td>tt0000075</td><td>6.3</td><td>2164</td></tr><tr><td>tt0000089</td><td>6.2</td><td>1101</td></tr><tr><td>tt0000091</td><td>6.7</td><td>4292</td></tr><tr><td>tt0000098</td><td>5.2</td><td>40</td></tr><tr><td>tt0000103</td><td>5.6</td><td>31</td></tr><tr><td>tt0000104</td><td>5.5</td><td>501</td></tr><tr><td>tt0000107</td><td>5.6</td><td>32</td></tr><tr><td>tt0000114</td><td>5.1</td><td>34</td></tr><tr><td>tt0000116</td><td>5.1</td><td>31</td></tr><tr><td>tt0000122</td><td>5.3</td><td>35</td></tr><tr><td>tt0000123</td><td>5.5</td><td>201</td></tr><tr><td>tt0000124</td><td>5.2</td><td>34</td></tr><tr><td>tt0000126</td><td>5.8</td><td>35</td></tr><tr><td>tt0000128</td><td>5.6</td><td>43</td></tr><tr><td>tt0000129</td><td>6.5</td><td>56</td></tr><tr><td>tt0000131</td><td>5.7</td><td>1637</td></tr><tr><td>tt0000132</td><td>5.1</td><td>1211</td></tr><tr><td>tt0000133</td><td>6.2</td><td>39</td></tr><tr><td>tt0000135</td><td>6.1</td><td>90</td></tr><tr><td>tt0000138</td><td>6.4</td><td>1309</td></tr><tr><td>tt0000139</td><td>5.2</td><td>30</td></tr><tr><td>tt0000141</td><td>5.1</td><td>145</td></tr><tr><td>tt0000144</td><td>5.2</td><td>373</td></tr><tr><td>tt0000147</td><td>5.3</td><td>556</td></tr><tr><td>tt0000150</td><td>5.4</td><td>200</td></tr><tr><td>tt0000152</td><td>6.2</td><td>315</td></tr><tr><td>tt0000153</td><td>5.7</td><td>563</td></tr><tr><td>tt0000155</td><td>5.3</td><td>32</td></tr><tr><td>tt0000159</td><td>5.1</td><td>167</td></tr><tr><td>tt0000162</td><td>5.4</td><td>509</td></tr><tr><td>tt0000170</td><td>5.2</td><td>296</td></tr><tr><td>tt0000172</td><td>6.0</td><td>1144</td></tr><tr><td>tt0000176</td><td>5.1</td><td>16</td></tr><tr><td>tt0000178</td><td>5.2</td><td>274</td></tr><tr><td>tt0000181</td><td>6.5</td><td>66</td></tr><tr><td>tt0000183</td><td>5.4</td><td>39</td></tr><tr><td>tt0000185</td><td>5.2</td><td>13</td></tr><tr><td>tt0000189</td><td>7.3</td><td>12</td></tr><tr><td>tt0000194</td><td>5.4</td><td>87</td></tr><tr><td>tt0000195</td><td>5.4</td><td>12</td></tr><tr><td>tt0000201</td><td>5.5</td><td>31</td></tr><tr><td>tt0000202</td><td>5.6</td><td>12</td></tr><tr><td>tt0000203</td><td>6.8</td><td>12</td></tr><tr><td>tt0000204</td><td>6.0</td><td>16</td></tr><tr><td>tt0000206</td><td>5.3</td><td>17</td></tr><tr><td>tt0000208</td><td>5.7</td><td>612</td></tr><tr><td>tt0000210</td><td>5.3</td><td>40</td></tr><tr><td>tt0000211</td><td>7.4</td><td>5053</td></tr><tr><td>tt0000212</td><td>5.4</td><td>11</td></tr><tr><td>tt0000216</td><td>6.3</td><td>11</td></tr><tr><td>tt0000217</td><td>5.6</td><td>13</td></tr><tr><td>tt0000218</td><td>5.9</td><td>771</td></tr><tr><td>tt0000219</td><td>6.5</td><td>34</td></tr><tr><td>tt0000223</td><td>5.2</td><td>21</td></tr><tr><td>tt0000225</td><td>5.3</td><td>42</td></tr><tr><td>tt0000226</td><td>5.2</td><td>11</td></tr><tr><td>tt0000230</td><td>6.5</td><td>1946</td></tr><tr><td>tt0000233</td><td>5.4</td><td>14</td></tr><tr><td>tt0000234</td><td>6.2</td><td>86</td></tr><tr><td>tt0000235</td><td>6.2</td><td>1080</td></tr><tr><td>tt0000239</td><td>5.5</td><td>306</td></tr><tr><td>tt0000242</td><td>6.4</td><td>1452</td></tr><tr><td>tt0000245</td><td>6.0</td><td>58</td></tr><tr><td>tt0000246</td><td>6.4</td><td>1147</td></tr><tr><td>tt0000248</td><td>6.1</td><td>1785</td></tr><tr><td>tt0000251</td><td>5.2</td><td>178</td></tr><tr><td>tt0000261</td><td>5.4</td><td>101</td></tr><tr><td>tt0000264</td><td>5.7</td><td>524</td></tr></tbody></table></div>"
      ]
     },
     "metadata": {
      "application/vnd.databricks.v1+output": {
       "addedWidgets": {},
       "aggData": [],
       "aggError": "",
       "aggOverflow": false,
       "aggSchema": [],
       "aggSeriesLimitReached": false,
       "aggType": "",
       "arguments": {},
       "columnCustomDisplayInfos": {},
       "data": [
        [
         "tt0000001",
         5.7,
         2146
        ],
        [
         "tt0000002",
         5.5,
         291
        ],
        [
         "tt0000003",
         6.5,
         2180
        ],
        [
         "tt0000004",
         5.3,
         187
        ],
        [
         "tt0000005",
         6.2,
         2924
        ],
        [
         "tt0000007",
         5.3,
         906
        ],
        [
         "tt0000008",
         5.4,
         2292
        ],
        [
         "tt0000009",
         5.4,
         223
        ],
        [
         "tt0000010",
         6.8,
         7922
        ],
        [
         "tt0000011",
         5.2,
         418
        ],
        [
         "tt0000012",
         7.4,
         13447
        ],
        [
         "tt0000013",
         5.7,
         2064
        ],
        [
         "tt0000014",
         7.1,
         6138
        ],
        [
         "tt0000015",
         6.1,
         1271
        ],
        [
         "tt0000016",
         5.9,
         1656
        ],
        [
         "tt0000018",
         5.2,
         662
        ],
        [
         "tt0000019",
         5.2,
         35
        ],
        [
         "tt0000022",
         5.1,
         1209
        ],
        [
         "tt0000023",
         5.7,
         1584
        ],
        [
         "tt0000026",
         5.6,
         1674
        ],
        [
         "tt0000027",
         5.6,
         1270
        ],
        [
         "tt0000028",
         5.1,
         1197
        ],
        [
         "tt0000029",
         5.9,
         3668
        ],
        [
         "tt0000030",
         5.2,
         960
        ],
        [
         "tt0000031",
         5.5,
         1095
        ],
        [
         "tt0000033",
         5.5,
         1132
        ],
        [
         "tt0000035",
         5.5,
         88
        ],
        [
         "tt0000041",
         6.7,
         2111
        ],
        [
         "tt0000060",
         7.2,
         95
        ],
        [
         "tt0000062",
         6.1,
         223
        ],
        [
         "tt0000067",
         5.2,
         95
        ],
        [
         "tt0000070",
         6.4,
         2886
        ],
        [
         "tt0000075",
         6.3,
         2164
        ],
        [
         "tt0000089",
         6.2,
         1101
        ],
        [
         "tt0000091",
         6.7,
         4292
        ],
        [
         "tt0000098",
         5.2,
         40
        ],
        [
         "tt0000103",
         5.6,
         31
        ],
        [
         "tt0000104",
         5.5,
         501
        ],
        [
         "tt0000107",
         5.6,
         32
        ],
        [
         "tt0000114",
         5.1,
         34
        ],
        [
         "tt0000116",
         5.1,
         31
        ],
        [
         "tt0000122",
         5.3,
         35
        ],
        [
         "tt0000123",
         5.5,
         201
        ],
        [
         "tt0000124",
         5.2,
         34
        ],
        [
         "tt0000126",
         5.8,
         35
        ],
        [
         "tt0000128",
         5.6,
         43
        ],
        [
         "tt0000129",
         6.5,
         56
        ],
        [
         "tt0000131",
         5.7,
         1637
        ],
        [
         "tt0000132",
         5.1,
         1211
        ],
        [
         "tt0000133",
         6.2,
         39
        ],
        [
         "tt0000135",
         6.1,
         90
        ],
        [
         "tt0000138",
         6.4,
         1309
        ],
        [
         "tt0000139",
         5.2,
         30
        ],
        [
         "tt0000141",
         5.1,
         145
        ],
        [
         "tt0000144",
         5.2,
         373
        ],
        [
         "tt0000147",
         5.3,
         556
        ],
        [
         "tt0000150",
         5.4,
         200
        ],
        [
         "tt0000152",
         6.2,
         315
        ],
        [
         "tt0000153",
         5.7,
         563
        ],
        [
         "tt0000155",
         5.3,
         32
        ],
        [
         "tt0000159",
         5.1,
         167
        ],
        [
         "tt0000162",
         5.4,
         509
        ],
        [
         "tt0000170",
         5.2,
         296
        ],
        [
         "tt0000172",
         6.0,
         1144
        ],
        [
         "tt0000176",
         5.1,
         16
        ],
        [
         "tt0000178",
         5.2,
         274
        ],
        [
         "tt0000181",
         6.5,
         66
        ],
        [
         "tt0000183",
         5.4,
         39
        ],
        [
         "tt0000185",
         5.2,
         13
        ],
        [
         "tt0000189",
         7.3,
         12
        ],
        [
         "tt0000194",
         5.4,
         87
        ],
        [
         "tt0000195",
         5.4,
         12
        ],
        [
         "tt0000201",
         5.5,
         31
        ],
        [
         "tt0000202",
         5.6,
         12
        ],
        [
         "tt0000203",
         6.8,
         12
        ],
        [
         "tt0000204",
         6.0,
         16
        ],
        [
         "tt0000206",
         5.3,
         17
        ],
        [
         "tt0000208",
         5.7,
         612
        ],
        [
         "tt0000210",
         5.3,
         40
        ],
        [
         "tt0000211",
         7.4,
         5053
        ],
        [
         "tt0000212",
         5.4,
         11
        ],
        [
         "tt0000216",
         6.3,
         11
        ],
        [
         "tt0000217",
         5.6,
         13
        ],
        [
         "tt0000218",
         5.9,
         771
        ],
        [
         "tt0000219",
         6.5,
         34
        ],
        [
         "tt0000223",
         5.2,
         21
        ],
        [
         "tt0000225",
         5.3,
         42
        ],
        [
         "tt0000226",
         5.2,
         11
        ],
        [
         "tt0000230",
         6.5,
         1946
        ],
        [
         "tt0000233",
         5.4,
         14
        ],
        [
         "tt0000234",
         6.2,
         86
        ],
        [
         "tt0000235",
         6.2,
         1080
        ],
        [
         "tt0000239",
         5.5,
         306
        ],
        [
         "tt0000242",
         6.4,
         1452
        ],
        [
         "tt0000245",
         6.0,
         58
        ],
        [
         "tt0000246",
         6.4,
         1147
        ],
        [
         "tt0000248",
         6.1,
         1785
        ],
        [
         "tt0000251",
         5.2,
         178
        ],
        [
         "tt0000261",
         5.4,
         101
        ],
        [
         "tt0000264",
         5.7,
         524
        ]
       ],
       "datasetInfos": [],
       "dbfsResultPath": null,
       "isJsonSchema": true,
       "metadata": {},
       "overflow": false,
       "plotOptions": {
        "customPlotOptions": {},
        "displayType": "table",
        "pivotAggregation": null,
        "pivotColumns": null,
        "xColumns": null,
        "yColumns": null
       },
       "removedWidgets": [],
       "schema": [
        {
         "metadata": "{}",
         "name": "tconst",
         "type": "\"string\""
        },
        {
         "metadata": "{}",
         "name": "averageRating",
         "type": "\"double\""
        },
        {
         "metadata": "{}",
         "name": "numVotes",
         "type": "\"long\""
        }
       ],
       "type": "table"
      }
     },
     "output_type": "display_data"
    }
   ],
   "source": [
    "%sql select * from bronze.title_ratings where averageRating>5 limit 100 --consulta passa de 10000 registro, usando limit 100 para diminuir o sheet da resposta"
   ]
  },
  {
   "cell_type": "markdown",
   "metadata": {
    "application/vnd.databricks.v1+cell": {
     "cellMetadata": {
      "byteLimit": 2048000,
      "rowLimit": 10000
     },
     "inputWidgets": {},
     "nuid": "e680890a-4787-4a91-b844-84aec5238535",
     "showTitle": false,
     "tableResultSettingsMap": {},
     "title": ""
    }
   },
   "source": [
    "SELECT dos dados com os filtros de limpeza."
   ]
  },
  {
   "cell_type": "code",
   "execution_count": 0,
   "metadata": {
    "application/vnd.databricks.v1+cell": {
     "cellMetadata": {
      "byteLimit": 2048000,
      "implicitDf": true,
      "rowLimit": 10000
     },
     "inputWidgets": {},
     "nuid": "346a1a17-50ff-468f-bae8-9908db17cb1a",
     "showTitle": false,
     "tableResultSettingsMap": {},
     "title": ""
    }
   },
   "outputs": [
    {
     "output_type": "display_data",
     "data": {
      "text/html": [
       "<style scoped>\n",
       "  .table-result-container {\n",
       "    max-height: 300px;\n",
       "    overflow: auto;\n",
       "  }\n",
       "  table, th, td {\n",
       "    border: 1px solid black;\n",
       "    border-collapse: collapse;\n",
       "  }\n",
       "  th, td {\n",
       "    padding: 5px;\n",
       "  }\n",
       "  th {\n",
       "    text-align: left;\n",
       "  }\n",
       "</style><div class='table-result-container'><table class='table-result'><thead style='background-color: white'><tr><th>tconst</th><th>averageRating</th><th>numVotes</th></tr></thead><tbody><tr><td>tt0000012</td><td>7.4</td><td>13447</td></tr><tr><td>tt0000417</td><td>8.1</td><td>58288</td></tr><tr><td>tt0000439</td><td>7.2</td><td>21843</td></tr><tr><td>tt0004972</td><td>6.1</td><td>27362</td></tr><tr><td>tt0006864</td><td>7.7</td><td>17349</td></tr><tr><td>tt0009018</td><td>7.6</td><td>10114</td></tr><tr><td>tt0009968</td><td>7.2</td><td>11423</td></tr><tr><td>tt0010323</td><td>8.0</td><td>73235</td></tr><tr><td>tt0012349</td><td>8.2</td><td>140541</td></tr><tr><td>tt0012364</td><td>8.0</td><td>14929</td></tr><tr><td>tt0013257</td><td>7.6</td><td>17925</td></tr><tr><td>tt0013427</td><td>7.6</td><td>13906</td></tr><tr><td>tt0013442</td><td>7.8</td><td>118343</td></tr><tr><td>tt0014341</td><td>7.7</td><td>13006</td></tr><tr><td>tt0014429</td><td>8.1</td><td>23872</td></tr><tr><td>tt0015064</td><td>8.0</td><td>15863</td></tr><tr><td>tt0015163</td><td>7.5</td><td>11581</td></tr><tr><td>tt0015324</td><td>8.2</td><td>61336</td></tr><tr><td>tt0015648</td><td>7.9</td><td>63182</td></tr><tr><td>tt0015864</td><td>8.1</td><td>123210</td></tr><tr><td>tt0015881</td><td>8.0</td><td>11199</td></tr><tr><td>tt0016220</td><td>7.5</td><td>21082</td></tr><tr><td>tt0016332</td><td>7.8</td><td>12312</td></tr><tr><td>tt0016847</td><td>8.1</td><td>17426</td></tr><tr><td>tt0017075</td><td>7.3</td><td>14201</td></tr><tr><td>tt0017136</td><td>8.3</td><td>193421</td></tr><tr><td>tt0017925</td><td>8.1</td><td>102207</td></tr><tr><td>tt0018037</td><td>6.4</td><td>11483</td></tr><tr><td>tt0018455</td><td>8.1</td><td>55261</td></tr><tr><td>tt0018578</td><td>7.5</td><td>15334</td></tr><tr><td>tt0018737</td><td>7.7</td><td>12409</td></tr><tr><td>tt0018742</td><td>8.0</td><td>13800</td></tr><tr><td>tt0018773</td><td>8.1</td><td>37243</td></tr><tr><td>tt0019254</td><td>8.1</td><td>64310</td></tr><tr><td>tt0019421</td><td>7.8</td><td>16793</td></tr><tr><td>tt0019422</td><td>7.4</td><td>11984</td></tr><tr><td>tt0019702</td><td>6.9</td><td>12795</td></tr><tr><td>tt0019760</td><td>8.3</td><td>29116</td></tr><tr><td>tt0020530</td><td>7.6</td><td>55239</td></tr><tr><td>tt0020629</td><td>8.1</td><td>69772</td></tr><tr><td>tt0020640</td><td>7.4</td><td>15637</td></tr><tr><td>tt0020697</td><td>7.6</td><td>16955</td></tr><tr><td>tt0021079</td><td>7.2</td><td>15060</td></tr><tr><td>tt0021577</td><td>7.2</td><td>15229</td></tr><tr><td>tt0021749</td><td>8.5</td><td>205989</td></tr><tr><td>tt0021814</td><td>7.4</td><td>61884</td></tr><tr><td>tt0021884</td><td>7.8</td><td>83248</td></tr><tr><td>tt0022100</td><td>8.3</td><td>176204</td></tr><tr><td>tt0022158</td><td>7.4</td><td>14590</td></tr><tr><td>tt0022286</td><td>7.6</td><td>23842</td></tr><tr><td>tt0022835</td><td>7.6</td><td>16678</td></tr><tr><td>tt0022913</td><td>7.8</td><td>52600</td></tr><tr><td>tt0022958</td><td>7.3</td><td>21581</td></tr><tr><td>tt0023027</td><td>7.5</td><td>13750</td></tr><tr><td>tt0023042</td><td>8.2</td><td>15020</td></tr><tr><td>tt0023238</td><td>7.1</td><td>14639</td></tr><tr><td>tt0023245</td><td>7.0</td><td>31715</td></tr><tr><td>tt0023293</td><td>7.0</td><td>13944</td></tr><tr><td>tt0023427</td><td>7.7</td><td>31799</td></tr><tr><td>tt0023458</td><td>7.3</td><td>11137</td></tr><tr><td>tt0023563</td><td>7.9</td><td>14024</td></tr><tr><td>tt0023622</td><td>7.9</td><td>16798</td></tr><tr><td>tt0023649</td><td>7.4</td><td>21638</td></tr><tr><td>tt0023694</td><td>6.2</td><td>12164</td></tr><tr><td>tt0023969</td><td>7.7</td><td>64034</td></tr><tr><td>tt0024034</td><td>7.3</td><td>13422</td></tr><tr><td>tt0024184</td><td>7.6</td><td>41912</td></tr><tr><td>tt0024188</td><td>7.3</td><td>11645</td></tr><tr><td>tt0024216</td><td>7.9</td><td>93401</td></tr><tr><td>tt0024844</td><td>7.7</td><td>18074</td></tr><tr><td>tt0024894</td><td>6.9</td><td>13634</td></tr><tr><td>tt0025316</td><td>8.1</td><td>116434</td></tr><tr><td>tt0025452</td><td>6.7</td><td>22320</td></tr><tr><td>tt0025878</td><td>7.9</td><td>33717</td></tr><tr><td>tt0025913</td><td>7.1</td><td>19050</td></tr><tr><td>tt0026029</td><td>7.6</td><td>63732</td></tr><tr><td>tt0026138</td><td>7.8</td><td>55640</td></tr><tr><td>tt0026174</td><td>7.7</td><td>16630</td></tr><tr><td>tt0026752</td><td>7.6</td><td>25709</td></tr><tr><td>tt0026778</td><td>7.8</td><td>35600</td></tr><tr><td>tt0027125</td><td>7.7</td><td>21386</td></tr><tr><td>tt0027260</td><td>7.6</td><td>12571</td></tr><tr><td>tt0027532</td><td>7.7</td><td>10603</td></tr><tr><td>tt0027652</td><td>7.8</td><td>14181</td></tr><tr><td>tt0027977</td><td>8.5</td><td>271597</td></tr><tr><td>tt0027996</td><td>7.8</td><td>24091</td></tr><tr><td>tt0028010</td><td>7.9</td><td>27463</td></tr><tr><td>tt0028096</td><td>7.5</td><td>15424</td></tr><tr><td>tt0028212</td><td>7.0</td><td>19691</td></tr><tr><td>tt0028333</td><td>7.5</td><td>15085</td></tr><tr><td>tt0028597</td><td>7.7</td><td>22354</td></tr><tr><td>tt0028691</td><td>7.9</td><td>11403</td></tr><tr><td>tt0028772</td><td>7.5</td><td>14958</td></tr><tr><td>tt0028950</td><td>8.1</td><td>40028</td></tr><tr><td>tt0029162</td><td>7.6</td><td>15077</td></tr><tr><td>tt0029192</td><td>8.1</td><td>10088</td></tr><tr><td>tt0029284</td><td>7.2</td><td>12059</td></tr><tr><td>tt0029583</td><td>7.6</td><td>228760</td></tr><tr><td>tt0029606</td><td>7.3</td><td>11418</td></tr><tr><td>tt0029811</td><td>6.8</td><td>11490</td></tr></tbody></table></div>"
      ]
     },
     "metadata": {
      "application/vnd.databricks.v1+output": {
       "addedWidgets": {},
       "aggData": [],
       "aggError": "",
       "aggOverflow": false,
       "aggSchema": [],
       "aggSeriesLimitReached": false,
       "aggType": "",
       "arguments": {},
       "columnCustomDisplayInfos": {},
       "data": [
        [
         "tt0000012",
         7.4,
         13447
        ],
        [
         "tt0000417",
         8.1,
         58288
        ],
        [
         "tt0000439",
         7.2,
         21843
        ],
        [
         "tt0004972",
         6.1,
         27362
        ],
        [
         "tt0006864",
         7.7,
         17349
        ],
        [
         "tt0009018",
         7.6,
         10114
        ],
        [
         "tt0009968",
         7.2,
         11423
        ],
        [
         "tt0010323",
         8.0,
         73235
        ],
        [
         "tt0012349",
         8.2,
         140541
        ],
        [
         "tt0012364",
         8.0,
         14929
        ],
        [
         "tt0013257",
         7.6,
         17925
        ],
        [
         "tt0013427",
         7.6,
         13906
        ],
        [
         "tt0013442",
         7.8,
         118343
        ],
        [
         "tt0014341",
         7.7,
         13006
        ],
        [
         "tt0014429",
         8.1,
         23872
        ],
        [
         "tt0015064",
         8.0,
         15863
        ],
        [
         "tt0015163",
         7.5,
         11581
        ],
        [
         "tt0015324",
         8.2,
         61336
        ],
        [
         "tt0015648",
         7.9,
         63182
        ],
        [
         "tt0015864",
         8.1,
         123210
        ],
        [
         "tt0015881",
         8.0,
         11199
        ],
        [
         "tt0016220",
         7.5,
         21082
        ],
        [
         "tt0016332",
         7.8,
         12312
        ],
        [
         "tt0016847",
         8.1,
         17426
        ],
        [
         "tt0017075",
         7.3,
         14201
        ],
        [
         "tt0017136",
         8.3,
         193421
        ],
        [
         "tt0017925",
         8.1,
         102207
        ],
        [
         "tt0018037",
         6.4,
         11483
        ],
        [
         "tt0018455",
         8.1,
         55261
        ],
        [
         "tt0018578",
         7.5,
         15334
        ],
        [
         "tt0018737",
         7.7,
         12409
        ],
        [
         "tt0018742",
         8.0,
         13800
        ],
        [
         "tt0018773",
         8.1,
         37243
        ],
        [
         "tt0019254",
         8.1,
         64310
        ],
        [
         "tt0019421",
         7.8,
         16793
        ],
        [
         "tt0019422",
         7.4,
         11984
        ],
        [
         "tt0019702",
         6.9,
         12795
        ],
        [
         "tt0019760",
         8.3,
         29116
        ],
        [
         "tt0020530",
         7.6,
         55239
        ],
        [
         "tt0020629",
         8.1,
         69772
        ],
        [
         "tt0020640",
         7.4,
         15637
        ],
        [
         "tt0020697",
         7.6,
         16955
        ],
        [
         "tt0021079",
         7.2,
         15060
        ],
        [
         "tt0021577",
         7.2,
         15229
        ],
        [
         "tt0021749",
         8.5,
         205989
        ],
        [
         "tt0021814",
         7.4,
         61884
        ],
        [
         "tt0021884",
         7.8,
         83248
        ],
        [
         "tt0022100",
         8.3,
         176204
        ],
        [
         "tt0022158",
         7.4,
         14590
        ],
        [
         "tt0022286",
         7.6,
         23842
        ],
        [
         "tt0022835",
         7.6,
         16678
        ],
        [
         "tt0022913",
         7.8,
         52600
        ],
        [
         "tt0022958",
         7.3,
         21581
        ],
        [
         "tt0023027",
         7.5,
         13750
        ],
        [
         "tt0023042",
         8.2,
         15020
        ],
        [
         "tt0023238",
         7.1,
         14639
        ],
        [
         "tt0023245",
         7.0,
         31715
        ],
        [
         "tt0023293",
         7.0,
         13944
        ],
        [
         "tt0023427",
         7.7,
         31799
        ],
        [
         "tt0023458",
         7.3,
         11137
        ],
        [
         "tt0023563",
         7.9,
         14024
        ],
        [
         "tt0023622",
         7.9,
         16798
        ],
        [
         "tt0023649",
         7.4,
         21638
        ],
        [
         "tt0023694",
         6.2,
         12164
        ],
        [
         "tt0023969",
         7.7,
         64034
        ],
        [
         "tt0024034",
         7.3,
         13422
        ],
        [
         "tt0024184",
         7.6,
         41912
        ],
        [
         "tt0024188",
         7.3,
         11645
        ],
        [
         "tt0024216",
         7.9,
         93401
        ],
        [
         "tt0024844",
         7.7,
         18074
        ],
        [
         "tt0024894",
         6.9,
         13634
        ],
        [
         "tt0025316",
         8.1,
         116434
        ],
        [
         "tt0025452",
         6.7,
         22320
        ],
        [
         "tt0025878",
         7.9,
         33717
        ],
        [
         "tt0025913",
         7.1,
         19050
        ],
        [
         "tt0026029",
         7.6,
         63732
        ],
        [
         "tt0026138",
         7.8,
         55640
        ],
        [
         "tt0026174",
         7.7,
         16630
        ],
        [
         "tt0026752",
         7.6,
         25709
        ],
        [
         "tt0026778",
         7.8,
         35600
        ],
        [
         "tt0027125",
         7.7,
         21386
        ],
        [
         "tt0027260",
         7.6,
         12571
        ],
        [
         "tt0027532",
         7.7,
         10603
        ],
        [
         "tt0027652",
         7.8,
         14181
        ],
        [
         "tt0027977",
         8.5,
         271597
        ],
        [
         "tt0027996",
         7.8,
         24091
        ],
        [
         "tt0028010",
         7.9,
         27463
        ],
        [
         "tt0028096",
         7.5,
         15424
        ],
        [
         "tt0028212",
         7.0,
         19691
        ],
        [
         "tt0028333",
         7.5,
         15085
        ],
        [
         "tt0028597",
         7.7,
         22354
        ],
        [
         "tt0028691",
         7.9,
         11403
        ],
        [
         "tt0028772",
         7.5,
         14958
        ],
        [
         "tt0028950",
         8.1,
         40028
        ],
        [
         "tt0029162",
         7.6,
         15077
        ],
        [
         "tt0029192",
         8.1,
         10088
        ],
        [
         "tt0029284",
         7.2,
         12059
        ],
        [
         "tt0029583",
         7.6,
         228760
        ],
        [
         "tt0029606",
         7.3,
         11418
        ],
        [
         "tt0029811",
         6.8,
         11490
        ]
       ],
       "datasetInfos": [],
       "dbfsResultPath": null,
       "isJsonSchema": true,
       "metadata": {},
       "overflow": false,
       "plotOptions": {
        "customPlotOptions": {},
        "displayType": "table",
        "pivotAggregation": null,
        "pivotColumns": null,
        "xColumns": null,
        "yColumns": null
       },
       "removedWidgets": [],
       "schema": [
        {
         "metadata": "{}",
         "name": "tconst",
         "type": "\"string\""
        },
        {
         "metadata": "{}",
         "name": "averageRating",
         "type": "\"double\""
        },
        {
         "metadata": "{}",
         "name": "numVotes",
         "type": "\"long\""
        }
       ],
       "type": "table"
      }
     },
     "output_type": "display_data"
    }
   ],
   "source": [
    "%sql select * from bronze.title_ratings where averageRating>=5 and numVotes>10000 limit 100 --consulta passa de 10000 registro, usando limit 100 para diminuir o sheet da resposta"
   ]
  },
  {
   "cell_type": "markdown",
   "metadata": {
    "application/vnd.databricks.v1+cell": {
     "cellMetadata": {
      "byteLimit": 2048000,
      "rowLimit": 10000
     },
     "inputWidgets": {},
     "nuid": "e4768630-75f4-4e50-b261-c6d1b07cf72d",
     "showTitle": false,
     "tableResultSettingsMap": {},
     "title": ""
    }
   },
   "source": [
    "Criando a tabela SILVER.TITLE_RATINGS."
   ]
  },
  {
   "cell_type": "code",
   "execution_count": 0,
   "metadata": {
    "application/vnd.databricks.v1+cell": {
     "cellMetadata": {
      "byteLimit": 2048000,
      "implicitDf": true,
      "rowLimit": 10000
     },
     "inputWidgets": {},
     "nuid": "1782550e-34a2-4ecd-9ab4-2f6ebaeef1b7",
     "showTitle": false,
     "tableResultSettingsMap": {},
     "title": ""
    }
   },
   "outputs": [
    {
     "output_type": "display_data",
     "data": {
      "text/html": [
       "<style scoped>\n",
       "  .table-result-container {\n",
       "    max-height: 300px;\n",
       "    overflow: auto;\n",
       "  }\n",
       "  table, th, td {\n",
       "    border: 1px solid black;\n",
       "    border-collapse: collapse;\n",
       "  }\n",
       "  th, td {\n",
       "    padding: 5px;\n",
       "  }\n",
       "  th {\n",
       "    text-align: left;\n",
       "  }\n",
       "</style><div class='table-result-container'><table class='table-result'><thead style='background-color: white'><tr><th>num_affected_rows</th><th>num_inserted_rows</th></tr></thead><tbody></tbody></table></div>"
      ]
     },
     "metadata": {
      "application/vnd.databricks.v1+output": {
       "addedWidgets": {},
       "aggData": [],
       "aggError": "",
       "aggOverflow": false,
       "aggSchema": [],
       "aggSeriesLimitReached": false,
       "aggType": "",
       "arguments": {},
       "columnCustomDisplayInfos": {},
       "data": [],
       "datasetInfos": [],
       "dbfsResultPath": null,
       "isJsonSchema": true,
       "metadata": {},
       "overflow": false,
       "plotOptions": {
        "customPlotOptions": {},
        "displayType": "table",
        "pivotAggregation": null,
        "pivotColumns": null,
        "xColumns": null,
        "yColumns": null
       },
       "removedWidgets": [],
       "schema": [
        {
         "metadata": "{}",
         "name": "num_affected_rows",
         "type": "\"long\""
        },
        {
         "metadata": "{}",
         "name": "num_inserted_rows",
         "type": "\"long\""
        }
       ],
       "type": "table"
      }
     },
     "output_type": "display_data"
    }
   ],
   "source": [
    "%sql create table silver.title_ratings as select * from bronze.title_ratings where averageRating>=5 and numVotes>10000 "
   ]
  },
  {
   "cell_type": "markdown",
   "metadata": {
    "application/vnd.databricks.v1+cell": {
     "cellMetadata": {
      "byteLimit": 2048000,
      "rowLimit": 10000
     },
     "inputWidgets": {},
     "nuid": "d5a8ded0-1b56-4f44-bdf3-8bb242e613d5",
     "showTitle": false,
     "tableResultSettingsMap": {},
     "title": ""
    }
   },
   "source": [
    "Conferindo a criação da tabela."
   ]
  },
  {
   "cell_type": "code",
   "execution_count": 0,
   "metadata": {
    "application/vnd.databricks.v1+cell": {
     "cellMetadata": {
      "byteLimit": 2048000,
      "implicitDf": true,
      "rowLimit": 10000
     },
     "inputWidgets": {},
     "nuid": "b7d41c8e-0737-4090-a96b-234f7219c9dd",
     "showTitle": false,
     "tableResultSettingsMap": {},
     "title": ""
    }
   },
   "outputs": [
    {
     "output_type": "display_data",
     "data": {
      "text/html": [
       "<style scoped>\n",
       "  .table-result-container {\n",
       "    max-height: 300px;\n",
       "    overflow: auto;\n",
       "  }\n",
       "  table, th, td {\n",
       "    border: 1px solid black;\n",
       "    border-collapse: collapse;\n",
       "  }\n",
       "  th, td {\n",
       "    padding: 5px;\n",
       "  }\n",
       "  th {\n",
       "    text-align: left;\n",
       "  }\n",
       "</style><div class='table-result-container'><table class='table-result'><thead style='background-color: white'><tr><th>tconst</th><th>averageRating</th><th>numVotes</th></tr></thead><tbody><tr><td>tt0000012</td><td>7.4</td><td>13447</td></tr><tr><td>tt0000417</td><td>8.1</td><td>58288</td></tr><tr><td>tt0000439</td><td>7.2</td><td>21843</td></tr><tr><td>tt0004972</td><td>6.1</td><td>27362</td></tr><tr><td>tt0006864</td><td>7.7</td><td>17349</td></tr><tr><td>tt0009018</td><td>7.6</td><td>10114</td></tr><tr><td>tt0009968</td><td>7.2</td><td>11423</td></tr><tr><td>tt0010323</td><td>8.0</td><td>73235</td></tr><tr><td>tt0012349</td><td>8.2</td><td>140541</td></tr><tr><td>tt0012364</td><td>8.0</td><td>14929</td></tr></tbody></table></div>"
      ]
     },
     "metadata": {
      "application/vnd.databricks.v1+output": {
       "addedWidgets": {},
       "aggData": [],
       "aggError": "",
       "aggOverflow": false,
       "aggSchema": [],
       "aggSeriesLimitReached": false,
       "aggType": "",
       "arguments": {},
       "columnCustomDisplayInfos": {},
       "data": [
        [
         "tt0000012",
         7.4,
         13447
        ],
        [
         "tt0000417",
         8.1,
         58288
        ],
        [
         "tt0000439",
         7.2,
         21843
        ],
        [
         "tt0004972",
         6.1,
         27362
        ],
        [
         "tt0006864",
         7.7,
         17349
        ],
        [
         "tt0009018",
         7.6,
         10114
        ],
        [
         "tt0009968",
         7.2,
         11423
        ],
        [
         "tt0010323",
         8.0,
         73235
        ],
        [
         "tt0012349",
         8.2,
         140541
        ],
        [
         "tt0012364",
         8.0,
         14929
        ]
       ],
       "datasetInfos": [],
       "dbfsResultPath": null,
       "isJsonSchema": true,
       "metadata": {},
       "overflow": false,
       "plotOptions": {
        "customPlotOptions": {},
        "displayType": "table",
        "pivotAggregation": null,
        "pivotColumns": null,
        "xColumns": null,
        "yColumns": null
       },
       "removedWidgets": [],
       "schema": [
        {
         "metadata": "{}",
         "name": "tconst",
         "type": "\"string\""
        },
        {
         "metadata": "{}",
         "name": "averageRating",
         "type": "\"double\""
        },
        {
         "metadata": "{}",
         "name": "numVotes",
         "type": "\"long\""
        }
       ],
       "type": "table"
      }
     },
     "output_type": "display_data"
    }
   ],
   "source": [
    "%sql\n",
    "select * from silver.title_ratings limit 10"
   ]
  },
  {
   "cell_type": "markdown",
   "metadata": {
    "application/vnd.databricks.v1+cell": {
     "cellMetadata": {
      "byteLimit": 2048000,
      "rowLimit": 10000
     },
     "inputWidgets": {},
     "nuid": "88666687-1276-4074-bc7c-3c786b696560",
     "showTitle": false,
     "tableResultSettingsMap": {},
     "title": ""
    }
   },
   "source": [
    "Fazendo JOIN entre as tabelas do banco SILVER."
   ]
  },
  {
   "cell_type": "code",
   "execution_count": 0,
   "metadata": {
    "application/vnd.databricks.v1+cell": {
     "cellMetadata": {
      "byteLimit": 2048000,
      "implicitDf": true,
      "rowLimit": 10000
     },
     "inputWidgets": {},
     "nuid": "84d8139f-8960-422f-a005-10749d473919",
     "showTitle": false,
     "tableResultSettingsMap": {},
     "title": ""
    }
   },
   "outputs": [
    {
     "output_type": "display_data",
     "data": {
      "text/html": [
       "<style scoped>\n",
       "  .table-result-container {\n",
       "    max-height: 300px;\n",
       "    overflow: auto;\n",
       "  }\n",
       "  table, th, td {\n",
       "    border: 1px solid black;\n",
       "    border-collapse: collapse;\n",
       "  }\n",
       "  th, td {\n",
       "    padding: 5px;\n",
       "  }\n",
       "  th {\n",
       "    text-align: left;\n",
       "  }\n",
       "</style><div class='table-result-container'><table class='table-result'><thead style='background-color: white'><tr><th>tconst</th><th>titleType</th><th>originalTitle</th><th>startYear</th><th>tconst</th><th>averageRating</th><th>numVotes</th></tr></thead><tbody><tr><td>tt3614516</td><td>movie</td><td>Ankhon Dekhi</td><td>2013</td><td>tt3614516</td><td>7.9</td><td>13213</td></tr><tr><td>tt3616916</td><td>movie</td><td>Bølgen</td><td>2015</td><td>tt3616916</td><td>6.6</td><td>44687</td></tr><tr><td>tt3622110</td><td>movie</td><td>Don't Knock Twice</td><td>2016</td><td>tt3622110</td><td>5.1</td><td>15331</td></tr><tr><td>tt3622120</td><td>movie</td><td>Kajaki</td><td>2014</td><td>tt3622120</td><td>7.1</td><td>14926</td></tr><tr><td>tt3622592</td><td>movie</td><td>Paper Towns</td><td>2015</td><td>tt3622592</td><td>6.2</td><td>109829</td></tr><tr><td>tt3623726</td><td>movie</td><td>Ricki and the Flash</td><td>2015</td><td>tt3623726</td><td>6.0</td><td>25406</td></tr><tr><td>tt3626476</td><td>movie</td><td>Vacation Friends</td><td>2021</td><td>tt3626476</td><td>6.3</td><td>31828</td></tr><tr><td>tt3628584</td><td>movie</td><td>Barbershop: The Next Cut</td><td>2016</td><td>tt3628584</td><td>5.9</td><td>16585</td></tr><tr><td>tt3631112</td><td>movie</td><td>The Girl on the Train</td><td>2016</td><td>tt3631112</td><td>6.5</td><td>205115</td></tr><tr><td>tt3640424</td><td>movie</td><td>Allied</td><td>2016</td><td>tt3640424</td><td>7.1</td><td>175005</td></tr><tr><td>tt3646462</td><td>movie</td><td>Itirazim Var</td><td>2014</td><td>tt3646462</td><td>7.7</td><td>14093</td></tr><tr><td>tt3647498</td><td>movie</td><td>Blood Father</td><td>2016</td><td>tt3647498</td><td>6.4</td><td>69206</td></tr><tr><td>tt3654796</td><td>movie</td><td>Creep 2</td><td>2017</td><td>tt3654796</td><td>6.4</td><td>36016</td></tr><tr><td>tt3655522</td><td>movie</td><td>Bande de filles</td><td>2014</td><td>tt3655522</td><td>6.9</td><td>10324</td></tr><tr><td>tt3658772</td><td>movie</td><td>Misconduct</td><td>2016</td><td>tt3658772</td><td>5.3</td><td>18492</td></tr><tr><td>tt3659388</td><td>movie</td><td>The Martian</td><td>2015</td><td>tt3659388</td><td>8.0</td><td>964075</td></tr><tr><td>tt3661210</td><td>movie</td><td>The Dig</td><td>2021</td><td>tt3661210</td><td>7.1</td><td>85682</td></tr><tr><td>tt3661394</td><td>movie</td><td>The One and Only Ivan</td><td>2020</td><td>tt3661394</td><td>6.6</td><td>13802</td></tr><tr><td>tt3666024</td><td>movie</td><td>La tortue rouge</td><td>2016</td><td>tt3666024</td><td>7.5</td><td>40275</td></tr><tr><td>tt3668162</td><td>movie</td><td>Bangalore Days</td><td>2014</td><td>tt3668162</td><td>8.3</td><td>24120</td></tr><tr><td>tt3671542</td><td>movie</td><td>Holding the Man</td><td>2015</td><td>tt3671542</td><td>7.4</td><td>13770</td></tr><tr><td>tt3672742</td><td>movie</td><td>Turbo Kid</td><td>2015</td><td>tt3672742</td><td>6.7</td><td>30441</td></tr><tr><td>tt3672840</td><td>movie</td><td>Tian jiang xiong shi</td><td>2015</td><td>tt3672840</td><td>5.9</td><td>21910</td></tr><tr><td>tt3674140</td><td>movie</td><td>The Salt of the Earth</td><td>2014</td><td>tt3674140</td><td>8.4</td><td>24365</td></tr><tr><td>tt3678782</td><td>movie</td><td>Badlapur</td><td>2015</td><td>tt3678782</td><td>7.4</td><td>26821</td></tr><tr><td>tt3678938</td><td>movie</td><td>Humpty Sharma Ki Dulhania</td><td>2014</td><td>tt3678938</td><td>6.0</td><td>14606</td></tr><tr><td>tt3682448</td><td>movie</td><td>Bridge of Spies</td><td>2015</td><td>tt3682448</td><td>7.6</td><td>335557</td></tr><tr><td>tt3685236</td><td>movie</td><td>Ibiza</td><td>2018</td><td>tt3685236</td><td>5.2</td><td>19134</td></tr><tr><td>tt3686998</td><td>movie</td><td>The Red Pill</td><td>2016</td><td>tt3686998</td><td>8.0</td><td>12293</td></tr><tr><td>tt3688406</td><td>movie</td><td>A Christmas Horror Story</td><td>2015</td><td>tt3688406</td><td>5.8</td><td>13331</td></tr><tr><td>tt3691740</td><td>movie</td><td>The BFG</td><td>2016</td><td>tt3691740</td><td>6.3</td><td>96286</td></tr><tr><td>tt3696180</td><td>movie</td><td>The Forgiven</td><td>2021</td><td>tt3696180</td><td>6.1</td><td>10685</td></tr><tr><td>tt3697626</td><td>movie</td><td>Kkeutkkaji ganda</td><td>2014</td><td>tt3697626</td><td>7.2</td><td>17505</td></tr><tr><td>tt3698408</td><td>movie</td><td>Pek Yakinda</td><td>2014</td><td>tt3698408</td><td>7.3</td><td>36526</td></tr><tr><td>tt3702652</td><td>movie</td><td>The Other Side of the Door</td><td>2016</td><td>tt3702652</td><td>5.3</td><td>20046</td></tr><tr><td>tt3702996</td><td>movie</td><td>Fack ju Göhte 2</td><td>2015</td><td>tt3702996</td><td>5.9</td><td>15373</td></tr><tr><td>tt3704050</td><td>movie</td><td>Remember</td><td>2015</td><td>tt3704050</td><td>7.5</td><td>28815</td></tr><tr><td>tt3704428</td><td>movie</td><td>Elvis</td><td>2022</td><td>tt3704428</td><td>7.3</td><td>249751</td></tr><tr><td>tt3704700</td><td>movie</td><td>Brain on Fire</td><td>2016</td><td>tt3704700</td><td>6.6</td><td>25282</td></tr><tr><td>tt3705412</td><td>movie</td><td>Deathgasm</td><td>2015</td><td>tt3705412</td><td>6.3</td><td>20048</td></tr><tr><td>tt3706352</td><td>movie</td><td>All the Old Knives</td><td>2022</td><td>tt3706352</td><td>6.1</td><td>30346</td></tr><tr><td>tt3707104</td><td>movie</td><td>Mine</td><td>2016</td><td>tt3707104</td><td>5.8</td><td>22262</td></tr><tr><td>tt3707106</td><td>movie</td><td>By the Sea</td><td>2015</td><td>tt3707106</td><td>5.3</td><td>23074</td></tr><tr><td>tt3708886</td><td>movie</td><td>War on Everyone</td><td>2016</td><td>tt3708886</td><td>5.8</td><td>20974</td></tr><tr><td>tt3713166</td><td>movie</td><td>Unfriended</td><td>2014</td><td>tt3713166</td><td>5.6</td><td>84504</td></tr><tr><td>tt3714720</td><td>movie</td><td>The Hollars</td><td>2016</td><td>tt3714720</td><td>6.6</td><td>15065</td></tr><tr><td>tt3715320</td><td>movie</td><td>Irrational Man</td><td>2015</td><td>tt3715320</td><td>6.6</td><td>68796</td></tr><tr><td>tt3716530</td><td>movie</td><td>Elle</td><td>2016</td><td>tt3716530</td><td>7.1</td><td>72823</td></tr><tr><td>tt3717252</td><td>movie</td><td>Underworld: Blood Wars</td><td>2016</td><td>tt3717252</td><td>5.8</td><td>83443</td></tr><tr><td>tt3717490</td><td>movie</td><td>Power Rangers</td><td>2017</td><td>tt3717490</td><td>5.9</td><td>116611</td></tr><tr><td>tt3717532</td><td>movie</td><td>The Last: Naruto the Movie</td><td>2014</td><td>tt3717532</td><td>7.6</td><td>18917</td></tr><tr><td>tt3721936</td><td>movie</td><td>American Honey</td><td>2016</td><td>tt3721936</td><td>7.0</td><td>48259</td></tr><tr><td>tt3721954</td><td>movie</td><td>Maudie</td><td>2016</td><td>tt3721954</td><td>7.6</td><td>24028</td></tr><tr><td>tt3721964</td><td>movie</td><td>Gringo</td><td>2018</td><td>tt3721964</td><td>6.1</td><td>32945</td></tr><tr><td>tt3722070</td><td>movie</td><td>The Lady in the Van</td><td>2015</td><td>tt3722070</td><td>6.7</td><td>33374</td></tr><tr><td>tt3722614</td><td>movie</td><td>Revolt</td><td>2017</td><td>tt3722614</td><td>5.3</td><td>10562</td></tr><tr><td>tt3726704</td><td>movie</td><td>Experimenter</td><td>2015</td><td>tt3726704</td><td>6.6</td><td>20367</td></tr><tr><td>tt3729920</td><td>movie</td><td>The Disappearance of Eleanor Rigby: Them</td><td>2014</td><td>tt3729920</td><td>6.3</td><td>13363</td></tr><tr><td>tt3731562</td><td>movie</td><td>Kong: Skull Island</td><td>2017</td><td>tt3731562</td><td>6.7</td><td>361821</td></tr><tr><td>tt3733774</td><td>movie</td><td>The Trust</td><td>2016</td><td>tt3733774</td><td>5.5</td><td>21436</td></tr><tr><td>tt3733778</td><td>movie</td><td>Pay the Ghost</td><td>2015</td><td>tt3733778</td><td>5.2</td><td>19556</td></tr><tr><td>tt3735246</td><td>movie</td><td>Bajirao Mastani</td><td>2015</td><td>tt3735246</td><td>7.3</td><td>40058</td></tr><tr><td>tt3741632</td><td>movie</td><td>The Leisure Seeker</td><td>2017</td><td>tt3741632</td><td>6.7</td><td>10198</td></tr><tr><td>tt3741700</td><td>movie</td><td>Godzilla: King of the Monsters</td><td>2019</td><td>tt3741700</td><td>6.0</td><td>218777</td></tr><tr><td>tt3741834</td><td>movie</td><td>Lion</td><td>2016</td><td>tt3741834</td><td>8.0</td><td>258725</td></tr><tr><td>tt3742284</td><td>movie</td><td>NH10</td><td>2015</td><td>tt3742284</td><td>7.2</td><td>14465</td></tr><tr><td>tt3742378</td><td>movie</td><td>Que Horas Ela Volta?</td><td>2015</td><td>tt3742378</td><td>7.8</td><td>18200</td></tr><tr><td>tt3748172</td><td>movie</td><td>Gerald's Game</td><td>2017</td><td>tt3748172</td><td>6.5</td><td>135548</td></tr><tr><td>tt3748440</td><td>movie</td><td>Blue Mountain State: The Rise of Thadland</td><td>2016</td><td>tt3748440</td><td>5.7</td><td>17379</td></tr><tr><td>tt3748528</td><td>movie</td><td>Rogue One</td><td>2016</td><td>tt3748528</td><td>7.8</td><td>710883</td></tr><tr><td>tt3750872</td><td>movie</td><td>The Wife</td><td>2017</td><td>tt3750872</td><td>7.2</td><td>44173</td></tr><tr><td>tt3754940</td><td>movie</td><td>Truman</td><td>2015</td><td>tt3754940</td><td>7.3</td><td>14248</td></tr><tr><td>tt3756788</td><td>movie</td><td>Umimachi Diary</td><td>2015</td><td>tt3756788</td><td>7.6</td><td>17785</td></tr><tr><td>tt3758172</td><td>movie</td><td>Jungle</td><td>2017</td><td>tt3758172</td><td>6.7</td><td>66963</td></tr><tr><td>tt3758542</td><td>movie</td><td>Ferrari</td><td>2023</td><td>tt3758542</td><td>6.4</td><td>61865</td></tr><tr><td>tt3758814</td><td>movie</td><td>The Ice Road</td><td>2021</td><td>tt3758814</td><td>5.6</td><td>51995</td></tr><tr><td>tt3759416</td><td>movie</td><td>Astérix : Le domaine des dieux</td><td>2014</td><td>tt3759416</td><td>6.9</td><td>16044</td></tr><tr><td>tt3760922</td><td>movie</td><td>My Big Fat Greek Wedding 2</td><td>2016</td><td>tt3760922</td><td>6.0</td><td>36701</td></tr><tr><td>tt3766354</td><td>movie</td><td>The Equalizer 2</td><td>2018</td><td>tt3766354</td><td>6.7</td><td>213748</td></tr><tr><td>tt3766394</td><td>movie</td><td>Hello, My Name Is Doris</td><td>2015</td><td>tt3766394</td><td>6.6</td><td>22735</td></tr><tr><td>tt3767372</td><td>movie</td><td>Piku</td><td>2015</td><td>tt3767372</td><td>7.6</td><td>35378</td></tr><tr><td>tt3771536</td><td>movie</td><td>Shivaay</td><td>2016</td><td>tt3771536</td><td>6.1</td><td>11561</td></tr><tr><td>tt3774114</td><td>movie</td><td>Snowden</td><td>2016</td><td>tt3774114</td><td>7.3</td><td>167942</td></tr><tr><td>tt3774466</td><td>movie</td><td>Ashby</td><td>2015</td><td>tt3774466</td><td>6.4</td><td>16378</td></tr><tr><td>tt3774694</td><td>movie</td><td>Love</td><td>2015</td><td>tt3774694</td><td>6.1</td><td>70584</td></tr><tr><td>tt3775086</td><td>movie</td><td>Lo chiamavano Jeeg Robot</td><td>2015</td><td>tt3775086</td><td>7.0</td><td>16854</td></tr><tr><td>tt3778644</td><td>movie</td><td>Solo: A Star Wars Story</td><td>2018</td><td>tt3778644</td><td>6.9</td><td>392513</td></tr><tr><td>tt3780500</td><td>movie</td><td>Journey's End</td><td>2017</td><td>tt3780500</td><td>6.7</td><td>11798</td></tr><tr><td>tt3783958</td><td>movie</td><td>La La Land</td><td>2016</td><td>tt3783958</td><td>8.0</td><td>714869</td></tr><tr><td>tt3787590</td><td>movie</td><td>We Are Your Friends</td><td>2015</td><td>tt3787590</td><td>6.2</td><td>41561</td></tr><tr><td>tt3792960</td><td>movie</td><td>Le tout nouveau testament</td><td>2015</td><td>tt3792960</td><td>7.1</td><td>36217</td></tr><tr><td>tt3793788</td><td>movie</td><td>The Escort</td><td>2015</td><td>tt3793788</td><td>6.0</td><td>14608</td></tr><tr><td>tt3794354</td><td>movie</td><td>Sonic the Hedgehog</td><td>2020</td><td>tt3794354</td><td>6.5</td><td>179436</td></tr><tr><td>tt3797512</td><td>movie</td><td>Barb & Star Go to Vista Del Mar</td><td>2021</td><td>tt3797512</td><td>6.3</td><td>21216</td></tr><tr><td>tt3797868</td><td>movie</td><td>The Choice</td><td>2016</td><td>tt3797868</td><td>6.5</td><td>47837</td></tr><tr><td>tt3799232</td><td>movie</td><td>The Kissing Booth</td><td>2018</td><td>tt3799232</td><td>5.9</td><td>98323</td></tr><tr><td>tt3799372</td><td>movie</td><td>6 Years</td><td>2015</td><td>tt3799372</td><td>5.5</td><td>13349</td></tr><tr><td>tt3799694</td><td>movie</td><td>The Nice Guys</td><td>2016</td><td>tt3799694</td><td>7.4</td><td>392620</td></tr><tr><td>tt3801314</td><td>movie</td><td>Kaththi</td><td>2014</td><td>tt3801314</td><td>8.1</td><td>31718</td></tr><tr><td>tt3802576</td><td>movie</td><td>Brothers</td><td>2015</td><td>tt3802576</td><td>6.4</td><td>14290</td></tr></tbody></table></div>"
      ]
     },
     "metadata": {
      "application/vnd.databricks.v1+output": {
       "addedWidgets": {},
       "aggData": [],
       "aggError": "",
       "aggOverflow": false,
       "aggSchema": [],
       "aggSeriesLimitReached": false,
       "aggType": "",
       "arguments": {},
       "columnCustomDisplayInfos": {},
       "data": [
        [
         "tt3614516",
         "movie",
         "Ankhon Dekhi",
         "2013",
         "tt3614516",
         7.9,
         13213
        ],
        [
         "tt3616916",
         "movie",
         "Bølgen",
         "2015",
         "tt3616916",
         6.6,
         44687
        ],
        [
         "tt3622110",
         "movie",
         "Don't Knock Twice",
         "2016",
         "tt3622110",
         5.1,
         15331
        ],
        [
         "tt3622120",
         "movie",
         "Kajaki",
         "2014",
         "tt3622120",
         7.1,
         14926
        ],
        [
         "tt3622592",
         "movie",
         "Paper Towns",
         "2015",
         "tt3622592",
         6.2,
         109829
        ],
        [
         "tt3623726",
         "movie",
         "Ricki and the Flash",
         "2015",
         "tt3623726",
         6.0,
         25406
        ],
        [
         "tt3626476",
         "movie",
         "Vacation Friends",
         "2021",
         "tt3626476",
         6.3,
         31828
        ],
        [
         "tt3628584",
         "movie",
         "Barbershop: The Next Cut",
         "2016",
         "tt3628584",
         5.9,
         16585
        ],
        [
         "tt3631112",
         "movie",
         "The Girl on the Train",
         "2016",
         "tt3631112",
         6.5,
         205115
        ],
        [
         "tt3640424",
         "movie",
         "Allied",
         "2016",
         "tt3640424",
         7.1,
         175005
        ],
        [
         "tt3646462",
         "movie",
         "Itirazim Var",
         "2014",
         "tt3646462",
         7.7,
         14093
        ],
        [
         "tt3647498",
         "movie",
         "Blood Father",
         "2016",
         "tt3647498",
         6.4,
         69206
        ],
        [
         "tt3654796",
         "movie",
         "Creep 2",
         "2017",
         "tt3654796",
         6.4,
         36016
        ],
        [
         "tt3655522",
         "movie",
         "Bande de filles",
         "2014",
         "tt3655522",
         6.9,
         10324
        ],
        [
         "tt3658772",
         "movie",
         "Misconduct",
         "2016",
         "tt3658772",
         5.3,
         18492
        ],
        [
         "tt3659388",
         "movie",
         "The Martian",
         "2015",
         "tt3659388",
         8.0,
         964075
        ],
        [
         "tt3661210",
         "movie",
         "The Dig",
         "2021",
         "tt3661210",
         7.1,
         85682
        ],
        [
         "tt3661394",
         "movie",
         "The One and Only Ivan",
         "2020",
         "tt3661394",
         6.6,
         13802
        ],
        [
         "tt3666024",
         "movie",
         "La tortue rouge",
         "2016",
         "tt3666024",
         7.5,
         40275
        ],
        [
         "tt3668162",
         "movie",
         "Bangalore Days",
         "2014",
         "tt3668162",
         8.3,
         24120
        ],
        [
         "tt3671542",
         "movie",
         "Holding the Man",
         "2015",
         "tt3671542",
         7.4,
         13770
        ],
        [
         "tt3672742",
         "movie",
         "Turbo Kid",
         "2015",
         "tt3672742",
         6.7,
         30441
        ],
        [
         "tt3672840",
         "movie",
         "Tian jiang xiong shi",
         "2015",
         "tt3672840",
         5.9,
         21910
        ],
        [
         "tt3674140",
         "movie",
         "The Salt of the Earth",
         "2014",
         "tt3674140",
         8.4,
         24365
        ],
        [
         "tt3678782",
         "movie",
         "Badlapur",
         "2015",
         "tt3678782",
         7.4,
         26821
        ],
        [
         "tt3678938",
         "movie",
         "Humpty Sharma Ki Dulhania",
         "2014",
         "tt3678938",
         6.0,
         14606
        ],
        [
         "tt3682448",
         "movie",
         "Bridge of Spies",
         "2015",
         "tt3682448",
         7.6,
         335557
        ],
        [
         "tt3685236",
         "movie",
         "Ibiza",
         "2018",
         "tt3685236",
         5.2,
         19134
        ],
        [
         "tt3686998",
         "movie",
         "The Red Pill",
         "2016",
         "tt3686998",
         8.0,
         12293
        ],
        [
         "tt3688406",
         "movie",
         "A Christmas Horror Story",
         "2015",
         "tt3688406",
         5.8,
         13331
        ],
        [
         "tt3691740",
         "movie",
         "The BFG",
         "2016",
         "tt3691740",
         6.3,
         96286
        ],
        [
         "tt3696180",
         "movie",
         "The Forgiven",
         "2021",
         "tt3696180",
         6.1,
         10685
        ],
        [
         "tt3697626",
         "movie",
         "Kkeutkkaji ganda",
         "2014",
         "tt3697626",
         7.2,
         17505
        ],
        [
         "tt3698408",
         "movie",
         "Pek Yakinda",
         "2014",
         "tt3698408",
         7.3,
         36526
        ],
        [
         "tt3702652",
         "movie",
         "The Other Side of the Door",
         "2016",
         "tt3702652",
         5.3,
         20046
        ],
        [
         "tt3702996",
         "movie",
         "Fack ju Göhte 2",
         "2015",
         "tt3702996",
         5.9,
         15373
        ],
        [
         "tt3704050",
         "movie",
         "Remember",
         "2015",
         "tt3704050",
         7.5,
         28815
        ],
        [
         "tt3704428",
         "movie",
         "Elvis",
         "2022",
         "tt3704428",
         7.3,
         249751
        ],
        [
         "tt3704700",
         "movie",
         "Brain on Fire",
         "2016",
         "tt3704700",
         6.6,
         25282
        ],
        [
         "tt3705412",
         "movie",
         "Deathgasm",
         "2015",
         "tt3705412",
         6.3,
         20048
        ],
        [
         "tt3706352",
         "movie",
         "All the Old Knives",
         "2022",
         "tt3706352",
         6.1,
         30346
        ],
        [
         "tt3707104",
         "movie",
         "Mine",
         "2016",
         "tt3707104",
         5.8,
         22262
        ],
        [
         "tt3707106",
         "movie",
         "By the Sea",
         "2015",
         "tt3707106",
         5.3,
         23074
        ],
        [
         "tt3708886",
         "movie",
         "War on Everyone",
         "2016",
         "tt3708886",
         5.8,
         20974
        ],
        [
         "tt3713166",
         "movie",
         "Unfriended",
         "2014",
         "tt3713166",
         5.6,
         84504
        ],
        [
         "tt3714720",
         "movie",
         "The Hollars",
         "2016",
         "tt3714720",
         6.6,
         15065
        ],
        [
         "tt3715320",
         "movie",
         "Irrational Man",
         "2015",
         "tt3715320",
         6.6,
         68796
        ],
        [
         "tt3716530",
         "movie",
         "Elle",
         "2016",
         "tt3716530",
         7.1,
         72823
        ],
        [
         "tt3717252",
         "movie",
         "Underworld: Blood Wars",
         "2016",
         "tt3717252",
         5.8,
         83443
        ],
        [
         "tt3717490",
         "movie",
         "Power Rangers",
         "2017",
         "tt3717490",
         5.9,
         116611
        ],
        [
         "tt3717532",
         "movie",
         "The Last: Naruto the Movie",
         "2014",
         "tt3717532",
         7.6,
         18917
        ],
        [
         "tt3721936",
         "movie",
         "American Honey",
         "2016",
         "tt3721936",
         7.0,
         48259
        ],
        [
         "tt3721954",
         "movie",
         "Maudie",
         "2016",
         "tt3721954",
         7.6,
         24028
        ],
        [
         "tt3721964",
         "movie",
         "Gringo",
         "2018",
         "tt3721964",
         6.1,
         32945
        ],
        [
         "tt3722070",
         "movie",
         "The Lady in the Van",
         "2015",
         "tt3722070",
         6.7,
         33374
        ],
        [
         "tt3722614",
         "movie",
         "Revolt",
         "2017",
         "tt3722614",
         5.3,
         10562
        ],
        [
         "tt3726704",
         "movie",
         "Experimenter",
         "2015",
         "tt3726704",
         6.6,
         20367
        ],
        [
         "tt3729920",
         "movie",
         "The Disappearance of Eleanor Rigby: Them",
         "2014",
         "tt3729920",
         6.3,
         13363
        ],
        [
         "tt3731562",
         "movie",
         "Kong: Skull Island",
         "2017",
         "tt3731562",
         6.7,
         361821
        ],
        [
         "tt3733774",
         "movie",
         "The Trust",
         "2016",
         "tt3733774",
         5.5,
         21436
        ],
        [
         "tt3733778",
         "movie",
         "Pay the Ghost",
         "2015",
         "tt3733778",
         5.2,
         19556
        ],
        [
         "tt3735246",
         "movie",
         "Bajirao Mastani",
         "2015",
         "tt3735246",
         7.3,
         40058
        ],
        [
         "tt3741632",
         "movie",
         "The Leisure Seeker",
         "2017",
         "tt3741632",
         6.7,
         10198
        ],
        [
         "tt3741700",
         "movie",
         "Godzilla: King of the Monsters",
         "2019",
         "tt3741700",
         6.0,
         218777
        ],
        [
         "tt3741834",
         "movie",
         "Lion",
         "2016",
         "tt3741834",
         8.0,
         258725
        ],
        [
         "tt3742284",
         "movie",
         "NH10",
         "2015",
         "tt3742284",
         7.2,
         14465
        ],
        [
         "tt3742378",
         "movie",
         "Que Horas Ela Volta?",
         "2015",
         "tt3742378",
         7.8,
         18200
        ],
        [
         "tt3748172",
         "movie",
         "Gerald's Game",
         "2017",
         "tt3748172",
         6.5,
         135548
        ],
        [
         "tt3748440",
         "movie",
         "Blue Mountain State: The Rise of Thadland",
         "2016",
         "tt3748440",
         5.7,
         17379
        ],
        [
         "tt3748528",
         "movie",
         "Rogue One",
         "2016",
         "tt3748528",
         7.8,
         710883
        ],
        [
         "tt3750872",
         "movie",
         "The Wife",
         "2017",
         "tt3750872",
         7.2,
         44173
        ],
        [
         "tt3754940",
         "movie",
         "Truman",
         "2015",
         "tt3754940",
         7.3,
         14248
        ],
        [
         "tt3756788",
         "movie",
         "Umimachi Diary",
         "2015",
         "tt3756788",
         7.6,
         17785
        ],
        [
         "tt3758172",
         "movie",
         "Jungle",
         "2017",
         "tt3758172",
         6.7,
         66963
        ],
        [
         "tt3758542",
         "movie",
         "Ferrari",
         "2023",
         "tt3758542",
         6.4,
         61865
        ],
        [
         "tt3758814",
         "movie",
         "The Ice Road",
         "2021",
         "tt3758814",
         5.6,
         51995
        ],
        [
         "tt3759416",
         "movie",
         "Astérix : Le domaine des dieux",
         "2014",
         "tt3759416",
         6.9,
         16044
        ],
        [
         "tt3760922",
         "movie",
         "My Big Fat Greek Wedding 2",
         "2016",
         "tt3760922",
         6.0,
         36701
        ],
        [
         "tt3766354",
         "movie",
         "The Equalizer 2",
         "2018",
         "tt3766354",
         6.7,
         213748
        ],
        [
         "tt3766394",
         "movie",
         "Hello, My Name Is Doris",
         "2015",
         "tt3766394",
         6.6,
         22735
        ],
        [
         "tt3767372",
         "movie",
         "Piku",
         "2015",
         "tt3767372",
         7.6,
         35378
        ],
        [
         "tt3771536",
         "movie",
         "Shivaay",
         "2016",
         "tt3771536",
         6.1,
         11561
        ],
        [
         "tt3774114",
         "movie",
         "Snowden",
         "2016",
         "tt3774114",
         7.3,
         167942
        ],
        [
         "tt3774466",
         "movie",
         "Ashby",
         "2015",
         "tt3774466",
         6.4,
         16378
        ],
        [
         "tt3774694",
         "movie",
         "Love",
         "2015",
         "tt3774694",
         6.1,
         70584
        ],
        [
         "tt3775086",
         "movie",
         "Lo chiamavano Jeeg Robot",
         "2015",
         "tt3775086",
         7.0,
         16854
        ],
        [
         "tt3778644",
         "movie",
         "Solo: A Star Wars Story",
         "2018",
         "tt3778644",
         6.9,
         392513
        ],
        [
         "tt3780500",
         "movie",
         "Journey's End",
         "2017",
         "tt3780500",
         6.7,
         11798
        ],
        [
         "tt3783958",
         "movie",
         "La La Land",
         "2016",
         "tt3783958",
         8.0,
         714869
        ],
        [
         "tt3787590",
         "movie",
         "We Are Your Friends",
         "2015",
         "tt3787590",
         6.2,
         41561
        ],
        [
         "tt3792960",
         "movie",
         "Le tout nouveau testament",
         "2015",
         "tt3792960",
         7.1,
         36217
        ],
        [
         "tt3793788",
         "movie",
         "The Escort",
         "2015",
         "tt3793788",
         6.0,
         14608
        ],
        [
         "tt3794354",
         "movie",
         "Sonic the Hedgehog",
         "2020",
         "tt3794354",
         6.5,
         179436
        ],
        [
         "tt3797512",
         "movie",
         "Barb & Star Go to Vista Del Mar",
         "2021",
         "tt3797512",
         6.3,
         21216
        ],
        [
         "tt3797868",
         "movie",
         "The Choice",
         "2016",
         "tt3797868",
         6.5,
         47837
        ],
        [
         "tt3799232",
         "movie",
         "The Kissing Booth",
         "2018",
         "tt3799232",
         5.9,
         98323
        ],
        [
         "tt3799372",
         "movie",
         "6 Years",
         "2015",
         "tt3799372",
         5.5,
         13349
        ],
        [
         "tt3799694",
         "movie",
         "The Nice Guys",
         "2016",
         "tt3799694",
         7.4,
         392620
        ],
        [
         "tt3801314",
         "movie",
         "Kaththi",
         "2014",
         "tt3801314",
         8.1,
         31718
        ],
        [
         "tt3802576",
         "movie",
         "Brothers",
         "2015",
         "tt3802576",
         6.4,
         14290
        ]
       ],
       "datasetInfos": [],
       "dbfsResultPath": null,
       "isJsonSchema": true,
       "metadata": {},
       "overflow": false,
       "plotOptions": {
        "customPlotOptions": {},
        "displayType": "table",
        "pivotAggregation": null,
        "pivotColumns": null,
        "xColumns": null,
        "yColumns": null
       },
       "removedWidgets": [],
       "schema": [
        {
         "metadata": "{}",
         "name": "tconst",
         "type": "\"string\""
        },
        {
         "metadata": "{}",
         "name": "titleType",
         "type": "\"string\""
        },
        {
         "metadata": "{}",
         "name": "originalTitle",
         "type": "\"string\""
        },
        {
         "metadata": "{}",
         "name": "startYear",
         "type": "\"string\""
        },
        {
         "metadata": "{}",
         "name": "tconst",
         "type": "\"string\""
        },
        {
         "metadata": "{}",
         "name": "averageRating",
         "type": "\"double\""
        },
        {
         "metadata": "{}",
         "name": "numVotes",
         "type": "\"long\""
        }
       ],
       "type": "table"
      }
     },
     "output_type": "display_data"
    }
   ],
   "source": [
    "%sql SELECT *  FROM silver.title_basics AS TB INNER JOIN silver.title_ratings AS TR ON TB.tconst=TR.tconst limit 100"
   ]
  },
  {
   "cell_type": "markdown",
   "metadata": {
    "application/vnd.databricks.v1+cell": {
     "cellMetadata": {
      "byteLimit": 2048000,
      "rowLimit": 10000
     },
     "inputWidgets": {},
     "nuid": "5ec12771-1247-4734-b19e-2a6a887ab79f",
     "showTitle": false,
     "tableResultSettingsMap": {},
     "title": ""
    }
   },
   "source": [
    "Ajustando as colunas para criação da tabela."
   ]
  },
  {
   "cell_type": "code",
   "execution_count": 0,
   "metadata": {
    "application/vnd.databricks.v1+cell": {
     "cellMetadata": {
      "byteLimit": 2048000,
      "implicitDf": true,
      "rowLimit": 10000
     },
     "inputWidgets": {},
     "nuid": "8e3347c6-b3d8-4bdc-b68c-f069d832356c",
     "showTitle": false,
     "tableResultSettingsMap": {},
     "title": ""
    }
   },
   "outputs": [
    {
     "output_type": "display_data",
     "data": {
      "text/html": [
       "<style scoped>\n",
       "  .table-result-container {\n",
       "    max-height: 300px;\n",
       "    overflow: auto;\n",
       "  }\n",
       "  table, th, td {\n",
       "    border: 1px solid black;\n",
       "    border-collapse: collapse;\n",
       "  }\n",
       "  th, td {\n",
       "    padding: 5px;\n",
       "  }\n",
       "  th {\n",
       "    text-align: left;\n",
       "  }\n",
       "</style><div class='table-result-container'><table class='table-result'><thead style='background-color: white'><tr><th>tconst</th><th>titleType</th><th>originalTitle</th><th>startYear</th><th>averageRating</th><th>numVotes</th></tr></thead><tbody><tr><td>tt3614516</td><td>movie</td><td>Ankhon Dekhi</td><td>2013</td><td>7.9</td><td>13213</td></tr><tr><td>tt3616916</td><td>movie</td><td>Bølgen</td><td>2015</td><td>6.6</td><td>44687</td></tr><tr><td>tt3622110</td><td>movie</td><td>Don't Knock Twice</td><td>2016</td><td>5.1</td><td>15331</td></tr><tr><td>tt3622120</td><td>movie</td><td>Kajaki</td><td>2014</td><td>7.1</td><td>14926</td></tr><tr><td>tt3622592</td><td>movie</td><td>Paper Towns</td><td>2015</td><td>6.2</td><td>109829</td></tr><tr><td>tt3623726</td><td>movie</td><td>Ricki and the Flash</td><td>2015</td><td>6.0</td><td>25406</td></tr><tr><td>tt3626476</td><td>movie</td><td>Vacation Friends</td><td>2021</td><td>6.3</td><td>31828</td></tr><tr><td>tt3628584</td><td>movie</td><td>Barbershop: The Next Cut</td><td>2016</td><td>5.9</td><td>16585</td></tr><tr><td>tt3631112</td><td>movie</td><td>The Girl on the Train</td><td>2016</td><td>6.5</td><td>205115</td></tr><tr><td>tt3640424</td><td>movie</td><td>Allied</td><td>2016</td><td>7.1</td><td>175005</td></tr><tr><td>tt3646462</td><td>movie</td><td>Itirazim Var</td><td>2014</td><td>7.7</td><td>14093</td></tr><tr><td>tt3647498</td><td>movie</td><td>Blood Father</td><td>2016</td><td>6.4</td><td>69206</td></tr><tr><td>tt3654796</td><td>movie</td><td>Creep 2</td><td>2017</td><td>6.4</td><td>36016</td></tr><tr><td>tt3655522</td><td>movie</td><td>Bande de filles</td><td>2014</td><td>6.9</td><td>10324</td></tr><tr><td>tt3658772</td><td>movie</td><td>Misconduct</td><td>2016</td><td>5.3</td><td>18492</td></tr><tr><td>tt3659388</td><td>movie</td><td>The Martian</td><td>2015</td><td>8.0</td><td>964075</td></tr><tr><td>tt3661210</td><td>movie</td><td>The Dig</td><td>2021</td><td>7.1</td><td>85682</td></tr><tr><td>tt3661394</td><td>movie</td><td>The One and Only Ivan</td><td>2020</td><td>6.6</td><td>13802</td></tr><tr><td>tt3666024</td><td>movie</td><td>La tortue rouge</td><td>2016</td><td>7.5</td><td>40275</td></tr><tr><td>tt3668162</td><td>movie</td><td>Bangalore Days</td><td>2014</td><td>8.3</td><td>24120</td></tr><tr><td>tt3671542</td><td>movie</td><td>Holding the Man</td><td>2015</td><td>7.4</td><td>13770</td></tr><tr><td>tt3672742</td><td>movie</td><td>Turbo Kid</td><td>2015</td><td>6.7</td><td>30441</td></tr><tr><td>tt3672840</td><td>movie</td><td>Tian jiang xiong shi</td><td>2015</td><td>5.9</td><td>21910</td></tr><tr><td>tt3674140</td><td>movie</td><td>The Salt of the Earth</td><td>2014</td><td>8.4</td><td>24365</td></tr><tr><td>tt3678782</td><td>movie</td><td>Badlapur</td><td>2015</td><td>7.4</td><td>26821</td></tr><tr><td>tt3678938</td><td>movie</td><td>Humpty Sharma Ki Dulhania</td><td>2014</td><td>6.0</td><td>14606</td></tr><tr><td>tt3682448</td><td>movie</td><td>Bridge of Spies</td><td>2015</td><td>7.6</td><td>335557</td></tr><tr><td>tt3685236</td><td>movie</td><td>Ibiza</td><td>2018</td><td>5.2</td><td>19134</td></tr><tr><td>tt3686998</td><td>movie</td><td>The Red Pill</td><td>2016</td><td>8.0</td><td>12293</td></tr><tr><td>tt3688406</td><td>movie</td><td>A Christmas Horror Story</td><td>2015</td><td>5.8</td><td>13331</td></tr><tr><td>tt3691740</td><td>movie</td><td>The BFG</td><td>2016</td><td>6.3</td><td>96286</td></tr><tr><td>tt3696180</td><td>movie</td><td>The Forgiven</td><td>2021</td><td>6.1</td><td>10685</td></tr><tr><td>tt3697626</td><td>movie</td><td>Kkeutkkaji ganda</td><td>2014</td><td>7.2</td><td>17505</td></tr><tr><td>tt3698408</td><td>movie</td><td>Pek Yakinda</td><td>2014</td><td>7.3</td><td>36526</td></tr><tr><td>tt3702652</td><td>movie</td><td>The Other Side of the Door</td><td>2016</td><td>5.3</td><td>20046</td></tr><tr><td>tt3702996</td><td>movie</td><td>Fack ju Göhte 2</td><td>2015</td><td>5.9</td><td>15373</td></tr><tr><td>tt3704050</td><td>movie</td><td>Remember</td><td>2015</td><td>7.5</td><td>28815</td></tr><tr><td>tt3704428</td><td>movie</td><td>Elvis</td><td>2022</td><td>7.3</td><td>249751</td></tr><tr><td>tt3704700</td><td>movie</td><td>Brain on Fire</td><td>2016</td><td>6.6</td><td>25282</td></tr><tr><td>tt3705412</td><td>movie</td><td>Deathgasm</td><td>2015</td><td>6.3</td><td>20048</td></tr><tr><td>tt3706352</td><td>movie</td><td>All the Old Knives</td><td>2022</td><td>6.1</td><td>30346</td></tr><tr><td>tt3707104</td><td>movie</td><td>Mine</td><td>2016</td><td>5.8</td><td>22262</td></tr><tr><td>tt3707106</td><td>movie</td><td>By the Sea</td><td>2015</td><td>5.3</td><td>23074</td></tr><tr><td>tt3708886</td><td>movie</td><td>War on Everyone</td><td>2016</td><td>5.8</td><td>20974</td></tr><tr><td>tt3713166</td><td>movie</td><td>Unfriended</td><td>2014</td><td>5.6</td><td>84504</td></tr><tr><td>tt3714720</td><td>movie</td><td>The Hollars</td><td>2016</td><td>6.6</td><td>15065</td></tr><tr><td>tt3715320</td><td>movie</td><td>Irrational Man</td><td>2015</td><td>6.6</td><td>68796</td></tr><tr><td>tt3716530</td><td>movie</td><td>Elle</td><td>2016</td><td>7.1</td><td>72823</td></tr><tr><td>tt3717252</td><td>movie</td><td>Underworld: Blood Wars</td><td>2016</td><td>5.8</td><td>83443</td></tr><tr><td>tt3717490</td><td>movie</td><td>Power Rangers</td><td>2017</td><td>5.9</td><td>116611</td></tr><tr><td>tt3717532</td><td>movie</td><td>The Last: Naruto the Movie</td><td>2014</td><td>7.6</td><td>18917</td></tr><tr><td>tt3721936</td><td>movie</td><td>American Honey</td><td>2016</td><td>7.0</td><td>48259</td></tr><tr><td>tt3721954</td><td>movie</td><td>Maudie</td><td>2016</td><td>7.6</td><td>24028</td></tr><tr><td>tt3721964</td><td>movie</td><td>Gringo</td><td>2018</td><td>6.1</td><td>32945</td></tr><tr><td>tt3722070</td><td>movie</td><td>The Lady in the Van</td><td>2015</td><td>6.7</td><td>33374</td></tr><tr><td>tt3722614</td><td>movie</td><td>Revolt</td><td>2017</td><td>5.3</td><td>10562</td></tr><tr><td>tt3726704</td><td>movie</td><td>Experimenter</td><td>2015</td><td>6.6</td><td>20367</td></tr><tr><td>tt3729920</td><td>movie</td><td>The Disappearance of Eleanor Rigby: Them</td><td>2014</td><td>6.3</td><td>13363</td></tr><tr><td>tt3731562</td><td>movie</td><td>Kong: Skull Island</td><td>2017</td><td>6.7</td><td>361821</td></tr><tr><td>tt3733774</td><td>movie</td><td>The Trust</td><td>2016</td><td>5.5</td><td>21436</td></tr><tr><td>tt3733778</td><td>movie</td><td>Pay the Ghost</td><td>2015</td><td>5.2</td><td>19556</td></tr><tr><td>tt3735246</td><td>movie</td><td>Bajirao Mastani</td><td>2015</td><td>7.3</td><td>40058</td></tr><tr><td>tt3741632</td><td>movie</td><td>The Leisure Seeker</td><td>2017</td><td>6.7</td><td>10198</td></tr><tr><td>tt3741700</td><td>movie</td><td>Godzilla: King of the Monsters</td><td>2019</td><td>6.0</td><td>218777</td></tr><tr><td>tt3741834</td><td>movie</td><td>Lion</td><td>2016</td><td>8.0</td><td>258725</td></tr><tr><td>tt3742284</td><td>movie</td><td>NH10</td><td>2015</td><td>7.2</td><td>14465</td></tr><tr><td>tt3742378</td><td>movie</td><td>Que Horas Ela Volta?</td><td>2015</td><td>7.8</td><td>18200</td></tr><tr><td>tt3748172</td><td>movie</td><td>Gerald's Game</td><td>2017</td><td>6.5</td><td>135548</td></tr><tr><td>tt3748440</td><td>movie</td><td>Blue Mountain State: The Rise of Thadland</td><td>2016</td><td>5.7</td><td>17379</td></tr><tr><td>tt3748528</td><td>movie</td><td>Rogue One</td><td>2016</td><td>7.8</td><td>710883</td></tr><tr><td>tt3750872</td><td>movie</td><td>The Wife</td><td>2017</td><td>7.2</td><td>44173</td></tr><tr><td>tt3754940</td><td>movie</td><td>Truman</td><td>2015</td><td>7.3</td><td>14248</td></tr><tr><td>tt3756788</td><td>movie</td><td>Umimachi Diary</td><td>2015</td><td>7.6</td><td>17785</td></tr><tr><td>tt3758172</td><td>movie</td><td>Jungle</td><td>2017</td><td>6.7</td><td>66963</td></tr><tr><td>tt3758542</td><td>movie</td><td>Ferrari</td><td>2023</td><td>6.4</td><td>61865</td></tr><tr><td>tt3758814</td><td>movie</td><td>The Ice Road</td><td>2021</td><td>5.6</td><td>51995</td></tr><tr><td>tt3759416</td><td>movie</td><td>Astérix : Le domaine des dieux</td><td>2014</td><td>6.9</td><td>16044</td></tr><tr><td>tt3760922</td><td>movie</td><td>My Big Fat Greek Wedding 2</td><td>2016</td><td>6.0</td><td>36701</td></tr><tr><td>tt3766354</td><td>movie</td><td>The Equalizer 2</td><td>2018</td><td>6.7</td><td>213748</td></tr><tr><td>tt3766394</td><td>movie</td><td>Hello, My Name Is Doris</td><td>2015</td><td>6.6</td><td>22735</td></tr><tr><td>tt3767372</td><td>movie</td><td>Piku</td><td>2015</td><td>7.6</td><td>35378</td></tr><tr><td>tt3771536</td><td>movie</td><td>Shivaay</td><td>2016</td><td>6.1</td><td>11561</td></tr><tr><td>tt3774114</td><td>movie</td><td>Snowden</td><td>2016</td><td>7.3</td><td>167942</td></tr><tr><td>tt3774466</td><td>movie</td><td>Ashby</td><td>2015</td><td>6.4</td><td>16378</td></tr><tr><td>tt3774694</td><td>movie</td><td>Love</td><td>2015</td><td>6.1</td><td>70584</td></tr><tr><td>tt3775086</td><td>movie</td><td>Lo chiamavano Jeeg Robot</td><td>2015</td><td>7.0</td><td>16854</td></tr><tr><td>tt3778644</td><td>movie</td><td>Solo: A Star Wars Story</td><td>2018</td><td>6.9</td><td>392513</td></tr><tr><td>tt3780500</td><td>movie</td><td>Journey's End</td><td>2017</td><td>6.7</td><td>11798</td></tr><tr><td>tt3783958</td><td>movie</td><td>La La Land</td><td>2016</td><td>8.0</td><td>714869</td></tr><tr><td>tt3787590</td><td>movie</td><td>We Are Your Friends</td><td>2015</td><td>6.2</td><td>41561</td></tr><tr><td>tt3792960</td><td>movie</td><td>Le tout nouveau testament</td><td>2015</td><td>7.1</td><td>36217</td></tr><tr><td>tt3793788</td><td>movie</td><td>The Escort</td><td>2015</td><td>6.0</td><td>14608</td></tr><tr><td>tt3794354</td><td>movie</td><td>Sonic the Hedgehog</td><td>2020</td><td>6.5</td><td>179436</td></tr><tr><td>tt3797512</td><td>movie</td><td>Barb & Star Go to Vista Del Mar</td><td>2021</td><td>6.3</td><td>21216</td></tr><tr><td>tt3797868</td><td>movie</td><td>The Choice</td><td>2016</td><td>6.5</td><td>47837</td></tr><tr><td>tt3799232</td><td>movie</td><td>The Kissing Booth</td><td>2018</td><td>5.9</td><td>98323</td></tr><tr><td>tt3799372</td><td>movie</td><td>6 Years</td><td>2015</td><td>5.5</td><td>13349</td></tr><tr><td>tt3799694</td><td>movie</td><td>The Nice Guys</td><td>2016</td><td>7.4</td><td>392620</td></tr><tr><td>tt3801314</td><td>movie</td><td>Kaththi</td><td>2014</td><td>8.1</td><td>31718</td></tr><tr><td>tt3802576</td><td>movie</td><td>Brothers</td><td>2015</td><td>6.4</td><td>14290</td></tr></tbody></table></div>"
      ]
     },
     "metadata": {
      "application/vnd.databricks.v1+output": {
       "addedWidgets": {},
       "aggData": [],
       "aggError": "",
       "aggOverflow": false,
       "aggSchema": [],
       "aggSeriesLimitReached": false,
       "aggType": "",
       "arguments": {},
       "columnCustomDisplayInfos": {},
       "data": [
        [
         "tt3614516",
         "movie",
         "Ankhon Dekhi",
         "2013",
         7.9,
         13213
        ],
        [
         "tt3616916",
         "movie",
         "Bølgen",
         "2015",
         6.6,
         44687
        ],
        [
         "tt3622110",
         "movie",
         "Don't Knock Twice",
         "2016",
         5.1,
         15331
        ],
        [
         "tt3622120",
         "movie",
         "Kajaki",
         "2014",
         7.1,
         14926
        ],
        [
         "tt3622592",
         "movie",
         "Paper Towns",
         "2015",
         6.2,
         109829
        ],
        [
         "tt3623726",
         "movie",
         "Ricki and the Flash",
         "2015",
         6.0,
         25406
        ],
        [
         "tt3626476",
         "movie",
         "Vacation Friends",
         "2021",
         6.3,
         31828
        ],
        [
         "tt3628584",
         "movie",
         "Barbershop: The Next Cut",
         "2016",
         5.9,
         16585
        ],
        [
         "tt3631112",
         "movie",
         "The Girl on the Train",
         "2016",
         6.5,
         205115
        ],
        [
         "tt3640424",
         "movie",
         "Allied",
         "2016",
         7.1,
         175005
        ],
        [
         "tt3646462",
         "movie",
         "Itirazim Var",
         "2014",
         7.7,
         14093
        ],
        [
         "tt3647498",
         "movie",
         "Blood Father",
         "2016",
         6.4,
         69206
        ],
        [
         "tt3654796",
         "movie",
         "Creep 2",
         "2017",
         6.4,
         36016
        ],
        [
         "tt3655522",
         "movie",
         "Bande de filles",
         "2014",
         6.9,
         10324
        ],
        [
         "tt3658772",
         "movie",
         "Misconduct",
         "2016",
         5.3,
         18492
        ],
        [
         "tt3659388",
         "movie",
         "The Martian",
         "2015",
         8.0,
         964075
        ],
        [
         "tt3661210",
         "movie",
         "The Dig",
         "2021",
         7.1,
         85682
        ],
        [
         "tt3661394",
         "movie",
         "The One and Only Ivan",
         "2020",
         6.6,
         13802
        ],
        [
         "tt3666024",
         "movie",
         "La tortue rouge",
         "2016",
         7.5,
         40275
        ],
        [
         "tt3668162",
         "movie",
         "Bangalore Days",
         "2014",
         8.3,
         24120
        ],
        [
         "tt3671542",
         "movie",
         "Holding the Man",
         "2015",
         7.4,
         13770
        ],
        [
         "tt3672742",
         "movie",
         "Turbo Kid",
         "2015",
         6.7,
         30441
        ],
        [
         "tt3672840",
         "movie",
         "Tian jiang xiong shi",
         "2015",
         5.9,
         21910
        ],
        [
         "tt3674140",
         "movie",
         "The Salt of the Earth",
         "2014",
         8.4,
         24365
        ],
        [
         "tt3678782",
         "movie",
         "Badlapur",
         "2015",
         7.4,
         26821
        ],
        [
         "tt3678938",
         "movie",
         "Humpty Sharma Ki Dulhania",
         "2014",
         6.0,
         14606
        ],
        [
         "tt3682448",
         "movie",
         "Bridge of Spies",
         "2015",
         7.6,
         335557
        ],
        [
         "tt3685236",
         "movie",
         "Ibiza",
         "2018",
         5.2,
         19134
        ],
        [
         "tt3686998",
         "movie",
         "The Red Pill",
         "2016",
         8.0,
         12293
        ],
        [
         "tt3688406",
         "movie",
         "A Christmas Horror Story",
         "2015",
         5.8,
         13331
        ],
        [
         "tt3691740",
         "movie",
         "The BFG",
         "2016",
         6.3,
         96286
        ],
        [
         "tt3696180",
         "movie",
         "The Forgiven",
         "2021",
         6.1,
         10685
        ],
        [
         "tt3697626",
         "movie",
         "Kkeutkkaji ganda",
         "2014",
         7.2,
         17505
        ],
        [
         "tt3698408",
         "movie",
         "Pek Yakinda",
         "2014",
         7.3,
         36526
        ],
        [
         "tt3702652",
         "movie",
         "The Other Side of the Door",
         "2016",
         5.3,
         20046
        ],
        [
         "tt3702996",
         "movie",
         "Fack ju Göhte 2",
         "2015",
         5.9,
         15373
        ],
        [
         "tt3704050",
         "movie",
         "Remember",
         "2015",
         7.5,
         28815
        ],
        [
         "tt3704428",
         "movie",
         "Elvis",
         "2022",
         7.3,
         249751
        ],
        [
         "tt3704700",
         "movie",
         "Brain on Fire",
         "2016",
         6.6,
         25282
        ],
        [
         "tt3705412",
         "movie",
         "Deathgasm",
         "2015",
         6.3,
         20048
        ],
        [
         "tt3706352",
         "movie",
         "All the Old Knives",
         "2022",
         6.1,
         30346
        ],
        [
         "tt3707104",
         "movie",
         "Mine",
         "2016",
         5.8,
         22262
        ],
        [
         "tt3707106",
         "movie",
         "By the Sea",
         "2015",
         5.3,
         23074
        ],
        [
         "tt3708886",
         "movie",
         "War on Everyone",
         "2016",
         5.8,
         20974
        ],
        [
         "tt3713166",
         "movie",
         "Unfriended",
         "2014",
         5.6,
         84504
        ],
        [
         "tt3714720",
         "movie",
         "The Hollars",
         "2016",
         6.6,
         15065
        ],
        [
         "tt3715320",
         "movie",
         "Irrational Man",
         "2015",
         6.6,
         68796
        ],
        [
         "tt3716530",
         "movie",
         "Elle",
         "2016",
         7.1,
         72823
        ],
        [
         "tt3717252",
         "movie",
         "Underworld: Blood Wars",
         "2016",
         5.8,
         83443
        ],
        [
         "tt3717490",
         "movie",
         "Power Rangers",
         "2017",
         5.9,
         116611
        ],
        [
         "tt3717532",
         "movie",
         "The Last: Naruto the Movie",
         "2014",
         7.6,
         18917
        ],
        [
         "tt3721936",
         "movie",
         "American Honey",
         "2016",
         7.0,
         48259
        ],
        [
         "tt3721954",
         "movie",
         "Maudie",
         "2016",
         7.6,
         24028
        ],
        [
         "tt3721964",
         "movie",
         "Gringo",
         "2018",
         6.1,
         32945
        ],
        [
         "tt3722070",
         "movie",
         "The Lady in the Van",
         "2015",
         6.7,
         33374
        ],
        [
         "tt3722614",
         "movie",
         "Revolt",
         "2017",
         5.3,
         10562
        ],
        [
         "tt3726704",
         "movie",
         "Experimenter",
         "2015",
         6.6,
         20367
        ],
        [
         "tt3729920",
         "movie",
         "The Disappearance of Eleanor Rigby: Them",
         "2014",
         6.3,
         13363
        ],
        [
         "tt3731562",
         "movie",
         "Kong: Skull Island",
         "2017",
         6.7,
         361821
        ],
        [
         "tt3733774",
         "movie",
         "The Trust",
         "2016",
         5.5,
         21436
        ],
        [
         "tt3733778",
         "movie",
         "Pay the Ghost",
         "2015",
         5.2,
         19556
        ],
        [
         "tt3735246",
         "movie",
         "Bajirao Mastani",
         "2015",
         7.3,
         40058
        ],
        [
         "tt3741632",
         "movie",
         "The Leisure Seeker",
         "2017",
         6.7,
         10198
        ],
        [
         "tt3741700",
         "movie",
         "Godzilla: King of the Monsters",
         "2019",
         6.0,
         218777
        ],
        [
         "tt3741834",
         "movie",
         "Lion",
         "2016",
         8.0,
         258725
        ],
        [
         "tt3742284",
         "movie",
         "NH10",
         "2015",
         7.2,
         14465
        ],
        [
         "tt3742378",
         "movie",
         "Que Horas Ela Volta?",
         "2015",
         7.8,
         18200
        ],
        [
         "tt3748172",
         "movie",
         "Gerald's Game",
         "2017",
         6.5,
         135548
        ],
        [
         "tt3748440",
         "movie",
         "Blue Mountain State: The Rise of Thadland",
         "2016",
         5.7,
         17379
        ],
        [
         "tt3748528",
         "movie",
         "Rogue One",
         "2016",
         7.8,
         710883
        ],
        [
         "tt3750872",
         "movie",
         "The Wife",
         "2017",
         7.2,
         44173
        ],
        [
         "tt3754940",
         "movie",
         "Truman",
         "2015",
         7.3,
         14248
        ],
        [
         "tt3756788",
         "movie",
         "Umimachi Diary",
         "2015",
         7.6,
         17785
        ],
        [
         "tt3758172",
         "movie",
         "Jungle",
         "2017",
         6.7,
         66963
        ],
        [
         "tt3758542",
         "movie",
         "Ferrari",
         "2023",
         6.4,
         61865
        ],
        [
         "tt3758814",
         "movie",
         "The Ice Road",
         "2021",
         5.6,
         51995
        ],
        [
         "tt3759416",
         "movie",
         "Astérix : Le domaine des dieux",
         "2014",
         6.9,
         16044
        ],
        [
         "tt3760922",
         "movie",
         "My Big Fat Greek Wedding 2",
         "2016",
         6.0,
         36701
        ],
        [
         "tt3766354",
         "movie",
         "The Equalizer 2",
         "2018",
         6.7,
         213748
        ],
        [
         "tt3766394",
         "movie",
         "Hello, My Name Is Doris",
         "2015",
         6.6,
         22735
        ],
        [
         "tt3767372",
         "movie",
         "Piku",
         "2015",
         7.6,
         35378
        ],
        [
         "tt3771536",
         "movie",
         "Shivaay",
         "2016",
         6.1,
         11561
        ],
        [
         "tt3774114",
         "movie",
         "Snowden",
         "2016",
         7.3,
         167942
        ],
        [
         "tt3774466",
         "movie",
         "Ashby",
         "2015",
         6.4,
         16378
        ],
        [
         "tt3774694",
         "movie",
         "Love",
         "2015",
         6.1,
         70584
        ],
        [
         "tt3775086",
         "movie",
         "Lo chiamavano Jeeg Robot",
         "2015",
         7.0,
         16854
        ],
        [
         "tt3778644",
         "movie",
         "Solo: A Star Wars Story",
         "2018",
         6.9,
         392513
        ],
        [
         "tt3780500",
         "movie",
         "Journey's End",
         "2017",
         6.7,
         11798
        ],
        [
         "tt3783958",
         "movie",
         "La La Land",
         "2016",
         8.0,
         714869
        ],
        [
         "tt3787590",
         "movie",
         "We Are Your Friends",
         "2015",
         6.2,
         41561
        ],
        [
         "tt3792960",
         "movie",
         "Le tout nouveau testament",
         "2015",
         7.1,
         36217
        ],
        [
         "tt3793788",
         "movie",
         "The Escort",
         "2015",
         6.0,
         14608
        ],
        [
         "tt3794354",
         "movie",
         "Sonic the Hedgehog",
         "2020",
         6.5,
         179436
        ],
        [
         "tt3797512",
         "movie",
         "Barb & Star Go to Vista Del Mar",
         "2021",
         6.3,
         21216
        ],
        [
         "tt3797868",
         "movie",
         "The Choice",
         "2016",
         6.5,
         47837
        ],
        [
         "tt3799232",
         "movie",
         "The Kissing Booth",
         "2018",
         5.9,
         98323
        ],
        [
         "tt3799372",
         "movie",
         "6 Years",
         "2015",
         5.5,
         13349
        ],
        [
         "tt3799694",
         "movie",
         "The Nice Guys",
         "2016",
         7.4,
         392620
        ],
        [
         "tt3801314",
         "movie",
         "Kaththi",
         "2014",
         8.1,
         31718
        ],
        [
         "tt3802576",
         "movie",
         "Brothers",
         "2015",
         6.4,
         14290
        ]
       ],
       "datasetInfos": [],
       "dbfsResultPath": null,
       "isJsonSchema": true,
       "metadata": {},
       "overflow": false,
       "plotOptions": {
        "customPlotOptions": {},
        "displayType": "table",
        "pivotAggregation": null,
        "pivotColumns": null,
        "xColumns": null,
        "yColumns": null
       },
       "removedWidgets": [],
       "schema": [
        {
         "metadata": "{}",
         "name": "tconst",
         "type": "\"string\""
        },
        {
         "metadata": "{}",
         "name": "titleType",
         "type": "\"string\""
        },
        {
         "metadata": "{}",
         "name": "originalTitle",
         "type": "\"string\""
        },
        {
         "metadata": "{}",
         "name": "startYear",
         "type": "\"string\""
        },
        {
         "metadata": "{}",
         "name": "averageRating",
         "type": "\"double\""
        },
        {
         "metadata": "{}",
         "name": "numVotes",
         "type": "\"long\""
        }
       ],
       "type": "table"
      }
     },
     "output_type": "display_data"
    }
   ],
   "source": [
    "%sql SELECT TB.tconst, TB.titleType, TB.originalTitle, TB.startYear, TR.averageRating, TR.numVotes FROM silver.title_basics AS TB INNER JOIN silver.title_ratings AS TR ON TB.tconst=TR.tconst limit 100"
   ]
  },
  {
   "cell_type": "markdown",
   "metadata": {
    "application/vnd.databricks.v1+cell": {
     "cellMetadata": {
      "byteLimit": 2048000,
      "rowLimit": 10000
     },
     "inputWidgets": {},
     "nuid": "739a4058-0013-4733-930d-2a185980711c",
     "showTitle": false,
     "tableResultSettingsMap": {},
     "title": ""
    }
   },
   "source": [
    "Criando o banco GOLD."
   ]
  },
  {
   "cell_type": "code",
   "execution_count": 0,
   "metadata": {
    "application/vnd.databricks.v1+cell": {
     "cellMetadata": {
      "byteLimit": 2048000,
      "implicitDf": true,
      "rowLimit": 10000
     },
     "inputWidgets": {},
     "nuid": "f2671fff-1117-4990-ad34-09ab9ce4453e",
     "showTitle": false,
     "tableResultSettingsMap": {},
     "title": ""
    }
   },
   "outputs": [
    {
     "output_type": "display_data",
     "data": {
      "text/html": [
       "<style scoped>\n",
       "  .table-result-container {\n",
       "    max-height: 300px;\n",
       "    overflow: auto;\n",
       "  }\n",
       "  table, th, td {\n",
       "    border: 1px solid black;\n",
       "    border-collapse: collapse;\n",
       "  }\n",
       "  th, td {\n",
       "    padding: 5px;\n",
       "  }\n",
       "  th {\n",
       "    text-align: left;\n",
       "  }\n",
       "</style><div class='table-result-container'><table class='table-result'><thead style='background-color: white'><tr></tr></thead><tbody></tbody></table></div>"
      ]
     },
     "metadata": {
      "application/vnd.databricks.v1+output": {
       "addedWidgets": {},
       "aggData": [],
       "aggError": "",
       "aggOverflow": false,
       "aggSchema": [],
       "aggSeriesLimitReached": false,
       "aggType": "",
       "arguments": {},
       "columnCustomDisplayInfos": {},
       "data": [],
       "datasetInfos": [],
       "dbfsResultPath": null,
       "isJsonSchema": true,
       "metadata": {},
       "overflow": false,
       "plotOptions": {
        "customPlotOptions": {},
        "displayType": "table",
        "pivotAggregation": null,
        "pivotColumns": null,
        "xColumns": null,
        "yColumns": null
       },
       "removedWidgets": [],
       "schema": [],
       "type": "table"
      }
     },
     "output_type": "display_data"
    }
   ],
   "source": [
    "%sql \n",
    "DROP DATABASE gold;"
   ]
  },
  {
   "cell_type": "code",
   "execution_count": 0,
   "metadata": {
    "application/vnd.databricks.v1+cell": {
     "cellMetadata": {
      "byteLimit": 2048000,
      "implicitDf": true,
      "rowLimit": 10000
     },
     "inputWidgets": {},
     "nuid": "4ec3f236-259d-46f5-8c00-2200f9956818",
     "showTitle": false,
     "tableResultSettingsMap": {},
     "title": ""
    }
   },
   "outputs": [
    {
     "output_type": "display_data",
     "data": {
      "text/html": [
       "<style scoped>\n",
       "  .table-result-container {\n",
       "    max-height: 300px;\n",
       "    overflow: auto;\n",
       "  }\n",
       "  table, th, td {\n",
       "    border: 1px solid black;\n",
       "    border-collapse: collapse;\n",
       "  }\n",
       "  th, td {\n",
       "    padding: 5px;\n",
       "  }\n",
       "  th {\n",
       "    text-align: left;\n",
       "  }\n",
       "</style><div class='table-result-container'><table class='table-result'><thead style='background-color: white'><tr></tr></thead><tbody></tbody></table></div>"
      ]
     },
     "metadata": {
      "application/vnd.databricks.v1+output": {
       "addedWidgets": {},
       "aggData": [],
       "aggError": "",
       "aggOverflow": false,
       "aggSchema": [],
       "aggSeriesLimitReached": false,
       "aggType": "",
       "arguments": {},
       "columnCustomDisplayInfos": {},
       "data": [],
       "datasetInfos": [],
       "dbfsResultPath": null,
       "isJsonSchema": true,
       "metadata": {},
       "overflow": false,
       "plotOptions": {
        "customPlotOptions": {},
        "displayType": "table",
        "pivotAggregation": null,
        "pivotColumns": null,
        "xColumns": null,
        "yColumns": null
       },
       "removedWidgets": [],
       "schema": [],
       "type": "table"
      }
     },
     "output_type": "display_data"
    }
   ],
   "source": [
    "%sql \n",
    "CREATE DATABASE gold;"
   ]
  },
  {
   "cell_type": "markdown",
   "metadata": {
    "application/vnd.databricks.v1+cell": {
     "cellMetadata": {
      "byteLimit": 2048000,
      "rowLimit": 10000
     },
     "inputWidgets": {},
     "nuid": "9c7a8312-609a-4185-89fe-d437b625c4ba",
     "showTitle": false,
     "tableResultSettingsMap": {},
     "title": ""
    }
   },
   "source": [
    "Criando a tabela ESTUDO no banco GOLD."
   ]
  },
  {
   "cell_type": "code",
   "execution_count": 0,
   "metadata": {
    "application/vnd.databricks.v1+cell": {
     "cellMetadata": {
      "byteLimit": 2048000,
      "implicitDf": true,
      "rowLimit": 10000
     },
     "inputWidgets": {},
     "nuid": "1f9fad32-1463-4e71-af57-2cfde552c213",
     "showTitle": false,
     "tableResultSettingsMap": {},
     "title": ""
    }
   },
   "outputs": [
    {
     "output_type": "display_data",
     "data": {
      "text/html": [
       "<style scoped>\n",
       "  .table-result-container {\n",
       "    max-height: 300px;\n",
       "    overflow: auto;\n",
       "  }\n",
       "  table, th, td {\n",
       "    border: 1px solid black;\n",
       "    border-collapse: collapse;\n",
       "  }\n",
       "  th, td {\n",
       "    padding: 5px;\n",
       "  }\n",
       "  th {\n",
       "    text-align: left;\n",
       "  }\n",
       "</style><div class='table-result-container'><table class='table-result'><thead style='background-color: white'><tr><th>num_affected_rows</th><th>num_inserted_rows</th></tr></thead><tbody></tbody></table></div>"
      ]
     },
     "metadata": {
      "application/vnd.databricks.v1+output": {
       "addedWidgets": {},
       "aggData": [],
       "aggError": "",
       "aggOverflow": false,
       "aggSchema": [],
       "aggSeriesLimitReached": false,
       "aggType": "",
       "arguments": {},
       "columnCustomDisplayInfos": {},
       "data": [],
       "datasetInfos": [],
       "dbfsResultPath": null,
       "isJsonSchema": true,
       "metadata": {},
       "overflow": false,
       "plotOptions": {
        "customPlotOptions": {},
        "displayType": "table",
        "pivotAggregation": null,
        "pivotColumns": null,
        "xColumns": null,
        "yColumns": null
       },
       "removedWidgets": [],
       "schema": [
        {
         "metadata": "{}",
         "name": "num_affected_rows",
         "type": "\"long\""
        },
        {
         "metadata": "{}",
         "name": "num_inserted_rows",
         "type": "\"long\""
        }
       ],
       "type": "table"
      }
     },
     "output_type": "display_data"
    }
   ],
   "source": [
    "%sql\n",
    "CREATE TABLE gold.estudo AS SELECT TB.tconst, TB.titleType, TB.originalTitle, TB.startYear, TR.averageRating, TR.numVotes FROM silver.title_basics AS TB INNER JOIN silver.title_ratings AS TR ON TB.tconst=TR.tconst"
   ]
  },
  {
   "cell_type": "markdown",
   "metadata": {
    "application/vnd.databricks.v1+cell": {
     "cellMetadata": {
      "byteLimit": 2048000,
      "rowLimit": 10000
     },
     "inputWidgets": {},
     "nuid": "99982b38-e222-4d77-af52-cd75a84ded21",
     "showTitle": false,
     "tableResultSettingsMap": {},
     "title": ""
    }
   },
   "source": [
    "Conferindo a criação da tabela."
   ]
  },
  {
   "cell_type": "code",
   "execution_count": 0,
   "metadata": {
    "application/vnd.databricks.v1+cell": {
     "cellMetadata": {
      "byteLimit": 2048000,
      "implicitDf": true,
      "rowLimit": 10000
     },
     "inputWidgets": {},
     "nuid": "5be03dc2-bf28-4844-8bc5-3f61199ea3ff",
     "showTitle": false,
     "tableResultSettingsMap": {},
     "title": ""
    }
   },
   "outputs": [
    {
     "output_type": "display_data",
     "data": {
      "text/html": [
       "<style scoped>\n",
       "  .table-result-container {\n",
       "    max-height: 300px;\n",
       "    overflow: auto;\n",
       "  }\n",
       "  table, th, td {\n",
       "    border: 1px solid black;\n",
       "    border-collapse: collapse;\n",
       "  }\n",
       "  th, td {\n",
       "    padding: 5px;\n",
       "  }\n",
       "  th {\n",
       "    text-align: left;\n",
       "  }\n",
       "</style><div class='table-result-container'><table class='table-result'><thead style='background-color: white'><tr><th>tconst</th><th>titleType</th><th>originalTitle</th><th>startYear</th><th>averageRating</th><th>numVotes</th></tr></thead><tbody><tr><td>tt0293429</td><td>movie</td><td>Mortal Kombat</td><td>2021</td><td>6.1</td><td>196290</td></tr><tr><td>tt0315642</td><td>movie</td><td>Wazir</td><td>2016</td><td>7.1</td><td>20387</td></tr><tr><td>tt0327785</td><td>movie</td><td>The Killer's Game</td><td>2024</td><td>5.8</td><td>16736</td></tr><tr><td>tt0337692</td><td>movie</td><td>On the Road</td><td>2012</td><td>6.0</td><td>44003</td></tr><tr><td>tt0359950</td><td>movie</td><td>The Secret Life of Walter Mitty</td><td>2013</td><td>7.3</td><td>353836</td></tr><tr><td>tt0360556</td><td>movie</td><td>Fahrenheit 451</td><td>2018</td><td>5.0</td><td>24080</td></tr><tr><td>tt0365545</td><td>movie</td><td>Nappily Ever After</td><td>2018</td><td>6.4</td><td>10099</td></tr><tr><td>tt0365907</td><td>movie</td><td>A Walk Among the Tombstones</td><td>2014</td><td>6.5</td><td>129664</td></tr><tr><td>tt0369610</td><td>movie</td><td>Jurassic World</td><td>2015</td><td>6.9</td><td>699621</td></tr><tr><td>tt0376136</td><td>movie</td><td>The Rum Diary</td><td>2011</td><td>6.1</td><td>109129</td></tr></tbody></table></div>"
      ]
     },
     "metadata": {
      "application/vnd.databricks.v1+output": {
       "addedWidgets": {},
       "aggData": [],
       "aggError": "",
       "aggOverflow": false,
       "aggSchema": [],
       "aggSeriesLimitReached": false,
       "aggType": "",
       "arguments": {},
       "columnCustomDisplayInfos": {},
       "data": [
        [
         "tt0293429",
         "movie",
         "Mortal Kombat",
         "2021",
         6.1,
         196290
        ],
        [
         "tt0315642",
         "movie",
         "Wazir",
         "2016",
         7.1,
         20387
        ],
        [
         "tt0327785",
         "movie",
         "The Killer's Game",
         "2024",
         5.8,
         16736
        ],
        [
         "tt0337692",
         "movie",
         "On the Road",
         "2012",
         6.0,
         44003
        ],
        [
         "tt0359950",
         "movie",
         "The Secret Life of Walter Mitty",
         "2013",
         7.3,
         353836
        ],
        [
         "tt0360556",
         "movie",
         "Fahrenheit 451",
         "2018",
         5.0,
         24080
        ],
        [
         "tt0365545",
         "movie",
         "Nappily Ever After",
         "2018",
         6.4,
         10099
        ],
        [
         "tt0365907",
         "movie",
         "A Walk Among the Tombstones",
         "2014",
         6.5,
         129664
        ],
        [
         "tt0369610",
         "movie",
         "Jurassic World",
         "2015",
         6.9,
         699621
        ],
        [
         "tt0376136",
         "movie",
         "The Rum Diary",
         "2011",
         6.1,
         109129
        ]
       ],
       "datasetInfos": [],
       "dbfsResultPath": null,
       "isJsonSchema": true,
       "metadata": {},
       "overflow": false,
       "plotOptions": {
        "customPlotOptions": {},
        "displayType": "table",
        "pivotAggregation": null,
        "pivotColumns": null,
        "xColumns": null,
        "yColumns": null
       },
       "removedWidgets": [],
       "schema": [
        {
         "metadata": "{}",
         "name": "tconst",
         "type": "\"string\""
        },
        {
         "metadata": "{}",
         "name": "titleType",
         "type": "\"string\""
        },
        {
         "metadata": "{}",
         "name": "originalTitle",
         "type": "\"string\""
        },
        {
         "metadata": "{}",
         "name": "startYear",
         "type": "\"string\""
        },
        {
         "metadata": "{}",
         "name": "averageRating",
         "type": "\"double\""
        },
        {
         "metadata": "{}",
         "name": "numVotes",
         "type": "\"long\""
        }
       ],
       "type": "table"
      }
     },
     "output_type": "display_data"
    }
   ],
   "source": [
    "%sql\n",
    "SELECT * FROM GOLD.ESTUDO LIMIT 10"
   ]
  },
  {
   "cell_type": "markdown",
   "metadata": {
    "application/vnd.databricks.v1+cell": {
     "cellMetadata": {
      "byteLimit": 2048000,
      "rowLimit": 10000
     },
     "inputWidgets": {},
     "nuid": "b64889d2-6d0e-44e5-9642-cee5b27aa2b6",
     "showTitle": false,
     "tableResultSettingsMap": {},
     "title": ""
    }
   },
   "source": [
    "**1) Quais são os 15 filmes, ordenados por ano (mais recente) e avaliação(maior para o menor), com avaliações igual ou maior que 8?**"
   ]
  },
  {
   "cell_type": "code",
   "execution_count": 0,
   "metadata": {
    "application/vnd.databricks.v1+cell": {
     "cellMetadata": {
      "byteLimit": 2048000,
      "implicitDf": true,
      "rowLimit": 10000
     },
     "inputWidgets": {},
     "nuid": "da8bd2e7-588f-47cc-91f0-6e6567fcb738",
     "showTitle": false,
     "tableResultSettingsMap": {},
     "title": ""
    }
   },
   "outputs": [
    {
     "output_type": "display_data",
     "data": {
      "text/html": [
       "<style scoped>\n",
       "  .table-result-container {\n",
       "    max-height: 300px;\n",
       "    overflow: auto;\n",
       "  }\n",
       "  table, th, td {\n",
       "    border: 1px solid black;\n",
       "    border-collapse: collapse;\n",
       "  }\n",
       "  th, td {\n",
       "    padding: 5px;\n",
       "  }\n",
       "  th {\n",
       "    text-align: left;\n",
       "  }\n",
       "</style><div class='table-result-container'><table class='table-result'><thead style='background-color: white'><tr><th>originalTitle</th><th>startYear</th><th>averageRating</th></tr></thead><tbody><tr><td>Oficina do Diabo</td><td>2025</td><td>8.2</td></tr><tr><td>Rekhachithram</td><td>2025</td><td>8.0</td></tr><tr><td>Shingeki no Kyojin: The Last Attack</td><td>2024</td><td>9.2</td></tr><tr><td>Solo Leveling: ReAwakening</td><td>2024</td><td>8.9</td></tr><tr><td>Dune: Part Two</td><td>2024</td><td>8.5</td></tr><tr><td>Maste eshgh</td><td>2024</td><td>8.5</td></tr><tr><td>Maharaja</td><td>2024</td><td>8.4</td></tr><tr><td>Meiyazhagan</td><td>2024</td><td>8.4</td></tr><tr><td>Ainda Estou Aqui</td><td>2024</td><td>8.3</td></tr><tr><td>No Other Land</td><td>2024</td><td>8.3</td></tr><tr><td>Manjummel Boys</td><td>2024</td><td>8.2</td></tr><tr><td>Ibelin</td><td>2024</td><td>8.2</td></tr><tr><td>Amaran</td><td>2024</td><td>8.2</td></tr><tr><td>The Wild Robot</td><td>2024</td><td>8.2</td></tr><tr><td>Kishkindha Kaandam</td><td>2024</td><td>8.0</td></tr></tbody></table></div>"
      ]
     },
     "metadata": {
      "application/vnd.databricks.v1+output": {
       "addedWidgets": {},
       "aggData": [],
       "aggError": "",
       "aggOverflow": false,
       "aggSchema": [],
       "aggSeriesLimitReached": false,
       "aggType": "",
       "arguments": {},
       "columnCustomDisplayInfos": {},
       "data": [
        [
         "Oficina do Diabo",
         "2025",
         8.2
        ],
        [
         "Rekhachithram",
         "2025",
         8.0
        ],
        [
         "Shingeki no Kyojin: The Last Attack",
         "2024",
         9.2
        ],
        [
         "Solo Leveling: ReAwakening",
         "2024",
         8.9
        ],
        [
         "Dune: Part Two",
         "2024",
         8.5
        ],
        [
         "Maste eshgh",
         "2024",
         8.5
        ],
        [
         "Maharaja",
         "2024",
         8.4
        ],
        [
         "Meiyazhagan",
         "2024",
         8.4
        ],
        [
         "Ainda Estou Aqui",
         "2024",
         8.3
        ],
        [
         "No Other Land",
         "2024",
         8.3
        ],
        [
         "Manjummel Boys",
         "2024",
         8.2
        ],
        [
         "Ibelin",
         "2024",
         8.2
        ],
        [
         "Amaran",
         "2024",
         8.2
        ],
        [
         "The Wild Robot",
         "2024",
         8.2
        ],
        [
         "Kishkindha Kaandam",
         "2024",
         8.0
        ]
       ],
       "datasetInfos": [],
       "dbfsResultPath": null,
       "isJsonSchema": true,
       "metadata": {},
       "overflow": false,
       "plotOptions": {
        "customPlotOptions": {},
        "displayType": "table",
        "pivotAggregation": null,
        "pivotColumns": null,
        "xColumns": null,
        "yColumns": null
       },
       "removedWidgets": [],
       "schema": [
        {
         "metadata": "{}",
         "name": "originalTitle",
         "type": "\"string\""
        },
        {
         "metadata": "{}",
         "name": "startYear",
         "type": "\"string\""
        },
        {
         "metadata": "{}",
         "name": "averageRating",
         "type": "\"double\""
        }
       ],
       "type": "table"
      }
     },
     "output_type": "display_data"
    }
   ],
   "source": [
    "%sql\n",
    "SELECT originalTitle, startYear, averageRating FROM GOLD.estudo WHERE averageRating>=8 ORDER BY startYear desc, averageRating desc\n",
    "limit 15"
   ]
  },
  {
   "cell_type": "markdown",
   "metadata": {
    "application/vnd.databricks.v1+cell": {
     "cellMetadata": {
      "byteLimit": 2048000,
      "rowLimit": 10000
     },
     "inputWidgets": {},
     "nuid": "bb49abeb-37eb-4c8b-a735-51b47f9a0ff8",
     "showTitle": false,
     "tableResultSettingsMap": {},
     "title": ""
    }
   },
   "source": [
    "Os filmes são: Oficina do Diabo(2025) - 8.2, Rekhachithram(2025) - 8, Shingeki no Kyojin: The Last Attack(2024) - 9.2, Solo Leveling: ReAwakening(2024) - 8.9, Dune: Part Two(2024) - 8.5, Maste eshgh(2024) - 8.5, Maharaja(2024) - 8.4, Meiyazhagan(2024) - 8.4, Ainda Estou Aqui(2024) - 8.3, No Other Land(2024) - 8.3, Manjummel Boys(2024) - 8.2, Ibelin(2024) - 8.2, Amaran(2024) - 8.2, The Wild Robot(2024) - 8.2 e Kishkindha Kaandam(2024) - 8."
   ]
  },
  {
   "cell_type": "markdown",
   "metadata": {
    "application/vnd.databricks.v1+cell": {
     "cellMetadata": {
      "byteLimit": 2048000,
      "rowLimit": 10000
     },
     "inputWidgets": {},
     "nuid": "027d27b2-48b2-4a0f-ae20-5fdde0bd3972",
     "showTitle": false,
     "tableResultSettingsMap": {},
     "title": ""
    }
   },
   "source": [
    "**2) Quais são os 15 filmes, ordenados por ano (mais recente) e avaliação(menor para o maior), com avaliações igual ou menor que 6?**"
   ]
  },
  {
   "cell_type": "code",
   "execution_count": 0,
   "metadata": {
    "application/vnd.databricks.v1+cell": {
     "cellMetadata": {
      "byteLimit": 2048000,
      "implicitDf": true,
      "rowLimit": 10000
     },
     "inputWidgets": {},
     "nuid": "a4fb227a-fdaa-4a4d-b0a9-02e7ac4ceb90",
     "showTitle": false,
     "tableResultSettingsMap": {},
     "title": ""
    }
   },
   "outputs": [
    {
     "output_type": "display_data",
     "data": {
      "text/html": [
       "<style scoped>\n",
       "  .table-result-container {\n",
       "    max-height: 300px;\n",
       "    overflow: auto;\n",
       "  }\n",
       "  table, th, td {\n",
       "    border: 1px solid black;\n",
       "    border-collapse: collapse;\n",
       "  }\n",
       "  th, td {\n",
       "    padding: 5px;\n",
       "  }\n",
       "  th {\n",
       "    text-align: left;\n",
       "  }\n",
       "</style><div class='table-result-container'><table class='table-result'><thead style='background-color: white'><tr><th>originalTitle</th><th>startYear</th><th>averageRating</th></tr></thead><tbody><tr><td>Flight Risk</td><td>2025</td><td>5.2</td></tr><tr><td>Emergency</td><td>2025</td><td>5.2</td></tr><tr><td>Game Changer</td><td>2025</td><td>5.5</td></tr><tr><td>You're Cordially Invited</td><td>2025</td><td>5.5</td></tr><tr><td>Wolf Man</td><td>2025</td><td>5.6</td></tr><tr><td>Back in Action</td><td>2025</td><td>5.9</td></tr><tr><td>The Electric State</td><td>2025</td><td>5.9</td></tr><tr><td>Captain America: Brave New World</td><td>2025</td><td>5.9</td></tr><tr><td>Yudhra</td><td>2024</td><td>5.0</td></tr><tr><td>Time Cut</td><td>2024</td><td>5.0</td></tr><tr><td>The Deliverance</td><td>2024</td><td>5.1</td></tr><tr><td>Irish Wish</td><td>2024</td><td>5.2</td></tr><tr><td>Miller's Girl</td><td>2024</td><td>5.2</td></tr><tr><td>Joker: Folie à Deux</td><td>2024</td><td>5.2</td></tr><tr><td>AfrAId</td><td>2024</td><td>5.2</td></tr></tbody></table></div>"
      ]
     },
     "metadata": {
      "application/vnd.databricks.v1+output": {
       "addedWidgets": {},
       "aggData": [],
       "aggError": "",
       "aggOverflow": false,
       "aggSchema": [],
       "aggSeriesLimitReached": false,
       "aggType": "",
       "arguments": {},
       "columnCustomDisplayInfos": {},
       "data": [
        [
         "Flight Risk",
         "2025",
         5.2
        ],
        [
         "Emergency",
         "2025",
         5.2
        ],
        [
         "Game Changer",
         "2025",
         5.5
        ],
        [
         "You're Cordially Invited",
         "2025",
         5.5
        ],
        [
         "Wolf Man",
         "2025",
         5.6
        ],
        [
         "Back in Action",
         "2025",
         5.9
        ],
        [
         "The Electric State",
         "2025",
         5.9
        ],
        [
         "Captain America: Brave New World",
         "2025",
         5.9
        ],
        [
         "Yudhra",
         "2024",
         5.0
        ],
        [
         "Time Cut",
         "2024",
         5.0
        ],
        [
         "The Deliverance",
         "2024",
         5.1
        ],
        [
         "Irish Wish",
         "2024",
         5.2
        ],
        [
         "Miller's Girl",
         "2024",
         5.2
        ],
        [
         "Joker: Folie à Deux",
         "2024",
         5.2
        ],
        [
         "AfrAId",
         "2024",
         5.2
        ]
       ],
       "datasetInfos": [],
       "dbfsResultPath": null,
       "isJsonSchema": true,
       "metadata": {},
       "overflow": false,
       "plotOptions": {
        "customPlotOptions": {},
        "displayType": "table",
        "pivotAggregation": null,
        "pivotColumns": null,
        "xColumns": null,
        "yColumns": null
       },
       "removedWidgets": [],
       "schema": [
        {
         "metadata": "{}",
         "name": "originalTitle",
         "type": "\"string\""
        },
        {
         "metadata": "{}",
         "name": "startYear",
         "type": "\"string\""
        },
        {
         "metadata": "{}",
         "name": "averageRating",
         "type": "\"double\""
        }
       ],
       "type": "table"
      }
     },
     "output_type": "display_data"
    }
   ],
   "source": [
    "%sql\n",
    "SELECT originalTitle, startYear, averageRating FROM GOLD.estudo WHERE averageRating<=6 ORDER BY startYear desc , averageRating asc\n",
    "limit 15"
   ]
  },
  {
   "cell_type": "markdown",
   "metadata": {
    "application/vnd.databricks.v1+cell": {
     "cellMetadata": {
      "byteLimit": 2048000,
      "rowLimit": 10000
     },
     "inputWidgets": {},
     "nuid": "b19d8281-eb73-41a0-860c-f3dd0656875e",
     "showTitle": false,
     "tableResultSettingsMap": {},
     "title": ""
    }
   },
   "source": [
    "Os filmes são: Flight Risk(2025) - 5.2, Emergency(2025) - 5.2, Game Changer(2025) - 5.5, You're Cordially Invited(2025) - 5.5, Wolf Man(2025) - 5.6, Back in Action(2025) - 5.9, The Electric State(2025) - 5.9, Captain America: Brave New World(2025) - 5.9, Yudhra(2024) - 5, Time Cut(2024) - 5, The Deliverance(2024) - 5.1, Irish Wish(2024) - 5.2, Miller's Girl(2024) - 5.2, Joker: Folie à Deux(2024) - 5.2 e AfrAId(2024) - 5.2."
   ]
  },
  {
   "cell_type": "markdown",
   "metadata": {
    "application/vnd.databricks.v1+cell": {
     "cellMetadata": {
      "byteLimit": 2048000,
      "rowLimit": 10000
     },
     "inputWidgets": {},
     "nuid": "ae022b7f-b6c7-488c-8053-277270f40f68",
     "showTitle": false,
     "tableResultSettingsMap": {},
     "title": ""
    }
   },
   "source": [
    "**3) Quais são os 10 filmes que menos receberam votos?  Faça um ranking.**"
   ]
  },
  {
   "cell_type": "code",
   "execution_count": 0,
   "metadata": {
    "application/vnd.databricks.v1+cell": {
     "cellMetadata": {
      "byteLimit": 2048000,
      "implicitDf": true,
      "rowLimit": 10000
     },
     "inputWidgets": {},
     "nuid": "7b6a1196-edca-48cf-8e56-bba04dc4e7cf",
     "showTitle": false,
     "tableResultSettingsMap": {},
     "title": ""
    }
   },
   "outputs": [
    {
     "output_type": "display_data",
     "data": {
      "text/html": [
       "<style scoped>\n",
       "  .table-result-container {\n",
       "    max-height: 300px;\n",
       "    overflow: auto;\n",
       "  }\n",
       "  table, th, td {\n",
       "    border: 1px solid black;\n",
       "    border-collapse: collapse;\n",
       "  }\n",
       "  th, td {\n",
       "    padding: 5px;\n",
       "  }\n",
       "  th {\n",
       "    text-align: left;\n",
       "  }\n",
       "</style><div class='table-result-container'><table class='table-result'><thead style='background-color: white'><tr><th>originalTitle</th><th>numVotes</th><th>ranking</th></tr></thead><tbody><tr><td>What Keeps You Alive</td><td>10004</td><td>1</td></tr><tr><td>The Mercy</td><td>10005</td><td>2</td></tr><tr><td>Tang shan da di zhen</td><td>10007</td><td>3</td></tr><tr><td>Killing Ground</td><td>10014</td><td>4</td></tr><tr><td>Anjaam Pathiraa</td><td>10016</td><td>5</td></tr><tr><td>Come and Find Me</td><td>10018</td><td>6</td></tr><tr><td>Dolphin Tale 2</td><td>10021</td><td>7</td></tr><tr><td>Fúsi</td><td>10027</td><td>8</td></tr><tr><td>Sound of Noise</td><td>10032</td><td>9</td></tr><tr><td>Please Don't Destroy: The Treasure of Foggy Mountain</td><td>10034</td><td>10</td></tr></tbody></table></div>"
      ]
     },
     "metadata": {
      "application/vnd.databricks.v1+output": {
       "addedWidgets": {},
       "aggData": [],
       "aggError": "",
       "aggOverflow": false,
       "aggSchema": [],
       "aggSeriesLimitReached": false,
       "aggType": "",
       "arguments": {},
       "columnCustomDisplayInfos": {},
       "data": [
        [
         "What Keeps You Alive",
         10004,
         1
        ],
        [
         "The Mercy",
         10005,
         2
        ],
        [
         "Tang shan da di zhen",
         10007,
         3
        ],
        [
         "Killing Ground",
         10014,
         4
        ],
        [
         "Anjaam Pathiraa",
         10016,
         5
        ],
        [
         "Come and Find Me",
         10018,
         6
        ],
        [
         "Dolphin Tale 2",
         10021,
         7
        ],
        [
         "Fúsi",
         10027,
         8
        ],
        [
         "Sound of Noise",
         10032,
         9
        ],
        [
         "Please Don't Destroy: The Treasure of Foggy Mountain",
         10034,
         10
        ]
       ],
       "datasetInfos": [],
       "dbfsResultPath": null,
       "isJsonSchema": true,
       "metadata": {},
       "overflow": false,
       "plotOptions": {
        "customPlotOptions": {},
        "displayType": "table",
        "pivotAggregation": null,
        "pivotColumns": null,
        "xColumns": null,
        "yColumns": null
       },
       "removedWidgets": [],
       "schema": [
        {
         "metadata": "{}",
         "name": "originalTitle",
         "type": "\"string\""
        },
        {
         "metadata": "{}",
         "name": "numVotes",
         "type": "\"long\""
        },
        {
         "metadata": "{}",
         "name": "ranking",
         "type": "\"integer\""
        }
       ],
       "type": "table"
      }
     },
     "output_type": "display_data"
    }
   ],
   "source": [
    "%sql\n",
    "select originalTitle, numVotes, rank() over (order by numVotes asc) as ranking from gold.estudo order by ranking\n",
    "limit 10\n"
   ]
  },
  {
   "cell_type": "markdown",
   "metadata": {
    "application/vnd.databricks.v1+cell": {
     "cellMetadata": {
      "byteLimit": 2048000,
      "rowLimit": 10000
     },
     "inputWidgets": {},
     "nuid": "483d00a5-a248-4b53-bd1b-09a1965655ff",
     "showTitle": false,
     "tableResultSettingsMap": {},
     "title": ""
    }
   },
   "source": [
    "Os 10 filmes que menos receberam votos ordenados por ranking são: What Keeps You Alive, The Mercy, Tang shan da di zhen, Killing Ground, Anjaam Pathiraa, Come and Find Me, Dolphin Tale 2, Fúsi, Sound of Noise e Please Don't Destroy: The Treasure of Foggy Mountain respectivamente."
   ]
  },
  {
   "cell_type": "markdown",
   "metadata": {
    "application/vnd.databricks.v1+cell": {
     "cellMetadata": {
      "byteLimit": 2048000,
      "rowLimit": 10000
     },
     "inputWidgets": {},
     "nuid": "74cb7653-8500-4361-b813-d4b849f926c8",
     "showTitle": false,
     "tableResultSettingsMap": {},
     "title": ""
    }
   },
   "source": [
    "**4) Quais são os 10 filmes que mais receberam votos?  Faça um ranking.**"
   ]
  },
  {
   "cell_type": "code",
   "execution_count": 0,
   "metadata": {
    "application/vnd.databricks.v1+cell": {
     "cellMetadata": {
      "byteLimit": 2048000,
      "implicitDf": true,
      "rowLimit": 10000
     },
     "inputWidgets": {},
     "nuid": "8847a5af-c643-43be-9a51-8fdd0e484413",
     "showTitle": false,
     "tableResultSettingsMap": {},
     "title": ""
    }
   },
   "outputs": [
    {
     "output_type": "display_data",
     "data": {
      "text/html": [
       "<style scoped>\n",
       "  .table-result-container {\n",
       "    max-height: 300px;\n",
       "    overflow: auto;\n",
       "  }\n",
       "  table, th, td {\n",
       "    border: 1px solid black;\n",
       "    border-collapse: collapse;\n",
       "  }\n",
       "  th, td {\n",
       "    padding: 5px;\n",
       "  }\n",
       "  th {\n",
       "    text-align: left;\n",
       "  }\n",
       "</style><div class='table-result-container'><table class='table-result'><thead style='background-color: white'><tr><th>originalTitle</th><th>numVotes</th><th>ranking</th></tr></thead><tbody><tr><td>Inception</td><td>2670018</td><td>1</td></tr><tr><td>Interstellar</td><td>2325879</td><td>2</td></tr><tr><td>The Dark Knight Rises</td><td>1904688</td><td>3</td></tr><tr><td>Django Unchained</td><td>1780935</td><td>4</td></tr><tr><td>The Wolf of Wall Street</td><td>1674601</td><td>5</td></tr><tr><td>Joker</td><td>1599475</td><td>6</td></tr><tr><td>Shutter Island</td><td>1540387</td><td>7</td></tr><tr><td>The Avengers</td><td>1502647</td><td>8</td></tr><tr><td>Avengers: Endgame</td><td>1346614</td><td>9</td></tr><tr><td>Guardians of the Galaxy</td><td>1312254</td><td>10</td></tr></tbody></table></div>"
      ]
     },
     "metadata": {
      "application/vnd.databricks.v1+output": {
       "addedWidgets": {},
       "aggData": [],
       "aggError": "",
       "aggOverflow": false,
       "aggSchema": [],
       "aggSeriesLimitReached": false,
       "aggType": "",
       "arguments": {},
       "columnCustomDisplayInfos": {},
       "data": [
        [
         "Inception",
         2670018,
         1
        ],
        [
         "Interstellar",
         2325879,
         2
        ],
        [
         "The Dark Knight Rises",
         1904688,
         3
        ],
        [
         "Django Unchained",
         1780935,
         4
        ],
        [
         "The Wolf of Wall Street",
         1674601,
         5
        ],
        [
         "Joker",
         1599475,
         6
        ],
        [
         "Shutter Island",
         1540387,
         7
        ],
        [
         "The Avengers",
         1502647,
         8
        ],
        [
         "Avengers: Endgame",
         1346614,
         9
        ],
        [
         "Guardians of the Galaxy",
         1312254,
         10
        ]
       ],
       "datasetInfos": [],
       "dbfsResultPath": null,
       "isJsonSchema": true,
       "metadata": {},
       "overflow": false,
       "plotOptions": {
        "customPlotOptions": {},
        "displayType": "table",
        "pivotAggregation": null,
        "pivotColumns": null,
        "xColumns": null,
        "yColumns": null
       },
       "removedWidgets": [],
       "schema": [
        {
         "metadata": "{}",
         "name": "originalTitle",
         "type": "\"string\""
        },
        {
         "metadata": "{}",
         "name": "numVotes",
         "type": "\"long\""
        },
        {
         "metadata": "{}",
         "name": "ranking",
         "type": "\"integer\""
        }
       ],
       "type": "table"
      }
     },
     "output_type": "display_data"
    }
   ],
   "source": [
    "%sql\n",
    "select originalTitle, numVotes, rank() over (order by numVotes desc) as ranking from gold.estudo order by ranking\n",
    "limit 10"
   ]
  },
  {
   "cell_type": "markdown",
   "metadata": {
    "application/vnd.databricks.v1+cell": {
     "cellMetadata": {
      "byteLimit": 2048000,
      "rowLimit": 10000
     },
     "inputWidgets": {},
     "nuid": "59aa8e01-6784-4ff2-b7ee-0cfadfa2da27",
     "showTitle": false,
     "tableResultSettingsMap": {},
     "title": ""
    }
   },
   "source": [
    "Os 10 filmes que mais receberam votos ordenados por ranking são: Inception, Interstellar, The Dark Knight Rises, Django Unchained, The Wolf of Wall Street, Joker, Shutter Island, The Avengers Avengers: Endgame e Guardians of the Galaxy respectivamente."
   ]
  },
  {
   "cell_type": "markdown",
   "metadata": {
    "application/vnd.databricks.v1+cell": {
     "cellMetadata": {
      "byteLimit": 2048000,
      "rowLimit": 10000
     },
     "inputWidgets": {},
     "nuid": "ee74964d-a2da-4ebd-9f35-eb0bef314fc4",
     "showTitle": false,
     "tableResultSettingsMap": {},
     "title": ""
    }
   },
   "source": [
    "**5) Quais são os 10 filmes menos avaliados?**"
   ]
  },
  {
   "cell_type": "code",
   "execution_count": 0,
   "metadata": {
    "application/vnd.databricks.v1+cell": {
     "cellMetadata": {
      "byteLimit": 2048000,
      "implicitDf": true,
      "rowLimit": 10000
     },
     "inputWidgets": {},
     "nuid": "622fc459-9a8a-48cb-a95a-93bf66e74315",
     "showTitle": false,
     "tableResultSettingsMap": {},
     "title": ""
    }
   },
   "outputs": [
    {
     "output_type": "display_data",
     "data": {
      "text/html": [
       "<style scoped>\n",
       "  .table-result-container {\n",
       "    max-height: 300px;\n",
       "    overflow: auto;\n",
       "  }\n",
       "  table, th, td {\n",
       "    border: 1px solid black;\n",
       "    border-collapse: collapse;\n",
       "  }\n",
       "  th, td {\n",
       "    padding: 5px;\n",
       "  }\n",
       "  th {\n",
       "    text-align: left;\n",
       "  }\n",
       "</style><div class='table-result-container'><table class='table-result'><thead style='background-color: white'><tr><th>originalTitle</th><th>startYear</th><th>averageRating</th></tr></thead><tbody><tr><td>47 Meters Down: Uncaged</td><td>2019</td><td>5.0</td></tr><tr><td>The Romantics</td><td>2010</td><td>5.0</td></tr><tr><td>2000 Mules</td><td>2022</td><td>5.0</td></tr><tr><td>Yudhra</td><td>2024</td><td>5.0</td></tr><tr><td>Charlie's Angels</td><td>2019</td><td>5.0</td></tr><tr><td>Time Cut</td><td>2024</td><td>5.0</td></tr><tr><td>I Don't Know How She Does It</td><td>2011</td><td>5.0</td></tr><tr><td>Blair Witch</td><td>2016</td><td>5.0</td></tr><tr><td>Fahrenheit 451</td><td>2018</td><td>5.0</td></tr><tr><td>Elephant White</td><td>2011</td><td>5.0</td></tr></tbody></table></div>"
      ]
     },
     "metadata": {
      "application/vnd.databricks.v1+output": {
       "addedWidgets": {},
       "aggData": [],
       "aggError": "",
       "aggOverflow": false,
       "aggSchema": [],
       "aggSeriesLimitReached": false,
       "aggType": "",
       "arguments": {},
       "columnCustomDisplayInfos": {},
       "data": [
        [
         "47 Meters Down: Uncaged",
         "2019",
         5.0
        ],
        [
         "The Romantics",
         "2010",
         5.0
        ],
        [
         "2000 Mules",
         "2022",
         5.0
        ],
        [
         "Yudhra",
         "2024",
         5.0
        ],
        [
         "Charlie's Angels",
         "2019",
         5.0
        ],
        [
         "Time Cut",
         "2024",
         5.0
        ],
        [
         "I Don't Know How She Does It",
         "2011",
         5.0
        ],
        [
         "Blair Witch",
         "2016",
         5.0
        ],
        [
         "Fahrenheit 451",
         "2018",
         5.0
        ],
        [
         "Elephant White",
         "2011",
         5.0
        ]
       ],
       "datasetInfos": [],
       "dbfsResultPath": null,
       "isJsonSchema": true,
       "metadata": {},
       "overflow": false,
       "plotOptions": {
        "customPlotOptions": {},
        "displayType": "table",
        "pivotAggregation": null,
        "pivotColumns": null,
        "xColumns": null,
        "yColumns": null
       },
       "removedWidgets": [],
       "schema": [
        {
         "metadata": "{}",
         "name": "originalTitle",
         "type": "\"string\""
        },
        {
         "metadata": "{}",
         "name": "startYear",
         "type": "\"string\""
        },
        {
         "metadata": "{}",
         "name": "averageRating",
         "type": "\"double\""
        }
       ],
       "type": "table"
      }
     },
     "output_type": "display_data"
    }
   ],
   "source": [
    "%sql\n",
    "select originalTitle, startYear, averageRating from gold.estudo order by averageRating\n",
    "limit 10"
   ]
  },
  {
   "cell_type": "markdown",
   "metadata": {
    "application/vnd.databricks.v1+cell": {
     "cellMetadata": {
      "byteLimit": 2048000,
      "rowLimit": 10000
     },
     "inputWidgets": {},
     "nuid": "d754e9a8-e284-41fa-ae34-c40c3582affc",
     "showTitle": false,
     "tableResultSettingsMap": {},
     "title": ""
    }
   },
   "source": [
    "Os 10 filmes menos avaliados são: 47 Meters Down: Uncaged, The Romantics, 2000 Mules, Yudhra, Charlie's Angels, Time Cut, I Don't Know How She Does It, Blair Witch, Fahrenheit 451 e Elephant White respectivamente."
   ]
  },
  {
   "cell_type": "markdown",
   "metadata": {
    "application/vnd.databricks.v1+cell": {
     "cellMetadata": {
      "byteLimit": 2048000,
      "rowLimit": 10000
     },
     "inputWidgets": {},
     "nuid": "9c6a2590-2683-4c87-b1f2-5aac408255d9",
     "showTitle": false,
     "tableResultSettingsMap": {},
     "title": ""
    }
   },
   "source": [
    "**6) Quais são os 10 filmes mais bem avaliados?**"
   ]
  },
  {
   "cell_type": "code",
   "execution_count": 0,
   "metadata": {
    "application/vnd.databricks.v1+cell": {
     "cellMetadata": {
      "byteLimit": 2048000,
      "implicitDf": true,
      "rowLimit": 10000
     },
     "inputWidgets": {},
     "nuid": "2712f19c-0d46-4902-884f-c5f1ad5fe8dd",
     "showTitle": false,
     "tableResultSettingsMap": {},
     "title": ""
    }
   },
   "outputs": [
    {
     "output_type": "display_data",
     "data": {
      "text/html": [
       "<style scoped>\n",
       "  .table-result-container {\n",
       "    max-height: 300px;\n",
       "    overflow: auto;\n",
       "  }\n",
       "  table, th, td {\n",
       "    border: 1px solid black;\n",
       "    border-collapse: collapse;\n",
       "  }\n",
       "  th, td {\n",
       "    padding: 5px;\n",
       "  }\n",
       "  th {\n",
       "    text-align: left;\n",
       "  }\n",
       "</style><div class='table-result-container'><table class='table-result'><thead style='background-color: white'><tr><th>originalTitle</th><th>startYear</th><th>averageRating</th></tr></thead><tbody><tr><td>Shingeki no Kyojin: The Last Attack</td><td>2024</td><td>9.2</td></tr><tr><td>The Silence of Swastika</td><td>2021</td><td>9.0</td></tr><tr><td>O.J.: Made in America</td><td>2016</td><td>8.9</td></tr><tr><td>Solo Leveling: ReAwakening</td><td>2024</td><td>8.9</td></tr><tr><td>Aynabaji</td><td>2016</td><td>8.9</td></tr><tr><td>12th Fail</td><td>2023</td><td>8.8</td></tr><tr><td>Inception</td><td>2010</td><td>8.8</td></tr><tr><td>#Home</td><td>2021</td><td>8.8</td></tr><tr><td>The Phantom of the Opera at the Royal Albert Hall</td><td>2011</td><td>8.8</td></tr><tr><td>Kimetsu no Yaiba: Natagumo Yama-hen</td><td>2020</td><td>8.7</td></tr></tbody></table></div>"
      ]
     },
     "metadata": {
      "application/vnd.databricks.v1+output": {
       "addedWidgets": {},
       "aggData": [],
       "aggError": "",
       "aggOverflow": false,
       "aggSchema": [],
       "aggSeriesLimitReached": false,
       "aggType": "",
       "arguments": {},
       "columnCustomDisplayInfos": {},
       "data": [
        [
         "Shingeki no Kyojin: The Last Attack",
         "2024",
         9.2
        ],
        [
         "The Silence of Swastika",
         "2021",
         9.0
        ],
        [
         "O.J.: Made in America",
         "2016",
         8.9
        ],
        [
         "Solo Leveling: ReAwakening",
         "2024",
         8.9
        ],
        [
         "Aynabaji",
         "2016",
         8.9
        ],
        [
         "12th Fail",
         "2023",
         8.8
        ],
        [
         "Inception",
         "2010",
         8.8
        ],
        [
         "#Home",
         "2021",
         8.8
        ],
        [
         "The Phantom of the Opera at the Royal Albert Hall",
         "2011",
         8.8
        ],
        [
         "Kimetsu no Yaiba: Natagumo Yama-hen",
         "2020",
         8.7
        ]
       ],
       "datasetInfos": [],
       "dbfsResultPath": null,
       "isJsonSchema": true,
       "metadata": {},
       "overflow": false,
       "plotOptions": {
        "customPlotOptions": {},
        "displayType": "table",
        "pivotAggregation": null,
        "pivotColumns": null,
        "xColumns": null,
        "yColumns": null
       },
       "removedWidgets": [],
       "schema": [
        {
         "metadata": "{}",
         "name": "originalTitle",
         "type": "\"string\""
        },
        {
         "metadata": "{}",
         "name": "startYear",
         "type": "\"string\""
        },
        {
         "metadata": "{}",
         "name": "averageRating",
         "type": "\"double\""
        }
       ],
       "type": "table"
      }
     },
     "output_type": "display_data"
    }
   ],
   "source": [
    "%sql\n",
    "select originalTitle, startYear, averageRating from gold.estudo order by averageRating desc\n",
    "limit 10"
   ]
  },
  {
   "cell_type": "markdown",
   "metadata": {
    "application/vnd.databricks.v1+cell": {
     "cellMetadata": {
      "byteLimit": 2048000,
      "rowLimit": 10000
     },
     "inputWidgets": {},
     "nuid": "374909d9-053e-4f97-86b7-1164ef15a939",
     "showTitle": false,
     "tableResultSettingsMap": {},
     "title": ""
    }
   },
   "source": [
    "Os 10 filmes mais bem avaliados são:\n",
    "Shingeki no Kyojin: The Last Attack, The Silence of Swastika, O.J.: Made in America, Solo Leveling: ReAwakening, Aynabaji, 12th Fail, Inception, #Home, The Phantom of the Opera at the Royal Albert Hall e Kimetsu no Yaiba: Natagumo Yama-hen respectivamente."
   ]
  },
  {
   "cell_type": "markdown",
   "metadata": {
    "application/vnd.databricks.v1+cell": {
     "cellMetadata": {
      "byteLimit": 2048000,
      "rowLimit": 10000
     },
     "inputWidgets": {},
     "nuid": "6fd4e9d4-efbb-4dec-b4b0-ad4a7a71c392",
     "showTitle": false,
     "tableResultSettingsMap": {},
     "title": ""
    }
   },
   "source": [
    "**7) Quantos filmes foram produzidos por ano?**"
   ]
  },
  {
   "cell_type": "code",
   "execution_count": 0,
   "metadata": {
    "application/vnd.databricks.v1+cell": {
     "cellMetadata": {
      "byteLimit": 2048000,
      "implicitDf": true,
      "rowLimit": 10000
     },
     "inputWidgets": {},
     "nuid": "596e3401-81ef-4821-8259-49eca38f8dfa",
     "showTitle": false,
     "tableResultSettingsMap": {},
     "title": ""
    }
   },
   "outputs": [
    {
     "output_type": "display_data",
     "data": {
      "text/html": [
       "<style scoped>\n",
       "  .table-result-container {\n",
       "    max-height: 300px;\n",
       "    overflow: auto;\n",
       "  }\n",
       "  table, th, td {\n",
       "    border: 1px solid black;\n",
       "    border-collapse: collapse;\n",
       "  }\n",
       "  th, td {\n",
       "    padding: 5px;\n",
       "  }\n",
       "  th {\n",
       "    text-align: left;\n",
       "  }\n",
       "</style><div class='table-result-container'><table class='table-result'><thead style='background-color: white'><tr><th>startYear</th><th>qtd_filmes</th></tr></thead><tbody><tr><td>2025</td><td>32</td></tr><tr><td>2024</td><td>243</td></tr><tr><td>2023</td><td>322</td></tr><tr><td>2022</td><td>338</td></tr><tr><td>2021</td><td>302</td></tr><tr><td>2020</td><td>259</td></tr><tr><td>2019</td><td>351</td></tr><tr><td>2018</td><td>380</td></tr><tr><td>2017</td><td>350</td></tr><tr><td>2016</td><td>363</td></tr><tr><td>2015</td><td>345</td></tr><tr><td>2014</td><td>371</td></tr><tr><td>2013</td><td>354</td></tr><tr><td>2012</td><td>316</td></tr><tr><td>2011</td><td>325</td></tr><tr><td>2010</td><td>297</td></tr></tbody></table></div>"
      ]
     },
     "metadata": {
      "application/vnd.databricks.v1+output": {
       "addedWidgets": {},
       "aggData": [],
       "aggError": "",
       "aggOverflow": false,
       "aggSchema": [],
       "aggSeriesLimitReached": false,
       "aggType": "",
       "arguments": {},
       "columnCustomDisplayInfos": {},
       "data": [
        [
         "2025",
         32
        ],
        [
         "2024",
         243
        ],
        [
         "2023",
         322
        ],
        [
         "2022",
         338
        ],
        [
         "2021",
         302
        ],
        [
         "2020",
         259
        ],
        [
         "2019",
         351
        ],
        [
         "2018",
         380
        ],
        [
         "2017",
         350
        ],
        [
         "2016",
         363
        ],
        [
         "2015",
         345
        ],
        [
         "2014",
         371
        ],
        [
         "2013",
         354
        ],
        [
         "2012",
         316
        ],
        [
         "2011",
         325
        ],
        [
         "2010",
         297
        ]
       ],
       "datasetInfos": [],
       "dbfsResultPath": null,
       "isJsonSchema": true,
       "metadata": {},
       "overflow": false,
       "plotOptions": {
        "customPlotOptions": {},
        "displayType": "table",
        "pivotAggregation": null,
        "pivotColumns": null,
        "xColumns": null,
        "yColumns": null
       },
       "removedWidgets": [],
       "schema": [
        {
         "metadata": "{}",
         "name": "startYear",
         "type": "\"string\""
        },
        {
         "metadata": "{}",
         "name": "qtd_filmes",
         "type": "\"long\""
        }
       ],
       "type": "table"
      }
     },
     "output_type": "display_data"
    }
   ],
   "source": [
    "%sql\n",
    "select startYear, count(*) as qtd_filmes from gold.estudo group by startYear order by startYear desc"
   ]
  },
  {
   "cell_type": "markdown",
   "metadata": {
    "application/vnd.databricks.v1+cell": {
     "cellMetadata": {
      "byteLimit": 2048000,
      "rowLimit": 10000
     },
     "inputWidgets": {},
     "nuid": "63d23576-44ad-481d-b77b-08f8eb4b6efd",
     "showTitle": false,
     "tableResultSettingsMap": {},
     "title": ""
    }
   },
   "source": [
    "Foram produzidos em 2025, 32 filmes;\n",
    "Foram produzidos em 2024, 243 filmes;\n",
    "Foram produzidos em 2023, 322 filmes;\n",
    "Foram produzidos em 2022, 338 filmes;\n",
    "Foram produzidos em 2021, 302 filmes;\n",
    "Foram produzidos em 2020, 259 filmes;\n",
    "Foram produzidos em 2019, 351 filmes;\n",
    "Foram produzidos em 2018, 380 filmes;\n",
    "Foram produzidos em 2017, 350 filmes;\n",
    "Foram produzidos em 2016, 363 filmes;\n",
    "Foram produzidos em 2015, 345 filmes;\n",
    "Foram produzidos em 2014, 371 filmes;\n",
    "Foram produzidos em 2013, 354 filmes;\n",
    "Foram produzidos em 2012, 316 filmes;\n",
    "Foram produzidos em 2011, 325 filmes;\n",
    "Foram produzidos em 2010, 297 filmes;"
   ]
  },
  {
   "cell_type": "markdown",
   "metadata": {
    "application/vnd.databricks.v1+cell": {
     "cellMetadata": {
      "byteLimit": 2048000,
      "rowLimit": 10000
     },
     "inputWidgets": {},
     "nuid": "34cb50a7-ea99-4db0-b9f3-eccb400df32c",
     "showTitle": false,
     "tableResultSettingsMap": {},
     "title": ""
    }
   },
   "source": [
    "**8) Quais são os 5 anos que produziram mais filmes?**"
   ]
  },
  {
   "cell_type": "code",
   "execution_count": 0,
   "metadata": {
    "application/vnd.databricks.v1+cell": {
     "cellMetadata": {
      "byteLimit": 2048000,
      "implicitDf": true,
      "rowLimit": 10000
     },
     "inputWidgets": {},
     "nuid": "d580066f-4c5c-45c7-9ce9-6a5282aa50f8",
     "showTitle": false,
     "tableResultSettingsMap": {},
     "title": ""
    }
   },
   "outputs": [
    {
     "output_type": "display_data",
     "data": {
      "text/html": [
       "<style scoped>\n",
       "  .table-result-container {\n",
       "    max-height: 300px;\n",
       "    overflow: auto;\n",
       "  }\n",
       "  table, th, td {\n",
       "    border: 1px solid black;\n",
       "    border-collapse: collapse;\n",
       "  }\n",
       "  th, td {\n",
       "    padding: 5px;\n",
       "  }\n",
       "  th {\n",
       "    text-align: left;\n",
       "  }\n",
       "</style><div class='table-result-container'><table class='table-result'><thead style='background-color: white'><tr><th>startYear</th><th>qtd_filmes</th></tr></thead><tbody><tr><td>2018</td><td>380</td></tr><tr><td>2014</td><td>371</td></tr><tr><td>2016</td><td>363</td></tr><tr><td>2013</td><td>354</td></tr><tr><td>2019</td><td>351</td></tr></tbody></table></div>"
      ]
     },
     "metadata": {
      "application/vnd.databricks.v1+output": {
       "addedWidgets": {},
       "aggData": [],
       "aggError": "",
       "aggOverflow": false,
       "aggSchema": [],
       "aggSeriesLimitReached": false,
       "aggType": "",
       "arguments": {},
       "columnCustomDisplayInfos": {},
       "data": [
        [
         "2018",
         380
        ],
        [
         "2014",
         371
        ],
        [
         "2016",
         363
        ],
        [
         "2013",
         354
        ],
        [
         "2019",
         351
        ]
       ],
       "datasetInfos": [],
       "dbfsResultPath": null,
       "isJsonSchema": true,
       "metadata": {},
       "overflow": false,
       "plotOptions": {
        "customPlotOptions": {},
        "displayType": "table",
        "pivotAggregation": null,
        "pivotColumns": null,
        "xColumns": null,
        "yColumns": null
       },
       "removedWidgets": [],
       "schema": [
        {
         "metadata": "{}",
         "name": "startYear",
         "type": "\"string\""
        },
        {
         "metadata": "{}",
         "name": "qtd_filmes",
         "type": "\"long\""
        }
       ],
       "type": "table"
      }
     },
     "output_type": "display_data"
    }
   ],
   "source": [
    "%sql\n",
    "select startYear, count(*) as qtd_filmes from gold.estudo group by startYear order by qtd_filmes desc\n",
    "limit 5"
   ]
  },
  {
   "cell_type": "markdown",
   "metadata": {
    "application/vnd.databricks.v1+cell": {
     "cellMetadata": {
      "byteLimit": 2048000,
      "rowLimit": 10000
     },
     "inputWidgets": {},
     "nuid": "b5ff5a38-6e70-4c12-98a6-ac02ca02c29d",
     "showTitle": false,
     "tableResultSettingsMap": {},
     "title": ""
    }
   },
   "source": [
    "Os anos que mais produziram filmes foram 2018, 2014, 2016, 2013 e 2019 respectivamente."
   ]
  },
  {
   "cell_type": "markdown",
   "metadata": {
    "application/vnd.databricks.v1+cell": {
     "cellMetadata": {
      "byteLimit": 2048000,
      "rowLimit": 10000
     },
     "inputWidgets": {},
     "nuid": "f638dd32-1f13-496e-8928-132cbdd5897f",
     "showTitle": false,
     "tableResultSettingsMap": {},
     "title": ""
    }
   },
   "source": [
    "**9) Quantos votos foram computados por ano?**"
   ]
  },
  {
   "cell_type": "code",
   "execution_count": 0,
   "metadata": {
    "application/vnd.databricks.v1+cell": {
     "cellMetadata": {
      "byteLimit": 2048000,
      "implicitDf": true,
      "rowLimit": 10000
     },
     "inputWidgets": {},
     "nuid": "51e6c899-e9c2-499c-8708-d46d1ea247e0",
     "showTitle": false,
     "tableResultSettingsMap": {},
     "title": ""
    }
   },
   "outputs": [
    {
     "output_type": "display_data",
     "data": {
      "text/html": [
       "<style scoped>\n",
       "  .table-result-container {\n",
       "    max-height: 300px;\n",
       "    overflow: auto;\n",
       "  }\n",
       "  table, th, td {\n",
       "    border: 1px solid black;\n",
       "    border-collapse: collapse;\n",
       "  }\n",
       "  th, td {\n",
       "    padding: 5px;\n",
       "  }\n",
       "  th {\n",
       "    text-align: left;\n",
       "  }\n",
       "</style><div class='table-result-container'><table class='table-result'><thead style='background-color: white'><tr><th>startYear</th><th>sum(numVotes)</th></tr></thead><tbody><tr><td>2025</td><td>961854</td></tr><tr><td>2024</td><td>13140638</td></tr><tr><td>2023</td><td>19756644</td></tr><tr><td>2022</td><td>23453898</td></tr><tr><td>2021</td><td>21838323</td></tr><tr><td>2020</td><td>13504278</td></tr><tr><td>2019</td><td>31417078</td></tr><tr><td>2018</td><td>29182593</td></tr><tr><td>2017</td><td>31846333</td></tr><tr><td>2016</td><td>35561997</td></tr><tr><td>2015</td><td>31841547</td></tr><tr><td>2014</td><td>42709464</td></tr><tr><td>2013</td><td>42025109</td></tr><tr><td>2012</td><td>37903271</td></tr><tr><td>2011</td><td>37514890</td></tr><tr><td>2010</td><td>35637814</td></tr></tbody></table></div>"
      ]
     },
     "metadata": {
      "application/vnd.databricks.v1+output": {
       "addedWidgets": {},
       "aggData": [],
       "aggError": "",
       "aggOverflow": false,
       "aggSchema": [],
       "aggSeriesLimitReached": false,
       "aggType": "",
       "arguments": {},
       "columnCustomDisplayInfos": {},
       "data": [
        [
         "2025",
         961854
        ],
        [
         "2024",
         13140638
        ],
        [
         "2023",
         19756644
        ],
        [
         "2022",
         23453898
        ],
        [
         "2021",
         21838323
        ],
        [
         "2020",
         13504278
        ],
        [
         "2019",
         31417078
        ],
        [
         "2018",
         29182593
        ],
        [
         "2017",
         31846333
        ],
        [
         "2016",
         35561997
        ],
        [
         "2015",
         31841547
        ],
        [
         "2014",
         42709464
        ],
        [
         "2013",
         42025109
        ],
        [
         "2012",
         37903271
        ],
        [
         "2011",
         37514890
        ],
        [
         "2010",
         35637814
        ]
       ],
       "datasetInfos": [],
       "dbfsResultPath": null,
       "isJsonSchema": true,
       "metadata": {},
       "overflow": false,
       "plotOptions": {
        "customPlotOptions": {},
        "displayType": "table",
        "pivotAggregation": null,
        "pivotColumns": null,
        "xColumns": null,
        "yColumns": null
       },
       "removedWidgets": [],
       "schema": [
        {
         "metadata": "{}",
         "name": "startYear",
         "type": "\"string\""
        },
        {
         "metadata": "{\"__autoGeneratedAlias\":\"true\"}",
         "name": "sum(numVotes)",
         "type": "\"long\""
        }
       ],
       "type": "table"
      }
     },
     "output_type": "display_data"
    }
   ],
   "source": [
    "%sql\n",
    "select startYear, sum(numVotes) from gold.estudo group by startYear order by startYear desc"
   ]
  },
  {
   "cell_type": "markdown",
   "metadata": {
    "application/vnd.databricks.v1+cell": {
     "cellMetadata": {
      "byteLimit": 2048000,
      "rowLimit": 10000
     },
     "inputWidgets": {},
     "nuid": "4675acbd-da3e-46b0-ba51-f224637fe6a0",
     "showTitle": false,
     "tableResultSettingsMap": {},
     "title": ""
    }
   },
   "source": [
    "2025 teve 961854 votos;\n",
    "2024 teve 13140638 votos;\n",
    "2023 teve 19756644 votos;\n",
    "2022 teve 23453898 votos;\n",
    "2021 teve 21838323 votos;\n",
    "2020 teve 13504278 votos;\n",
    "2019 teve 31417078 votos;\n",
    "2018 teve 29182593 votos;\n",
    "2017 teve 31846333 votos;\n",
    "2016 teve 35561997 votos;\n",
    "2015 teve 31841547 votos;\n",
    "2014 teve 42709464 votos;\n",
    "2013 teve 42025108 votos;\n",
    "2012 teve 37903271 votos;\n",
    "2011 teve 37514890 votos;\n",
    "2010 teve 35637814 votos;"
   ]
  },
  {
   "cell_type": "markdown",
   "metadata": {
    "application/vnd.databricks.v1+cell": {
     "cellMetadata": {
      "byteLimit": 2048000,
      "rowLimit": 10000
     },
     "inputWidgets": {},
     "nuid": "ed8970cc-1c5d-45a8-9387-01e4af972a09",
     "showTitle": false,
     "tableResultSettingsMap": {},
     "title": ""
    }
   },
   "source": [
    "**10) Qual ano teve mais votos?**"
   ]
  },
  {
   "cell_type": "code",
   "execution_count": 0,
   "metadata": {
    "application/vnd.databricks.v1+cell": {
     "cellMetadata": {
      "byteLimit": 2048000,
      "implicitDf": true,
      "rowLimit": 10000
     },
     "inputWidgets": {},
     "nuid": "a53e13c1-668f-4bca-8dfc-409194eaf518",
     "showTitle": false,
     "tableResultSettingsMap": {},
     "title": ""
    }
   },
   "outputs": [
    {
     "output_type": "display_data",
     "data": {
      "text/html": [
       "<style scoped>\n",
       "  .table-result-container {\n",
       "    max-height: 300px;\n",
       "    overflow: auto;\n",
       "  }\n",
       "  table, th, td {\n",
       "    border: 1px solid black;\n",
       "    border-collapse: collapse;\n",
       "  }\n",
       "  th, td {\n",
       "    padding: 5px;\n",
       "  }\n",
       "  th {\n",
       "    text-align: left;\n",
       "  }\n",
       "</style><div class='table-result-container'><table class='table-result'><thead style='background-color: white'><tr><th>startYear</th><th>Total</th></tr></thead><tbody><tr><td>2014</td><td>42709464</td></tr></tbody></table></div>"
      ]
     },
     "metadata": {
      "application/vnd.databricks.v1+output": {
       "addedWidgets": {},
       "aggData": [],
       "aggError": "",
       "aggOverflow": false,
       "aggSchema": [],
       "aggSeriesLimitReached": false,
       "aggType": "",
       "arguments": {},
       "columnCustomDisplayInfos": {},
       "data": [
        [
         "2014",
         42709464
        ]
       ],
       "datasetInfos": [],
       "dbfsResultPath": null,
       "isJsonSchema": true,
       "metadata": {},
       "overflow": false,
       "plotOptions": {
        "customPlotOptions": {},
        "displayType": "table",
        "pivotAggregation": null,
        "pivotColumns": null,
        "xColumns": null,
        "yColumns": null
       },
       "removedWidgets": [],
       "schema": [
        {
         "metadata": "{}",
         "name": "startYear",
         "type": "\"string\""
        },
        {
         "metadata": "{}",
         "name": "Total",
         "type": "\"long\""
        }
       ],
       "type": "table"
      }
     },
     "output_type": "display_data"
    }
   ],
   "source": [
    "%sql\n",
    "select startYear, sum(numVotes) as Total from gold.estudo group by startYear order by Total desc\n",
    "limit 1"
   ]
  },
  {
   "cell_type": "markdown",
   "metadata": {
    "application/vnd.databricks.v1+cell": {
     "cellMetadata": {
      "byteLimit": 2048000,
      "rowLimit": 10000
     },
     "inputWidgets": {},
     "nuid": "b2f3fa86-cc02-4baf-a006-3db954b60fed",
     "showTitle": false,
     "tableResultSettingsMap": {},
     "title": ""
    }
   },
   "source": [
    "O ano de 2014, foi o ano que teve mais votos."
   ]
  },
  {
   "cell_type": "markdown",
   "metadata": {
    "application/vnd.databricks.v1+cell": {
     "cellMetadata": {
      "byteLimit": 2048000,
      "rowLimit": 10000
     },
     "inputWidgets": {},
     "nuid": "5785c5f0-f25f-4a4e-9a01-d5be88d9998a",
     "showTitle": false,
     "tableResultSettingsMap": {},
     "title": ""
    }
   },
   "source": [
    "**11) Qual ano teve menos votos?**"
   ]
  },
  {
   "cell_type": "code",
   "execution_count": 0,
   "metadata": {
    "application/vnd.databricks.v1+cell": {
     "cellMetadata": {
      "byteLimit": 2048000,
      "implicitDf": true,
      "rowLimit": 10000
     },
     "inputWidgets": {},
     "nuid": "ed6e68e9-ac5d-4b6c-ae2a-81b54e0a3169",
     "showTitle": false,
     "tableResultSettingsMap": {},
     "title": ""
    }
   },
   "outputs": [
    {
     "output_type": "display_data",
     "data": {
      "text/html": [
       "<style scoped>\n",
       "  .table-result-container {\n",
       "    max-height: 300px;\n",
       "    overflow: auto;\n",
       "  }\n",
       "  table, th, td {\n",
       "    border: 1px solid black;\n",
       "    border-collapse: collapse;\n",
       "  }\n",
       "  th, td {\n",
       "    padding: 5px;\n",
       "  }\n",
       "  th {\n",
       "    text-align: left;\n",
       "  }\n",
       "</style><div class='table-result-container'><table class='table-result'><thead style='background-color: white'><tr><th>startYear</th><th>Total</th></tr></thead><tbody><tr><td>2025</td><td>961854</td></tr></tbody></table></div>"
      ]
     },
     "metadata": {
      "application/vnd.databricks.v1+output": {
       "addedWidgets": {},
       "aggData": [],
       "aggError": "",
       "aggOverflow": false,
       "aggSchema": [],
       "aggSeriesLimitReached": false,
       "aggType": "",
       "arguments": {},
       "columnCustomDisplayInfos": {},
       "data": [
        [
         "2025",
         961854
        ]
       ],
       "datasetInfos": [],
       "dbfsResultPath": null,
       "isJsonSchema": true,
       "metadata": {},
       "overflow": false,
       "plotOptions": {
        "customPlotOptions": {},
        "displayType": "table",
        "pivotAggregation": null,
        "pivotColumns": null,
        "xColumns": null,
        "yColumns": null
       },
       "removedWidgets": [],
       "schema": [
        {
         "metadata": "{}",
         "name": "startYear",
         "type": "\"string\""
        },
        {
         "metadata": "{}",
         "name": "Total",
         "type": "\"long\""
        }
       ],
       "type": "table"
      }
     },
     "output_type": "display_data"
    }
   ],
   "source": [
    "%sql\n",
    "select startYear, sum(numVotes) as Total from gold.estudo group by startYear order by Total asc\n",
    "limit 1"
   ]
  },
  {
   "cell_type": "markdown",
   "metadata": {
    "application/vnd.databricks.v1+cell": {
     "cellMetadata": {
      "byteLimit": 2048000,
      "rowLimit": 10000
     },
     "inputWidgets": {},
     "nuid": "71ce41e6-dc25-4c69-86e9-fc60819aa73d",
     "showTitle": false,
     "tableResultSettingsMap": {},
     "title": ""
    }
   },
   "source": [
    "O ano de 2025, foi o ano que teve menos votos."
   ]
  },
  {
   "cell_type": "markdown",
   "metadata": {
    "application/vnd.databricks.v1+cell": {
     "cellMetadata": {
      "byteLimit": 2048000,
      "rowLimit": 10000
     },
     "inputWidgets": {},
     "nuid": "ee15e4be-b829-40a0-9366-44882c74796d",
     "showTitle": false,
     "tableResultSettingsMap": {},
     "title": ""
    }
   },
   "source": [
    "**12) Qual a média dos votos nos últimos 5 anos?**"
   ]
  },
  {
   "cell_type": "code",
   "execution_count": 0,
   "metadata": {
    "application/vnd.databricks.v1+cell": {
     "cellMetadata": {
      "byteLimit": 2048000,
      "implicitDf": true,
      "rowLimit": 10000
     },
     "inputWidgets": {},
     "nuid": "611157a1-9dfa-4943-be1c-7eb70e0714bd",
     "showTitle": false,
     "tableResultSettingsMap": {},
     "title": ""
    }
   },
   "outputs": [
    {
     "output_type": "display_data",
     "data": {
      "text/html": [
       "<style scoped>\n",
       "  .table-result-container {\n",
       "    max-height: 300px;\n",
       "    overflow: auto;\n",
       "  }\n",
       "  table, th, td {\n",
       "    border: 1px solid black;\n",
       "    border-collapse: collapse;\n",
       "  }\n",
       "  th, td {\n",
       "    padding: 5px;\n",
       "  }\n",
       "  th {\n",
       "    text-align: left;\n",
       "  }\n",
       "</style><div class='table-result-container'><table class='table-result'><thead style='background-color: white'><tr><th>Media</th></tr></thead><tbody><tr><td>61935.58489304813</td></tr></tbody></table></div>"
      ]
     },
     "metadata": {
      "application/vnd.databricks.v1+output": {
       "addedWidgets": {},
       "aggData": [],
       "aggError": "",
       "aggOverflow": false,
       "aggSchema": [],
       "aggSeriesLimitReached": false,
       "aggType": "",
       "arguments": {},
       "columnCustomDisplayInfos": {},
       "data": [
        [
         61935.58489304813
        ]
       ],
       "datasetInfos": [],
       "dbfsResultPath": null,
       "isJsonSchema": true,
       "metadata": {},
       "overflow": false,
       "plotOptions": {
        "customPlotOptions": {},
        "displayType": "table",
        "pivotAggregation": null,
        "pivotColumns": null,
        "xColumns": null,
        "yColumns": null
       },
       "removedWidgets": [],
       "schema": [
        {
         "metadata": "{}",
         "name": "Media",
         "type": "\"double\""
        }
       ],
       "type": "table"
      }
     },
     "output_type": "display_data"
    }
   ],
   "source": [
    "%sql\n",
    "select avg(numVotes) as Media from gold.estudo where startYear between '2020' and '2025'"
   ]
  },
  {
   "cell_type": "markdown",
   "metadata": {
    "application/vnd.databricks.v1+cell": {
     "cellMetadata": {
      "byteLimit": 2048000,
      "rowLimit": 10000
     },
     "inputWidgets": {},
     "nuid": "5ca07409-dca2-472a-a666-ca5b4352559e",
     "showTitle": false,
     "tableResultSettingsMap": {},
     "title": ""
    }
   },
   "source": [
    "A média de votos nos últimos 5 anos foi de aproximadamente 61935."
   ]
  }
 ],
 "metadata": {
  "application/vnd.databricks.v1+notebook": {
   "computePreferences": null,
   "dashboards": [],
   "environmentMetadata": {
    "base_environment": "",
    "environment_version": "1"
   },
   "inputWidgetPreferences": null,
   "language": "python",
   "notebookMetadata": {
    "mostRecentlyExecutedCommandWithImplicitDF": {
     "commandId": 585493171246617,
     "dataframes": [
      "_sqldf"
     ]
    },
    "pythonIndentUnit": 4
   },
   "notebookName": "MVP - Engenharia de Dados",
   "widgets": {}
  }
 },
 "nbformat": 4,
 "nbformat_minor": 0
}
